{
 "cells": [
  {
   "cell_type": "code",
   "execution_count": null,
   "metadata": {
    "slideshow": {
     "slide_type": "skip"
    }
   },
   "outputs": [],
   "source": [
    "%%capture\n",
    "import sys\n",
    "if 'google.colab' in sys.modules:\n",
    "    !pip install covasim optuna\n",
    "    !git clone https://github.com/mazzio97/EpidemicModelLearning.git\n",
    "    sys.path.append('EpidemicModelLearning')\n",
    "    sys.path.append('EpidemicModelLearning/notebooks')\n",
    "    sys.path.append('EpidemicModelLearning/notebooks/util')"
   ]
  },
  {
   "cell_type": "markdown",
   "metadata": {
    "slideshow": {
     "slide_type": "slide"
    }
   },
   "source": [
    "# Calibration"
   ]
  },
  {
   "cell_type": "code",
   "execution_count": null,
   "metadata": {
    "pycharm": {
     "name": "#%%\n"
    },
    "slideshow": {
     "slide_type": "subslide"
    }
   },
   "outputs": [],
   "source": [
    "import pandas as pd\n",
    "import seaborn as sns\n",
    "import matplotlib.pyplot as plt\n",
    "import covasim as cv\n",
    "from util import data, calibration\n",
    "\n",
    "sns.set_context('notebook')\n",
    "sns.set_style('whitegrid')\n",
    "\n",
    "pop_size = 450e3\n",
    "pop_scale = 10\n",
    "df = data.get_regional_data(scaling_factor=4.46e6/pop_size)\n",
    "\n",
    "cols = set(df.columns) - {'date', 'new_tests'}\n",
    "n_runs = 3\n",
    "n_trials = 300\n",
    "\n",
    "sample_weight = calibration.get_sample_weights(df, 'proportional')\n",
    "custom_estimator = calibration.get_custom_estimator('mse', sample_weight)"
   ]
  },
  {
   "cell_type": "code",
   "execution_count": null,
   "metadata": {
    "slideshow": {
     "slide_type": "subslide"
    }
   },
   "outputs": [],
   "source": [
    "_, axes = plt.subplots(2, 2, figsize=(14, 8), sharex=True)\n",
    "\n",
    "sns.lineplot(data=df, x='date', y='new_tests', ax=axes[0, 0]).set(title='New Tests', ylabel='')\n",
    "sns.lineplot(data=df, x='date', y='cum_diagnoses', ax=axes[0, 1]).set(title='Cumulative Cases', ylabel='')\n",
    "sns.lineplot(data=df, x='date', y='cum_deaths', ax=axes[1, 0]).set(title='Cumulative Deaths', ylabel='')\n",
    "sns.lineplot(data=df, x='date', y='n_severe', label='n_severe', ax=axes[1, 1]).set(title='Active Cases')\n",
    "sns.lineplot(data=df, x='date', y='n_critical', label='n_critical', ax=axes[1, 1]).set(ylabel='')\n",
    "\n",
    "plt.tight_layout()"
   ]
  },
  {
   "cell_type": "code",
   "execution_count": null,
   "metadata": {
    "pycharm": {
     "name": "#%%\n"
    },
    "slideshow": {
     "slide_type": "subslide"
    }
   },
   "outputs": [],
   "source": [
    "default_params = dict(\n",
    "    pop_type='hybrid',\n",
    "    location='italy',\n",
    "    start_day=df['date'].iloc[0],\n",
    "    end_day=df['date'].iloc[-1],\n",
    "    pop_size=pop_size / pop_scale,\n",
    "    pop_scale=pop_scale,\n",
    "    rescale=True,\n",
    "    n_beds_hosp=pop_size * 370.4 / 100e3,\n",
    "    n_beds_icu=pop_size * 14.46 / 100e3,\n",
    "    quar_period=14,\n",
    "    verbose=0\n",
    ")"
   ]
  },
  {
   "cell_type": "code",
   "execution_count": null,
   "metadata": {
    "pycharm": {
     "name": "#%%\n"
    },
    "slideshow": {
     "slide_type": "subslide"
    }
   },
   "outputs": [],
   "source": [
    "constraint_orderings = [\n",
    "    ('yellow_work_contacts', 'orange_work_contacts', 'red_work_contacts'),\n",
    "    ('yellow_school_contacts', 'orange_school_contacts'),\n",
    "    ('yellow_casual_contacts', 'orange_casual_contacts', 'red_casual_contacts'),\n",
    "    ('init_imports', 'yellow_imports', 'orange_imports', 'red_imports'),\n",
    "    ('init_beta', 'summer_beta'),\n",
    "    ('winter_beta', 'summer_beta')\n",
    "]\n",
    "\n",
    "def objective(trial):\n",
    "    # define learnable parameters\n",
    "    initial_params = dict(\n",
    "        pop_infected=trial.suggest_int('pop_infected', pop_size // 1e4, pop_size // 1e2, step=5),\n",
    "        **default_params\n",
    "    )\n",
    "    intervention_params = dict(\n",
    "        # CONTACT TRACING\n",
    "        trace_prob=trial.suggest_float('trace_prob', 0.3, 0.9, step=1e-2),\n",
    "        trace_time=trial.suggest_float('trace_time', 1.0, 7.0, step=1e-1),\n",
    "        # SMART WORKING\n",
    "        yellow_work_contacts=trial.suggest_float('yellow_work_contacts', 0.8, 1.0, step=1e-2),\n",
    "        orange_work_contacts=trial.suggest_float('orange_work_contacts', 0.6, 1.0, step=1e-2),\n",
    "        red_work_contacts=trial.suggest_float('red_work_contacts', 0.4, 0.9, step=1e-2),\n",
    "        # SCHOOLS CLOSED\n",
    "        yellow_school_contacts=trial.suggest_float('yellow_school_contacts', 0.4, 1.0, step=1e-2),\n",
    "        orange_school_contacts=trial.suggest_float('orange_school_contacts', 0.4, 1.0, step=1e-2),\n",
    "        # LOCKDOWN INTERVENTION\n",
    "        yellow_casual_contacts=trial.suggest_float('yellow_casual_contacts', 0.6, 1.0, step=1e-2),\n",
    "        orange_casual_contacts=trial.suggest_float('orange_casual_contacts', 0.2, 0.9, step=1e-2),\n",
    "        red_casual_contacts=trial.suggest_float('red_casual_contacts', 0.0, 0.6, step=1e-2),\n",
    "        # IMPORTED CASES\n",
    "        init_imports=trial.suggest_float('init_imports', 5.0, 20.0, step=1e-1),\n",
    "        yellow_imports=trial.suggest_float('yellow_imports', 4.0, 12.0, step=1e-1),\n",
    "        orange_imports=trial.suggest_float('orange_imports', 2.0, 8.0, step=1e-1),\n",
    "        red_imports=trial.suggest_float('red_imports', 0.0, 4.0, step=1e-1),\n",
    "        # VIRAL LOAD REDUCTION\n",
    "        init_beta=trial.suggest_float('init_beta', 0.01, 0.04, step=None),\n",
    "        summer_beta=trial.suggest_float('summer_beta', 0.002, 0.02, step=None),\n",
    "        winter_beta=trial.suggest_float('winter_beta', 0.01, 0.04, step=None),\n",
    "        init_symp=trial.suggest_float('init_symp', 0.5, 5.0, log=True),\n",
    "        init_sev=trial.suggest_float('init_sev', 0.5, 5.0, log=True),\n",
    "        init_crit=trial.suggest_float('init_crit', 0.5, 5.0, log=True),\n",
    "        init_death=trial.suggest_float('init_death', 0.5, 5.0, log=True)\n",
    "    )\n",
    "    # define and run simulations\n",
    "    intervs = interventions.Interventions(df['date'].iloc[0], **intervention_params).get_all()\n",
    "    sim = cv.Sim(pars=initial_params, interventions=intervs, datafile=df)\n",
    "    msim = cv.MultiSim(sim)\n",
    "    msim.run(n_runs=n_runs)\n",
    "    # compute loss\n",
    "    weights = {c: 1 for c in cols}\n",
    "    mismatches = [s.compute_fit(keys=cols, weights=weights, estimator=custom_estimator).mismatch for s in msim.sims]\n",
    "    violation = calibration.compute_violation(intervention_params, constraint_orderings)\n",
    "    return sum(mismatches) / n_runs\n",
    "\n",
    "study = op.create_study()\n",
    "study.optimize(func=objective, n_trials=n_trials)"
   ]
  },
  {
   "cell_type": "code",
   "execution_count": null,
   "metadata": {
    "slideshow": {
     "slide_type": "subslide"
    }
   },
   "outputs": [],
   "source": [
    "results = pd.DataFrame([dict(objective=t.value, **t.params) for t in study.trials]).sort_values('objective')\n",
    "summary = results.head(n_trials // 20).describe().loc[['count', 'min', 'max']]\n",
    "summary = summary.append(pd.Series({'objective': study.best_value, **study.best_params}, name='best'))\n",
    "summary = summary.transpose().astype({'count': 'int'})\n",
    "summary"
   ]
  },
  {
   "cell_type": "code",
   "execution_count": null,
   "metadata": {
    "pycharm": {
     "name": "#%%\n"
    },
    "slideshow": {
     "slide_type": "subslide"
    }
   },
   "outputs": [],
   "source": [
    "for id, best_params in results.iloc[:3].iterrows():\n",
    "  initial_params = {'pop_infected': best_params['pop_infected'], **default_params}\n",
    "  interv_params = {k: v for k, v in best_params.items() if k != 'pop_infected'}\n",
    "  intervs = interventions.Interventions(df['date'].iloc[0], **interv_params).get_all()\n",
    "  sim = cv.Sim(pars=initial_params, interventions=intervs, datafile=df)\n",
    "  msim = cv.MultiSim(sim)\n",
    "  msim.run(n_runs=30)\n",
    "  msim.mean()\n",
    "  print(best_params)\n",
    "  msim.plot(list(cols) + ['n_infectious', 'n_susceptible'])\n",
    "  print('\\n')"
   ]
  }
 ],
 "metadata": {
  "celltoolbar": "Slideshow",
  "kernelspec": {
   "display_name": "Python 3",
   "language": "python",
   "name": "python3"
  },
  "language_info": {
   "codemirror_mode": {
    "name": "ipython",
    "version": 3
   },
   "file_extension": ".py",
   "mimetype": "text/x-python",
   "name": "python",
   "nbconvert_exporter": "python",
   "pygments_lexer": "ipython3",
   "version": "3.7.6"
  }
 },
 "nbformat": 4,
 "nbformat_minor": 1
}