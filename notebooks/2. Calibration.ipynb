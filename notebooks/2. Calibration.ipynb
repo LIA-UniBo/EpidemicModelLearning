{
 "cells": [
  {
   "cell_type": "code",
   "execution_count": null,
   "metadata": {
    "pycharm": {
     "name": "#%%\n"
    }
   },
   "outputs": [],
   "source": [
    "import pandas as pd\n",
    "import seaborn as sns\n",
    "import matplotlib.pyplot as plt\n",
    "import covasim as cv\n",
    "from util import data\n",
    "\n",
    "sns.set_context('notebook')\n",
    "sns.set_style('whitegrid')\n",
    "\n",
    "pop_region = 4.46e6\n",
    "pop_size = 50e3\n",
    "pop_scale = 10\n",
    "\n",
    "cols = ['n_severe', 'n_critical', 'cum_deaths']\n",
    "n_runs = 3\n",
    "n_trials = 5000"
   ]
  },
  {
   "cell_type": "code",
   "execution_count": null,
   "metadata": {},
   "outputs": [],
   "source": [
    "df = data.get_regional_data(scaling_factor=pop_region/pop_size)\n",
    "# df = df[df['date'] <= pd.to_datetime('2020-05-18')]\n",
    "\n",
    "_, axes = plt.subplots(1, 3, figsize=(18, 4), sharey=False)\n",
    "\n",
    "sns.lineplot(data=df, x='date', y='new_tests', ax=axes[0]).set(title='New Tests', ylabel='')\n",
    "sns.lineplot(data=df, x='date', y='cum_deaths', ax=axes[1]).set(title='Cumulative Deaths', ylabel='')\n",
    "sns.lineplot(data=df, x='date', y='n_severe', label='n_severe', ax=axes[2]).set(title='Active Cases')\n",
    "sns.lineplot(data=df, x='date', y='n_critical', label='n_critical', ax=axes[2]).set(ylabel='')\n",
    "\n",
    "plt.tight_layout()"
   ]
  },
  {
   "cell_type": "code",
   "execution_count": null,
   "metadata": {
    "pycharm": {
     "name": "#%%\n"
    }
   },
   "outputs": [],
   "source": [
    "default_params = dict(\n",
    "    pop_type='hybrid',\n",
    "    location='italy',\n",
    "    start_day=df['date'].iloc[0],\n",
    "    end_day=df['date'].iloc[-1],\n",
    "    pop_size=pop_size / pop_scale,\n",
    "    pop_scale=pop_scale,\n",
    "    rescale=True,\n",
    "    n_beds_hosp=pop_size * 370.4 / 100e3,\n",
    "    n_beds_icu=pop_size * 14.46 / 100e3,\n",
    "    quar_period=14,\n",
    "    verbose=0\n",
    ")"
   ]
  },
  {
   "cell_type": "code",
   "execution_count": null,
   "metadata": {},
   "outputs": [],
   "source": [
    "from sklearn.metrics import r2_score\n",
    "\n",
    "def custom_estimator(y_true, y_pred):\n",
    "    return 1 - r2_score(y_true, y_pred, sample_weight=sample_weight.values)\n",
    "\n",
    "max_weight = 5\n",
    "\n",
    "sample_weight = df.set_index(['date'], drop=False)['date']\n",
    "sample_weight = sample_weight.map(lambda d: (d - pd.to_datetime('2020-09-15').date()).days)\n",
    "sample_weight = sample_weight.map(lambda d: 1 if d < 0 else max_weight)\n",
    "sample_weight"
   ]
  },
  {
   "cell_type": "code",
   "execution_count": null,
   "metadata": {
    "pycharm": {
     "name": "#%%\n"
    }
   },
   "outputs": [],
   "source": [
    "import optuna as op\n",
    "from util.interventions import get_interventions\n",
    "\n",
    "def objective(trial):\n",
    "    # define learnable parameters\n",
    "    initial_params = dict(\n",
    "        pop_infected=trial.suggest_int('init_pop_infected', 10, int(pop_size / 100), step=10),\n",
    "        n_imports=trial.suggest_float('init_n_imports', 0.0, 10.0, step=1e-1),\n",
    "        beta=trial.suggest_float('init_beta', 0.0, 0.2, step=1e-3),\n",
    "        rel_symp_prob=trial.suggest_float('init_rel_symp_prob', 0.0, 10.0, step=1e-2),\n",
    "        rel_severe_prob=trial.suggest_float('init_rel_severe_prob', 0.0, 10.0, step=1e-2),\n",
    "        rel_crit_prob=trial.suggest_float('init_rel_crit_prob', 0.0, 10.0, step=1e-2),\n",
    "        rel_death_prob=trial.suggest_float('init_rel_death_prob', 0.0, 10.0, step=1e-2),\n",
    "        **default_params\n",
    "    )\n",
    "    intervention_params = dict(\n",
    "        trace_prob=trial.suggest_float('interv_trace_prob', 0.3, 0.9, step=1e-2),                # CONTACT TRACING\n",
    "        trace_time=trial.suggest_float('interv_trace_time', 1.0, 7.0, step=1e-1),                #\n",
    "        work_contacts=trial.suggest_float('interv_work_contacts', 0.4, 1.0, step=1e-2),          # SMART WORKING\n",
    "        school_contacts=trial.suggest_float('interv_school_contacts', 0.2, 0.8, step=1e-2),      # SCHOOLS CLOSED\n",
    "        yellow_contacts=trial.suggest_float('interv_yellow_contacts', 0.4, 1.0, step=1e-2),      # LOCKDOWN INTER.\n",
    "        orange_contacts=trial.suggest_float('interv_orange_contacts', 0.2, 0.9, step=1e-2),      #\n",
    "        summer_imports=trial.suggest_float('interv_summer_imp', 0.0, 20.0, step=1e-1),           # IMPORTED CASES\n",
    "        yellow_imports=trial.suggest_float('interv_yellow_imp', 0.0, 12.0, step=1e-1),           #\n",
    "        orange_imports=trial.suggest_float('interv_orange_imp', 0.0, 8.0, step=1e-1),            #\n",
    "        summer_beta=trial.suggest_float('interv_summer_beta', 0.0, 0.2, step=1e-3),              # VIRAL LOAD RED.\n",
    "        winter_beta=trial.suggest_float('interv_winter_beta', 0.0, 0.2, step=1e-3),              #\n",
    "        summer_symp=trial.suggest_float('interv_summer_symp', 0.0, 10.0, step=1e-2),             #\n",
    "        winter_symp=trial.suggest_float('interv_winter_symp', 0.0, 10.0, step=1e-2),             #\n",
    "        summer_sev=trial.suggest_float('interv_summer_sev', 0.0, 10.0, step=1e-2),               #\n",
    "        winter_sev=trial.suggest_float('interv_winter_sev', 0.0, 10.0, step=1e-2),               #\n",
    "        summer_crit=trial.suggest_float('interv_summer_crit', 0.0, 10.0, step=1e-2),             #\n",
    "        winter_crit=trial.suggest_float('interv_winter_crit', 0.0, 10.0, step=1e-2),             #\n",
    "        summer_death=trial.suggest_float('interv_summer_death', 0.0, 10.0, step=1e-2),           #\n",
    "        winter_death=trial.suggest_float('interv_winter_death', 0.0, 10.0, step=1e-2)            #\n",
    "    )\n",
    "    # define and run simulations\n",
    "    sim = cv.Sim(pars=initial_params, interventions=get_interventions(intervention_params), datafile=df)\n",
    "    msim = cv.MultiSim(sim)\n",
    "    msim.run(n_runs=n_runs)\n",
    "    # compute loss\n",
    "    weights = {c: 1 for c in cols}\n",
    "    mismatches = [s.compute_fit(keys=cols, weights=weights, estimator=custom_estimator).mismatch for s in msim.sims]\n",
    "    return sum(mismatches) / n_runs\n",
    "\n",
    "study = op.create_study()\n",
    "study.optimize(func=objective, n_trials=n_trials)"
   ]
  },
  {
   "cell_type": "code",
   "execution_count": null,
   "metadata": {
    "pycharm": {
     "name": "#%%\n"
    }
   },
   "outputs": [],
   "source": [
    "best_params = study.best_params\n",
    "best_params"
   ]
  },
  {
   "cell_type": "code",
   "execution_count": null,
   "metadata": {},
   "outputs": [],
   "source": [
    "results = pd.DataFrame([dict(objective=t.value, **t.params) for t in study.trials])\n",
    "# results.to_csv(f'res/Pop{pop_size//1e3}k_logFalse_Full')\n",
    "results = results[results['objective'] <= results['objective'].quantile(.01)]\n",
    "results = results.describe().loc[['count', 'min', 'max']]\n",
    "results = results.append(pd.Series({'objective': study.best_value, **best_params}, name='best'))\n",
    "results = results.transpose().astype({'count': 'int'})\n",
    "results"
   ]
  },
  {
   "cell_type": "code",
   "execution_count": null,
   "metadata": {},
   "outputs": [],
   "source": [
    "initial_params = {k[5:]: v for k, v in best_params.items() if k.startswith('init_')}\n",
    "initial_params.update(default_params)\n",
    "\n",
    "intervention_params = {k[7:]: v for k, v in best_params.items() if k.startswith('interv_')}\n",
    "interventions = get_interventions(intervention_params)\n",
    "\n",
    "sim = cv.Sim(pars=initial_params, interventions=interventions, datafile=df)\n",
    "msim = cv.MultiSim(sim)\n",
    "msim.run(n_runs=30)\n",
    "\n",
    "msim.mean()\n",
    "msim.plot(cols);"
   ]
  },
  {
   "cell_type": "code",
   "execution_count": null,
   "metadata": {},
   "outputs": [],
   "source": [
    "_, axes = plt.subplots(1, 2, figsize=(18, 6), sharey=True, tight_layout=True)\n",
    "\n",
    "for col in cols:\n",
    "    sns.lineplot(data=df, x='date', y=col, label=col, ax=axes[0]).set(title='Real Data', ylabel='')\n",
    "    sns.lineplot(data=msim.results, x='date', y=col, label=col, ax=axes[1]).set(title='Simulated Data', ylabel='')"
   ]
  },
  {
   "cell_type": "code",
   "execution_count": null,
   "metadata": {},
   "outputs": [],
   "source": []
  }
 ],
 "metadata": {
  "celltoolbar": "Slideshow",
  "kernelspec": {
   "display_name": "Python 3",
   "language": "python",
   "name": "python3"
  },
  "language_info": {
   "codemirror_mode": {
    "name": "ipython",
    "version": 3
   },
   "file_extension": ".py",
   "mimetype": "text/x-python",
   "name": "python",
   "nbconvert_exporter": "python",
   "pygments_lexer": "ipython3",
   "version": "3.7.6"
  }
 },
 "nbformat": 4,
 "nbformat_minor": 1
}