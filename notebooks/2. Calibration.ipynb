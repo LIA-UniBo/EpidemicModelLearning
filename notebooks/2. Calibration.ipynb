{
 "cells": [
  {
   "cell_type": "code",
   "execution_count": null,
   "metadata": {},
   "outputs": [],
   "source": [
    "%%capture\n",
    "import sys\n",
    "if 'google.colab' in sys.modules:\n",
    "    !pip install covasim optuna\n",
    "    !git clone https://github.com/mazzio97/EpidemicModelLearning.git\n",
    "    sys.path.append('EpidemicModelLearning')\n",
    "    sys.path.append('EpidemicModelLearning/notebooks')\n",
    "    sys.path.append('EpidemicModelLearning/notebooks/util')"
   ]
  },
  {
   "cell_type": "code",
   "execution_count": null,
   "metadata": {
    "pycharm": {
     "name": "#%%\n"
    }
   },
   "outputs": [],
   "source": [
    "import pandas as pd\n",
    "import seaborn as sns\n",
    "import matplotlib.pyplot as plt\n",
    "import covasim as cv\n",
    "from util import data, calibration\n",
    "\n",
    "sns.set_context('notebook')\n",
    "sns.set_style('whitegrid')\n",
    "\n",
    "pop_size = 450e3\n",
    "pop_scale = 10\n",
    "df = data.get_regional_data(scaling_factor=4.46e6/pop_size)\n",
    "\n",
    "cols = set(df.columns) - {'date', 'new_tests'}\n",
    "n_runs = 3\n",
    "n_trials = 1000\n",
    "\n",
    "sample_weight = calibration.get_sample_weights(df, 'proportional')\n",
    "custom_estimator = calibration.get_custom_estimator('mse', sample_weight)"
   ]
  },
  {
   "cell_type": "code",
   "execution_count": null,
   "metadata": {},
   "outputs": [],
   "source": [
    "_, axes = plt.subplots(2, 2, figsize=(14, 8), sharex=True)\n",
    "\n",
    "sns.lineplot(data=df, x='date', y='new_tests', ax=axes[0, 0]).set(title='New Tests', ylabel='')\n",
    "sns.lineplot(data=df, x='date', y='cum_diagnoses', ax=axes[0, 1]).set(title='Cumulative Cases', ylabel='')\n",
    "sns.lineplot(data=df, x='date', y='cum_deaths', ax=axes[1, 0]).set(title='Cumulative Deaths', ylabel='')\n",
    "sns.lineplot(data=df, x='date', y='n_severe', label='n_severe', ax=axes[1, 1]).set(title='Active Cases')\n",
    "sns.lineplot(data=df, x='date', y='n_critical', label='n_critical', ax=axes[1, 1]).set(ylabel='')\n",
    "\n",
    "plt.tight_layout()"
   ]
  },
  {
   "cell_type": "code",
   "execution_count": null,
   "metadata": {
    "pycharm": {
     "name": "#%%\n"
    }
   },
   "outputs": [],
   "source": [
    "default_params = dict(\n",
    "    pop_type='hybrid',\n",
    "    location='italy',\n",
    "    start_day=df['date'].iloc[0],\n",
    "    end_day=df['date'].iloc[-1],\n",
    "    pop_size=pop_size / pop_scale,\n",
    "    pop_scale=pop_scale,\n",
    "    rescale=True,\n",
    "    n_beds_hosp=pop_size * 370.4 / 100e3,\n",
    "    n_beds_icu=pop_size * 14.46 / 100e3,\n",
    "    quar_period=14,\n",
    "    verbose=0\n",
    ")"
   ]
  },
  {
   "cell_type": "code",
   "execution_count": null,
   "metadata": {
    "pycharm": {
     "name": "#%%\n"
    }
   },
   "outputs": [],
   "source": [
    "import optuna as op\n",
    "from util.interventions import get_interventions\n",
    "\n",
    "constraint_orderings = [\n",
    "    ('winter_beta', 'beta', 'summer_beta'),\n",
    "    ('winter_symp', 'rel_symp_prob', 'summer_symp'),\n",
    "    ('winter_sev', 'rel_severe_prob', 'summer_sev'),\n",
    "    ('winter_crit', 'rel_crit_prob', 'summer_crit'),\n",
    "    ('winter_death', 'rel_death_prob', 'summer_death'),\n",
    "    ('yellow_contacts', 'orange_contacts'),\n",
    "    ('white_imp', 'yellow_imp', 'orange_imp')\n",
    "]\n",
    "\n",
    "def objective(trial):\n",
    "    # define learnable parameters\n",
    "    initial_params = dict(\n",
    "        pop_infected=trial.suggest_int('init_pop_infected', pop_size // 1e4, pop_size // 1e2, step=5),\n",
    "        n_imports=trial.suggest_float('init_n_imports', 5.0, 20.0, step=1e-1),\n",
    "        rel_symp_prob=trial.suggest_float('init_rel_symp_prob', 0.5, 5.0, log=True),\n",
    "        rel_severe_prob=trial.suggest_float('init_rel_severe_prob', 0.5, 5.0, log=True),\n",
    "        rel_crit_prob=trial.suggest_float('init_rel_crit_prob', 0.5, 5.0, log=True),\n",
    "        rel_death_prob=trial.suggest_float('init_rel_death_prob', 0.5, 5.0, log=True),\n",
    "        beta=trial.suggest_float('init_beta', 0.01, 0.04, step=None),\n",
    "        **default_params\n",
    "    )\n",
    "    intervention_params = dict(\n",
    "        trace_prob=trial.suggest_float('interv_trace_prob', 0.3, 0.9, step=1e-2),           # CONTACT TRACING\n",
    "        trace_time=trial.suggest_float('interv_trace_time', 1.0, 7.0, step=1e-1),           #\n",
    "        work_contacts=trial.suggest_float('interv_work_contacts', 0.4, 1.0, step=1e-2),     # SMART WORKING\n",
    "        school_contacts=trial.suggest_float('interv_school_contacts', 0.2, 0.8, step=1e-2), # SCHOOLS CLOSED\n",
    "        yellow_contacts=trial.suggest_float('interv_yellow_contacts', 0.4, 1.0, step=1e-2), # LOCKDOWN INTER.\n",
    "        orange_contacts=trial.suggest_float('interv_orange_contacts', 0.2, 0.9, step=1e-2), #\n",
    "        white_imp=trial.suggest_float('interv_white_imp', 5.0, 20.0, step=1e-1),            # IMPORTED CASES\n",
    "        yellow_imp=trial.suggest_float('interv_yellow_imp', 3.0, 12.0, step=1e-1),          #\n",
    "        orange_imp=trial.suggest_float('interv_orange_imp', 2.0, 8.0, step=1e-1),           #\n",
    "        summer_beta=trial.suggest_float('interv_summer_beta', 0.0, 0.01, step=None),        # VIRAL LOAD RED.\n",
    "        winter_beta=trial.suggest_float('interv_winter_beta', 0.01, 0.04, step=None),       #\n",
    "        summer_symp=trial.suggest_float('interv_summer_symp', 0.5, 5.0, log=True),          #\n",
    "        winter_symp=trial.suggest_float('interv_winter_symp', 0.5, 5.0, log=True),          #\n",
    "        summer_sev=trial.suggest_float('interv_summer_sev', 0.5, 5.0, log=True),            #\n",
    "        winter_sev=trial.suggest_float('interv_winter_sev', 0.5, 5.0, log=True),            #\n",
    "        summer_crit=trial.suggest_float('interv_summer_crit', 0.5, 5.0, log=True),          #\n",
    "        winter_crit=trial.suggest_float('interv_winter_crit', 0.5, 5.0, log=True),          #\n",
    "        summer_death=trial.suggest_float('interv_summer_death', 0.5, 5.0, log=True),        #\n",
    "        winter_death=trial.suggest_float('interv_winter_death', 0.5, 5.0, log=True)         #\n",
    "    )\n",
    "    # define and run simulations\n",
    "    sim = cv.Sim(pars=initial_params, interventions=get_interventions(intervention_params), datafile=df)\n",
    "    msim = cv.MultiSim(sim)\n",
    "    msim.run(n_runs=n_runs)\n",
    "    # compute loss\n",
    "    weights = {c: 1 for c in cols}\n",
    "    mismatches = [s.compute_fit(keys=cols, weights=weights, estimator=custom_estimator).mismatch for s in msim.sims]\n",
    "    violation = calibration.compute_violation({**initial_params, **intervention_params}, constraint_orderings)\n",
    "    return sum(mismatches) / n_runs\n",
    "\n",
    "study = op.create_study()\n",
    "study.optimize(func=objective, n_trials=n_trials)"
   ]
  },
  {
   "cell_type": "code",
   "execution_count": null,
   "metadata": {},
   "outputs": [],
   "source": [
    "results = pd.DataFrame([dict(objective=t.value, **t.params) for t in study.trials]).sort_values('objective')\n",
    "summary = results.head(n_trials // 20).describe().loc[['count', 'min', 'max']]\n",
    "summary = summary.append(pd.Series({'objective': study.best_value, **study.best_params}, name='best'))\n",
    "summary = summary.transpose().astype({'count': 'int'})\n",
    "summary"
   ]
  },
  {
   "cell_type": "code",
   "execution_count": null,
   "metadata": {},
   "outputs": [],
   "source": [
    "for id, best_params in results.iterrows():\n",
    "  initial_params = {k[5:]: v for k, v in best_params.items() if k.startswith('init_')}\n",
    "  initial_params.update(default_params)\n",
    "  intervention_params = {k[7:]: v for k, v in best_params.items() if k.startswith('interv_')}\n",
    "  interventions = get_interventions(intervention_params)\n",
    "  sim = cv.Sim(pars=initial_params, interventions=interventions, datafile=df)\n",
    "  msim = cv.MultiSim(sim)\n",
    "  msim.run(n_runs=10)\n",
    "  msim.mean()\n",
    "  print('RUN:', id)\n",
    "  msim.plot(list(cols) + ['n_infectious', 'n_susceptible'])\n",
    "  print('\\n')"
   ]
  },
  {
   "cell_type": "code",
   "execution_count": null,
   "metadata": {},
   "outputs": [],
   "source": []
  }
 ],
 "metadata": {
  "celltoolbar": "Slideshow",
  "kernelspec": {
   "display_name": "Python 3",
   "language": "python",
   "name": "python3"
  },
  "language_info": {
   "codemirror_mode": {
    "name": "ipython",
    "version": 3
   },
   "file_extension": ".py",
   "mimetype": "text/x-python",
   "name": "python",
   "nbconvert_exporter": "python",
   "pygments_lexer": "ipython3",
   "version": "3.7.6"
  }
 },
 "nbformat": 4,
 "nbformat_minor": 1
}
