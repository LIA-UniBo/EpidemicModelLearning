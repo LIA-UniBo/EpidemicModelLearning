{
 "cells": [
  {
   "cell_type": "code",
   "execution_count": 1,
   "metadata": {
    "collapsed": true
   },
   "outputs": [
    {
     "data": {
      "text/plain": "      hosp_0   diag_0  dead_0  hosp_1   diag_1  dead_1  hosp_2   diag_2  \\\n0       98.0   7137.0   420.0   106.0   7255.0   421.0   107.0   7344.0   \n1      224.0   9389.0   463.0   219.0   9524.0   470.0   223.0   9652.0   \n2      119.0  10800.0   556.0   109.0  10817.0   558.0   100.0  10840.0   \n3       94.0  11575.0   578.0    96.0  11674.0   580.0   106.0  11774.0   \n4      193.0  13887.0   633.0   198.0  14057.0   635.0   199.0  14202.0   \n...      ...      ...     ...     ...      ...     ...     ...      ...   \n1395   128.0  10591.0   541.0   121.0  10614.0   543.0   104.0  10628.0   \n1396    15.0  10763.0   565.0    14.0  10764.0   565.0    13.0  10765.0   \n1397    10.0  10875.0   566.0    13.0  10891.0   566.0    16.0  10903.0   \n1398    11.0  11018.0   573.0     6.0  11020.0   574.0     5.0  11022.0   \n1399    18.0  11267.0   577.0    19.0  11312.0   577.0    21.0  11339.0   \n\n      dead_2  hosp_3  ...  diag_39  dead_39  hosp_40  diag_40  dead_40  \\\n0      424.0   116.0  ...  10723.0    550.0    143.0  10759.0    552.0   \n1      474.0   227.0  ...  11416.0    576.0     78.0  11444.0    577.0   \n2      559.0    91.0  ...  13564.0    619.0    199.0  13710.0    621.0   \n3      580.0   111.0  ...  15288.0    700.0    144.0  15309.0    701.0   \n4      640.0   206.0  ...  15779.0    732.0     35.0  15807.0    734.0   \n...      ...     ...  ...      ...      ...      ...      ...      ...   \n1395   547.0    89.0  ...  10847.0    566.0      9.0  10854.0    566.0   \n1396   565.0    11.0  ...  11016.0    571.0     18.0  11017.0    571.0   \n1397   566.0    16.0  ...  11220.0    575.0     15.0  11231.0    575.0   \n1398   574.0     4.0  ...  11729.0    586.0     46.0  11750.0    588.0   \n1399   577.0    21.0  ...  12259.0    614.0     50.0  12308.0    617.0   \n\n      hosp_41  diag_41  dead_41  init_zone  actuated_zone  \n0       135.0  10778.0    553.0          Y              R  \n1        83.0  11525.0    578.0          R              W  \n2       196.0  13822.0    627.0          W              Y  \n3       138.0  15324.0    706.0          Y              R  \n4        36.0  15840.0    735.0          R              Y  \n...       ...      ...      ...        ...            ...  \n1395     10.0  10868.0    566.0          R              O  \n1396     13.0  11017.0    572.0          O              R  \n1397     14.0  11244.0    576.0          R              W  \n1398     36.0  11759.0    593.0          W              O  \n1399     48.0  12358.0    620.0          O              W  \n\n[1400 rows x 128 columns]",
      "text/html": "<div>\n<style scoped>\n    .dataframe tbody tr th:only-of-type {\n        vertical-align: middle;\n    }\n\n    .dataframe tbody tr th {\n        vertical-align: top;\n    }\n\n    .dataframe thead th {\n        text-align: right;\n    }\n</style>\n<table border=\"1\" class=\"dataframe\">\n  <thead>\n    <tr style=\"text-align: right;\">\n      <th></th>\n      <th>hosp_0</th>\n      <th>diag_0</th>\n      <th>dead_0</th>\n      <th>hosp_1</th>\n      <th>diag_1</th>\n      <th>dead_1</th>\n      <th>hosp_2</th>\n      <th>diag_2</th>\n      <th>dead_2</th>\n      <th>hosp_3</th>\n      <th>...</th>\n      <th>diag_39</th>\n      <th>dead_39</th>\n      <th>hosp_40</th>\n      <th>diag_40</th>\n      <th>dead_40</th>\n      <th>hosp_41</th>\n      <th>diag_41</th>\n      <th>dead_41</th>\n      <th>init_zone</th>\n      <th>actuated_zone</th>\n    </tr>\n  </thead>\n  <tbody>\n    <tr>\n      <th>0</th>\n      <td>98.0</td>\n      <td>7137.0</td>\n      <td>420.0</td>\n      <td>106.0</td>\n      <td>7255.0</td>\n      <td>421.0</td>\n      <td>107.0</td>\n      <td>7344.0</td>\n      <td>424.0</td>\n      <td>116.0</td>\n      <td>...</td>\n      <td>10723.0</td>\n      <td>550.0</td>\n      <td>143.0</td>\n      <td>10759.0</td>\n      <td>552.0</td>\n      <td>135.0</td>\n      <td>10778.0</td>\n      <td>553.0</td>\n      <td>Y</td>\n      <td>R</td>\n    </tr>\n    <tr>\n      <th>1</th>\n      <td>224.0</td>\n      <td>9389.0</td>\n      <td>463.0</td>\n      <td>219.0</td>\n      <td>9524.0</td>\n      <td>470.0</td>\n      <td>223.0</td>\n      <td>9652.0</td>\n      <td>474.0</td>\n      <td>227.0</td>\n      <td>...</td>\n      <td>11416.0</td>\n      <td>576.0</td>\n      <td>78.0</td>\n      <td>11444.0</td>\n      <td>577.0</td>\n      <td>83.0</td>\n      <td>11525.0</td>\n      <td>578.0</td>\n      <td>R</td>\n      <td>W</td>\n    </tr>\n    <tr>\n      <th>2</th>\n      <td>119.0</td>\n      <td>10800.0</td>\n      <td>556.0</td>\n      <td>109.0</td>\n      <td>10817.0</td>\n      <td>558.0</td>\n      <td>100.0</td>\n      <td>10840.0</td>\n      <td>559.0</td>\n      <td>91.0</td>\n      <td>...</td>\n      <td>13564.0</td>\n      <td>619.0</td>\n      <td>199.0</td>\n      <td>13710.0</td>\n      <td>621.0</td>\n      <td>196.0</td>\n      <td>13822.0</td>\n      <td>627.0</td>\n      <td>W</td>\n      <td>Y</td>\n    </tr>\n    <tr>\n      <th>3</th>\n      <td>94.0</td>\n      <td>11575.0</td>\n      <td>578.0</td>\n      <td>96.0</td>\n      <td>11674.0</td>\n      <td>580.0</td>\n      <td>106.0</td>\n      <td>11774.0</td>\n      <td>580.0</td>\n      <td>111.0</td>\n      <td>...</td>\n      <td>15288.0</td>\n      <td>700.0</td>\n      <td>144.0</td>\n      <td>15309.0</td>\n      <td>701.0</td>\n      <td>138.0</td>\n      <td>15324.0</td>\n      <td>706.0</td>\n      <td>Y</td>\n      <td>R</td>\n    </tr>\n    <tr>\n      <th>4</th>\n      <td>193.0</td>\n      <td>13887.0</td>\n      <td>633.0</td>\n      <td>198.0</td>\n      <td>14057.0</td>\n      <td>635.0</td>\n      <td>199.0</td>\n      <td>14202.0</td>\n      <td>640.0</td>\n      <td>206.0</td>\n      <td>...</td>\n      <td>15779.0</td>\n      <td>732.0</td>\n      <td>35.0</td>\n      <td>15807.0</td>\n      <td>734.0</td>\n      <td>36.0</td>\n      <td>15840.0</td>\n      <td>735.0</td>\n      <td>R</td>\n      <td>Y</td>\n    </tr>\n    <tr>\n      <th>...</th>\n      <td>...</td>\n      <td>...</td>\n      <td>...</td>\n      <td>...</td>\n      <td>...</td>\n      <td>...</td>\n      <td>...</td>\n      <td>...</td>\n      <td>...</td>\n      <td>...</td>\n      <td>...</td>\n      <td>...</td>\n      <td>...</td>\n      <td>...</td>\n      <td>...</td>\n      <td>...</td>\n      <td>...</td>\n      <td>...</td>\n      <td>...</td>\n      <td>...</td>\n      <td>...</td>\n    </tr>\n    <tr>\n      <th>1395</th>\n      <td>128.0</td>\n      <td>10591.0</td>\n      <td>541.0</td>\n      <td>121.0</td>\n      <td>10614.0</td>\n      <td>543.0</td>\n      <td>104.0</td>\n      <td>10628.0</td>\n      <td>547.0</td>\n      <td>89.0</td>\n      <td>...</td>\n      <td>10847.0</td>\n      <td>566.0</td>\n      <td>9.0</td>\n      <td>10854.0</td>\n      <td>566.0</td>\n      <td>10.0</td>\n      <td>10868.0</td>\n      <td>566.0</td>\n      <td>R</td>\n      <td>O</td>\n    </tr>\n    <tr>\n      <th>1396</th>\n      <td>15.0</td>\n      <td>10763.0</td>\n      <td>565.0</td>\n      <td>14.0</td>\n      <td>10764.0</td>\n      <td>565.0</td>\n      <td>13.0</td>\n      <td>10765.0</td>\n      <td>565.0</td>\n      <td>11.0</td>\n      <td>...</td>\n      <td>11016.0</td>\n      <td>571.0</td>\n      <td>18.0</td>\n      <td>11017.0</td>\n      <td>571.0</td>\n      <td>13.0</td>\n      <td>11017.0</td>\n      <td>572.0</td>\n      <td>O</td>\n      <td>R</td>\n    </tr>\n    <tr>\n      <th>1397</th>\n      <td>10.0</td>\n      <td>10875.0</td>\n      <td>566.0</td>\n      <td>13.0</td>\n      <td>10891.0</td>\n      <td>566.0</td>\n      <td>16.0</td>\n      <td>10903.0</td>\n      <td>566.0</td>\n      <td>16.0</td>\n      <td>...</td>\n      <td>11220.0</td>\n      <td>575.0</td>\n      <td>15.0</td>\n      <td>11231.0</td>\n      <td>575.0</td>\n      <td>14.0</td>\n      <td>11244.0</td>\n      <td>576.0</td>\n      <td>R</td>\n      <td>W</td>\n    </tr>\n    <tr>\n      <th>1398</th>\n      <td>11.0</td>\n      <td>11018.0</td>\n      <td>573.0</td>\n      <td>6.0</td>\n      <td>11020.0</td>\n      <td>574.0</td>\n      <td>5.0</td>\n      <td>11022.0</td>\n      <td>574.0</td>\n      <td>4.0</td>\n      <td>...</td>\n      <td>11729.0</td>\n      <td>586.0</td>\n      <td>46.0</td>\n      <td>11750.0</td>\n      <td>588.0</td>\n      <td>36.0</td>\n      <td>11759.0</td>\n      <td>593.0</td>\n      <td>W</td>\n      <td>O</td>\n    </tr>\n    <tr>\n      <th>1399</th>\n      <td>18.0</td>\n      <td>11267.0</td>\n      <td>577.0</td>\n      <td>19.0</td>\n      <td>11312.0</td>\n      <td>577.0</td>\n      <td>21.0</td>\n      <td>11339.0</td>\n      <td>577.0</td>\n      <td>21.0</td>\n      <td>...</td>\n      <td>12259.0</td>\n      <td>614.0</td>\n      <td>50.0</td>\n      <td>12308.0</td>\n      <td>617.0</td>\n      <td>48.0</td>\n      <td>12358.0</td>\n      <td>620.0</td>\n      <td>O</td>\n      <td>W</td>\n    </tr>\n  </tbody>\n</table>\n<p>1400 rows × 128 columns</p>\n</div>"
     },
     "execution_count": 1,
     "metadata": {},
     "output_type": "execute_result"
    }
   ],
   "source": [
    "import pandas as pd\n",
    "\n",
    "from src.dataset import process_dataset\n",
    "\n",
    "df = pd.read_csv('../res/dataset.csv')\n",
    "df"
   ]
  },
  {
   "cell_type": "code",
   "execution_count": 2,
   "outputs": [
    {
     "data": {
      "text/plain": "((1400, 53), (1400, 2))"
     },
     "execution_count": 2,
     "metadata": {},
     "output_type": "execute_result"
    }
   ],
   "source": [
    "x, y = process_dataset(df)\n",
    "x.shape, y.shape"
   ],
   "metadata": {
    "collapsed": false,
    "pycharm": {
     "name": "#%%\n"
    }
   }
  },
  {
   "cell_type": "code",
   "execution_count": null,
   "outputs": [],
   "source": [],
   "metadata": {
    "collapsed": false,
    "pycharm": {
     "name": "#%%\n"
    }
   }
  }
 ],
 "metadata": {
  "kernelspec": {
   "display_name": "Python 3",
   "language": "python",
   "name": "python3"
  },
  "language_info": {
   "codemirror_mode": {
    "name": "ipython",
    "version": 2
   },
   "file_extension": ".py",
   "mimetype": "text/x-python",
   "name": "python",
   "nbconvert_exporter": "python",
   "pygments_lexer": "ipython2",
   "version": "2.7.6"
  }
 },
 "nbformat": 4,
 "nbformat_minor": 0
}