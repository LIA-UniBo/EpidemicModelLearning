{
 "cells": [
  {
   "cell_type": "code",
   "execution_count": 1,
   "metadata": {
    "collapsed": true
   },
   "outputs": [
    {
     "data": {
      "text/plain": "    hosp_0  diag_0  dead_0  hosp_1  diag_1  dead_1  hosp_2  diag_2  dead_2  \\\n0      6.0   350.0    85.0     5.0   355.0    85.0     4.0   359.0    85.0   \n1      6.0   407.0    85.0     7.0   410.0    85.0     5.0   413.0    86.0   \n2      2.0   427.0    91.0     2.0   427.0    91.0     2.0   427.0    91.0   \n3      2.0   440.0    91.0     2.0   441.0    91.0     3.0   442.0    91.0   \n4      3.0   467.0    92.0     2.0   468.0    92.0     2.0   470.0    92.0   \n5      3.0   485.0    92.0     3.0   486.0    92.0     3.0   486.0    92.0   \n6      2.0   521.0    93.0     2.0   523.0    93.0     1.0   525.0    94.0   \n7      7.0   328.0    73.0     6.0   331.0    73.0     6.0   337.0    73.0   \n8      2.0   343.0    75.0     1.0   343.0    75.0     0.0   343.0    75.0   \n9      6.0   363.0    75.0     6.0   364.0    75.0     6.0   364.0    76.0   \n10     2.0   378.0    79.0     0.0   378.0    79.0     0.0   379.0    79.0   \n11     1.0   403.0    79.0     0.0   405.0    79.0     0.0   407.0    79.0   \n12     3.0   433.0    80.0     3.0   433.0    80.0     1.0   435.0    81.0   \n13     1.0   455.0    81.0     2.0   456.0    81.0     2.0   457.0    81.0   \n\n    hosp_3  ...  diag_39  dead_39  hosp_40  diag_40  dead_40  hosp_41  \\\n0      4.0  ...    426.0     91.0      2.0    427.0     91.0      2.0   \n1      6.0  ...    436.0     91.0      1.0    437.0     91.0      1.0   \n2      1.0  ...    461.0     92.0      3.0    465.0     92.0      3.0   \n3      4.0  ...    482.0     92.0      2.0    484.0     92.0      2.0   \n4      1.0  ...    517.0     93.0      2.0    519.0     93.0      2.0   \n5      4.0  ...    551.0     95.0      3.0    552.0     96.0      3.0   \n6      1.0  ...    568.0     97.0      6.0    571.0     98.0      6.0   \n7      7.0  ...    361.0     75.0      4.0    362.0     75.0      5.0   \n8      0.0  ...    377.0     79.0      2.0    377.0     79.0      2.0   \n9      4.0  ...    400.0     79.0      1.0    401.0     79.0      1.0   \n10     0.0  ...    431.0     79.0      6.0    432.0     79.0      6.0   \n11     1.0  ...    452.0     81.0      1.0    454.0     81.0      1.0   \n12     1.0  ...    474.0     83.0      1.0    474.0     83.0      1.0   \n13     3.0  ...    490.0     83.0      2.0    490.0     83.0      2.0   \n\n    diag_41  dead_41  init_zone  actuated_zone  \n0     427.0     91.0          W              R  \n1     438.0     91.0          R              Y  \n2     466.0     92.0          Y              O  \n3     485.0     92.0          O              O  \n4     521.0     93.0          O              W  \n5     553.0     96.0          W              Y  \n6     573.0     98.0          Y              Y  \n7     363.0     75.0          R              W  \n8     377.0     79.0          W              O  \n9     402.0     79.0          O              Y  \n10    432.0     79.0          Y              Y  \n11    454.0     81.0          Y              O  \n12    475.0     83.0          O              O  \n13    492.0     83.0          O              O  \n\n[14 rows x 128 columns]",
      "text/html": "<div>\n<style scoped>\n    .dataframe tbody tr th:only-of-type {\n        vertical-align: middle;\n    }\n\n    .dataframe tbody tr th {\n        vertical-align: top;\n    }\n\n    .dataframe thead th {\n        text-align: right;\n    }\n</style>\n<table border=\"1\" class=\"dataframe\">\n  <thead>\n    <tr style=\"text-align: right;\">\n      <th></th>\n      <th>hosp_0</th>\n      <th>diag_0</th>\n      <th>dead_0</th>\n      <th>hosp_1</th>\n      <th>diag_1</th>\n      <th>dead_1</th>\n      <th>hosp_2</th>\n      <th>diag_2</th>\n      <th>dead_2</th>\n      <th>hosp_3</th>\n      <th>...</th>\n      <th>diag_39</th>\n      <th>dead_39</th>\n      <th>hosp_40</th>\n      <th>diag_40</th>\n      <th>dead_40</th>\n      <th>hosp_41</th>\n      <th>diag_41</th>\n      <th>dead_41</th>\n      <th>init_zone</th>\n      <th>actuated_zone</th>\n    </tr>\n  </thead>\n  <tbody>\n    <tr>\n      <th>0</th>\n      <td>6.0</td>\n      <td>350.0</td>\n      <td>85.0</td>\n      <td>5.0</td>\n      <td>355.0</td>\n      <td>85.0</td>\n      <td>4.0</td>\n      <td>359.0</td>\n      <td>85.0</td>\n      <td>4.0</td>\n      <td>...</td>\n      <td>426.0</td>\n      <td>91.0</td>\n      <td>2.0</td>\n      <td>427.0</td>\n      <td>91.0</td>\n      <td>2.0</td>\n      <td>427.0</td>\n      <td>91.0</td>\n      <td>W</td>\n      <td>R</td>\n    </tr>\n    <tr>\n      <th>1</th>\n      <td>6.0</td>\n      <td>407.0</td>\n      <td>85.0</td>\n      <td>7.0</td>\n      <td>410.0</td>\n      <td>85.0</td>\n      <td>5.0</td>\n      <td>413.0</td>\n      <td>86.0</td>\n      <td>6.0</td>\n      <td>...</td>\n      <td>436.0</td>\n      <td>91.0</td>\n      <td>1.0</td>\n      <td>437.0</td>\n      <td>91.0</td>\n      <td>1.0</td>\n      <td>438.0</td>\n      <td>91.0</td>\n      <td>R</td>\n      <td>Y</td>\n    </tr>\n    <tr>\n      <th>2</th>\n      <td>2.0</td>\n      <td>427.0</td>\n      <td>91.0</td>\n      <td>2.0</td>\n      <td>427.0</td>\n      <td>91.0</td>\n      <td>2.0</td>\n      <td>427.0</td>\n      <td>91.0</td>\n      <td>1.0</td>\n      <td>...</td>\n      <td>461.0</td>\n      <td>92.0</td>\n      <td>3.0</td>\n      <td>465.0</td>\n      <td>92.0</td>\n      <td>3.0</td>\n      <td>466.0</td>\n      <td>92.0</td>\n      <td>Y</td>\n      <td>O</td>\n    </tr>\n    <tr>\n      <th>3</th>\n      <td>2.0</td>\n      <td>440.0</td>\n      <td>91.0</td>\n      <td>2.0</td>\n      <td>441.0</td>\n      <td>91.0</td>\n      <td>3.0</td>\n      <td>442.0</td>\n      <td>91.0</td>\n      <td>4.0</td>\n      <td>...</td>\n      <td>482.0</td>\n      <td>92.0</td>\n      <td>2.0</td>\n      <td>484.0</td>\n      <td>92.0</td>\n      <td>2.0</td>\n      <td>485.0</td>\n      <td>92.0</td>\n      <td>O</td>\n      <td>O</td>\n    </tr>\n    <tr>\n      <th>4</th>\n      <td>3.0</td>\n      <td>467.0</td>\n      <td>92.0</td>\n      <td>2.0</td>\n      <td>468.0</td>\n      <td>92.0</td>\n      <td>2.0</td>\n      <td>470.0</td>\n      <td>92.0</td>\n      <td>1.0</td>\n      <td>...</td>\n      <td>517.0</td>\n      <td>93.0</td>\n      <td>2.0</td>\n      <td>519.0</td>\n      <td>93.0</td>\n      <td>2.0</td>\n      <td>521.0</td>\n      <td>93.0</td>\n      <td>O</td>\n      <td>W</td>\n    </tr>\n    <tr>\n      <th>5</th>\n      <td>3.0</td>\n      <td>485.0</td>\n      <td>92.0</td>\n      <td>3.0</td>\n      <td>486.0</td>\n      <td>92.0</td>\n      <td>3.0</td>\n      <td>486.0</td>\n      <td>92.0</td>\n      <td>4.0</td>\n      <td>...</td>\n      <td>551.0</td>\n      <td>95.0</td>\n      <td>3.0</td>\n      <td>552.0</td>\n      <td>96.0</td>\n      <td>3.0</td>\n      <td>553.0</td>\n      <td>96.0</td>\n      <td>W</td>\n      <td>Y</td>\n    </tr>\n    <tr>\n      <th>6</th>\n      <td>2.0</td>\n      <td>521.0</td>\n      <td>93.0</td>\n      <td>2.0</td>\n      <td>523.0</td>\n      <td>93.0</td>\n      <td>1.0</td>\n      <td>525.0</td>\n      <td>94.0</td>\n      <td>1.0</td>\n      <td>...</td>\n      <td>568.0</td>\n      <td>97.0</td>\n      <td>6.0</td>\n      <td>571.0</td>\n      <td>98.0</td>\n      <td>6.0</td>\n      <td>573.0</td>\n      <td>98.0</td>\n      <td>Y</td>\n      <td>Y</td>\n    </tr>\n    <tr>\n      <th>7</th>\n      <td>7.0</td>\n      <td>328.0</td>\n      <td>73.0</td>\n      <td>6.0</td>\n      <td>331.0</td>\n      <td>73.0</td>\n      <td>6.0</td>\n      <td>337.0</td>\n      <td>73.0</td>\n      <td>7.0</td>\n      <td>...</td>\n      <td>361.0</td>\n      <td>75.0</td>\n      <td>4.0</td>\n      <td>362.0</td>\n      <td>75.0</td>\n      <td>5.0</td>\n      <td>363.0</td>\n      <td>75.0</td>\n      <td>R</td>\n      <td>W</td>\n    </tr>\n    <tr>\n      <th>8</th>\n      <td>2.0</td>\n      <td>343.0</td>\n      <td>75.0</td>\n      <td>1.0</td>\n      <td>343.0</td>\n      <td>75.0</td>\n      <td>0.0</td>\n      <td>343.0</td>\n      <td>75.0</td>\n      <td>0.0</td>\n      <td>...</td>\n      <td>377.0</td>\n      <td>79.0</td>\n      <td>2.0</td>\n      <td>377.0</td>\n      <td>79.0</td>\n      <td>2.0</td>\n      <td>377.0</td>\n      <td>79.0</td>\n      <td>W</td>\n      <td>O</td>\n    </tr>\n    <tr>\n      <th>9</th>\n      <td>6.0</td>\n      <td>363.0</td>\n      <td>75.0</td>\n      <td>6.0</td>\n      <td>364.0</td>\n      <td>75.0</td>\n      <td>6.0</td>\n      <td>364.0</td>\n      <td>76.0</td>\n      <td>4.0</td>\n      <td>...</td>\n      <td>400.0</td>\n      <td>79.0</td>\n      <td>1.0</td>\n      <td>401.0</td>\n      <td>79.0</td>\n      <td>1.0</td>\n      <td>402.0</td>\n      <td>79.0</td>\n      <td>O</td>\n      <td>Y</td>\n    </tr>\n    <tr>\n      <th>10</th>\n      <td>2.0</td>\n      <td>378.0</td>\n      <td>79.0</td>\n      <td>0.0</td>\n      <td>378.0</td>\n      <td>79.0</td>\n      <td>0.0</td>\n      <td>379.0</td>\n      <td>79.0</td>\n      <td>0.0</td>\n      <td>...</td>\n      <td>431.0</td>\n      <td>79.0</td>\n      <td>6.0</td>\n      <td>432.0</td>\n      <td>79.0</td>\n      <td>6.0</td>\n      <td>432.0</td>\n      <td>79.0</td>\n      <td>Y</td>\n      <td>Y</td>\n    </tr>\n    <tr>\n      <th>11</th>\n      <td>1.0</td>\n      <td>403.0</td>\n      <td>79.0</td>\n      <td>0.0</td>\n      <td>405.0</td>\n      <td>79.0</td>\n      <td>0.0</td>\n      <td>407.0</td>\n      <td>79.0</td>\n      <td>1.0</td>\n      <td>...</td>\n      <td>452.0</td>\n      <td>81.0</td>\n      <td>1.0</td>\n      <td>454.0</td>\n      <td>81.0</td>\n      <td>1.0</td>\n      <td>454.0</td>\n      <td>81.0</td>\n      <td>Y</td>\n      <td>O</td>\n    </tr>\n    <tr>\n      <th>12</th>\n      <td>3.0</td>\n      <td>433.0</td>\n      <td>80.0</td>\n      <td>3.0</td>\n      <td>433.0</td>\n      <td>80.0</td>\n      <td>1.0</td>\n      <td>435.0</td>\n      <td>81.0</td>\n      <td>1.0</td>\n      <td>...</td>\n      <td>474.0</td>\n      <td>83.0</td>\n      <td>1.0</td>\n      <td>474.0</td>\n      <td>83.0</td>\n      <td>1.0</td>\n      <td>475.0</td>\n      <td>83.0</td>\n      <td>O</td>\n      <td>O</td>\n    </tr>\n    <tr>\n      <th>13</th>\n      <td>1.0</td>\n      <td>455.0</td>\n      <td>81.0</td>\n      <td>2.0</td>\n      <td>456.0</td>\n      <td>81.0</td>\n      <td>2.0</td>\n      <td>457.0</td>\n      <td>81.0</td>\n      <td>3.0</td>\n      <td>...</td>\n      <td>490.0</td>\n      <td>83.0</td>\n      <td>2.0</td>\n      <td>490.0</td>\n      <td>83.0</td>\n      <td>2.0</td>\n      <td>492.0</td>\n      <td>83.0</td>\n      <td>O</td>\n      <td>O</td>\n    </tr>\n  </tbody>\n</table>\n<p>14 rows × 128 columns</p>\n</div>"
     },
     "execution_count": 1,
     "metadata": {},
     "output_type": "execute_result"
    }
   ],
   "source": [
    "import pandas as pd\n",
    "\n",
    "from src.dataset import process_dataset\n",
    "\n",
    "df = pd.read_csv('../res/dataset.csv')\n",
    "df"
   ]
  },
  {
   "cell_type": "code",
   "execution_count": 3,
   "outputs": [
    {
     "data": {
      "text/plain": "((14, 53), (14, 2))"
     },
     "execution_count": 3,
     "metadata": {},
     "output_type": "execute_result"
    }
   ],
   "source": [
    "x, y = process_dataset(df)\n",
    "x.shape, y.shape"
   ],
   "metadata": {
    "collapsed": false,
    "pycharm": {
     "name": "#%%\n"
    }
   }
  },
  {
   "cell_type": "code",
   "execution_count": null,
   "outputs": [],
   "source": [],
   "metadata": {
    "collapsed": false,
    "pycharm": {
     "name": "#%%\n"
    }
   }
  }
 ],
 "metadata": {
  "kernelspec": {
   "display_name": "Python 3",
   "language": "python",
   "name": "python3"
  },
  "language_info": {
   "codemirror_mode": {
    "name": "ipython",
    "version": 2
   },
   "file_extension": ".py",
   "mimetype": "text/x-python",
   "name": "python",
   "nbconvert_exporter": "python",
   "pygments_lexer": "ipython2",
   "version": "2.7.6"
  }
 },
 "nbformat": 4,
 "nbformat_minor": 0
}