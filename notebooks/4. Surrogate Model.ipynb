{
 "cells": [
  {
   "cell_type": "code",
   "execution_count": null,
   "metadata": {
    "slideshow": {
     "slide_type": "skip"
    }
   },
   "outputs": [],
   "source": [
    "import time\n",
    "import pandas as pd\n",
    "import seaborn as sns\n",
    "import matplotlib.pyplot as plt\n",
    "from sklearn.metrics import mean_squared_error, r2_score\n",
    "from tensorflow.keras import Sequential\n",
    "from tensorflow.keras.layers import Dense\n",
    "from tensorflow.keras.callbacks import EarlyStopping\n",
    "\n",
    "from src.comb import incremental_levels\n",
    "from src.dataset import process_dataset\n",
    "\n",
    "sns.set_context('notebook')\n",
    "sns.set_style('whitegrid')\n",
    "\n",
    "NUM_LAYERS = 3\n",
    "NUM_UNITS = [8, 16, 32]\n",
    "EPOCHS = 1000"
   ]
  },
  {
   "cell_type": "code",
   "execution_count": null,
   "metadata": {
    "slideshow": {
     "slide_type": "-"
    }
   },
   "outputs": [],
   "source": [
    "df = pd.read_csv('../res/dataset.csv')\n",
    "df"
   ]
  },
  {
   "cell_type": "code",
   "execution_count": null,
   "metadata": {
    "slideshow": {
     "slide_type": "-"
    }
   },
   "outputs": [],
   "source": [
    "(xtr, ytr), (xvl, yvl), _ = process_dataset(df, val_split=0.2)\n",
    "print(f'x train: {xtr.shape}, x val: {xvl.shape}')\n",
    "print(f'y train: {ytr.shape}, y val: {yvl.shape}')"
   ]
  },
  {
   "cell_type": "code",
   "execution_count": null,
   "metadata": {
    "slideshow": {
     "slide_type": "-"
    }
   },
   "outputs": [],
   "source": [
    "scores = {}\n",
    "configurations = incremental_levels(num_levels=NUM_LAYERS, parameters=NUM_UNITS)\n",
    "\n",
    "for idx, config in enumerate(configurations):\n",
    "    print(f'Model {idx + 1:0{len(str(len(configurations)))}}/{len(configurations)}', end='')\n",
    "    start_time = time.time()\n",
    "    early_stopping = EarlyStopping(monitor='val_loss', patience=100, restore_best_weights=True)\n",
    "    model = Sequential([Dense(hu, activation='relu') for hu in config] + [Dense(2)])\n",
    "    model.compile(optimizer='adam', loss='mse')\n",
    "    model.fit(xtr, ytr, validation_split=0.2, epochs=EPOCHS, callbacks=[early_stopping], verbose=False)\n",
    "    ptr, pvl = model.predict(xtr), model.predict(xvl)\n",
    "    config = config + (0,) * NUM_LAYERS\n",
    "    scores[config[:NUM_LAYERS]] = {\n",
    "        'train_mse': mean_squared_error(ytr, ptr),\n",
    "        'train_r2': r2_score(ytr, ptr),\n",
    "        'val_mse': mean_squared_error(yvl, pvl),\n",
    "        'val_r2': r2_score(yvl, pvl)\n",
    "    }\n",
    "    print(f' -- elapsed time: {time.time() - start_time:.4}s')"
   ]
  },
  {
   "cell_type": "code",
   "execution_count": null,
   "metadata": {
    "slideshow": {
     "slide_type": "-"
    }
   },
   "outputs": [],
   "source": [
    "results = pd.DataFrame.from_dict(scores, orient='index').sort_values('val_r2', ascending=False)\n",
    "results"
   ]
  },
  {
   "cell_type": "code",
   "execution_count": null,
   "metadata": {
    "slideshow": {
     "slide_type": "-"
    }
   },
   "outputs": [],
   "source": [
    "best_config = results.index[0]\n",
    "(x, y), (x_scaler, y_scaler) = process_dataset(df, val_split=None)\n",
    "\n",
    "early_stopping = EarlyStopping(monitor='val_loss', patience=100, restore_best_weights=True)\n",
    "model = Sequential([Dense(hu, activation='relu') for hu in best_config if hu != 0] + [Dense(2)])\n",
    "model.compile(optimizer='adam', loss='mse')\n",
    "history = model.fit(x, y, validation_split=0.2, epochs=EPOCHS, callbacks=[early_stopping], verbose=True)"
   ]
  },
  {
   "cell_type": "code",
   "execution_count": null,
   "metadata": {
    "slideshow": {
     "slide_type": "-"
    }
   },
   "outputs": [],
   "source": [
    "plt.figure(figsize=(18, 4))\n",
    "sns.lineplot(x=history.epoch, y=history.history['loss'], label='train loss').set(title='Training History')\n",
    "sns.lineplot(x=history.epoch, y=history.history['val_loss'], label='validation loss')\n",
    "plt.show()"
   ]
  },
  {
   "cell_type": "code",
   "execution_count": null,
   "metadata": {
    "slideshow": {
     "slide_type": "-"
    }
   },
   "outputs": [],
   "source": [
    "p = model.predict(x)\n",
    "y, p = y_scaler.inverse_transform(y), y_scaler.inverse_transform(p)\n",
    "\n",
    "_, axes = plt.subplots(1, 2, figsize=(18, 6), tight_layout=True)\n",
    "for idx, title in enumerate(['Hospitalized Peak', 'Cumulative Deaths']):\n",
    "    pp, yy = p[:, idx], y[:, idx]\n",
    "    sns.scatterplot(x=pp, y=yy, ax=axes[idx]).set(xlabel='prediction', ylabel='target', title=title)\n",
    "    axes[idx].plot([pp.min(), pp.max()], [pp.min(), pp.max()], 'r--')"
   ]
  },
  {
   "cell_type": "code",
   "execution_count": null,
   "metadata": {},
   "outputs": [],
   "source": []
  }
 ],
 "metadata": {
  "celltoolbar": "Slideshow",
  "kernelspec": {
   "display_name": "Python 3",
   "language": "python",
   "name": "python3"
  },
  "language_info": {
   "codemirror_mode": {
    "name": "ipython",
    "version": 3
   },
   "file_extension": ".py",
   "mimetype": "text/x-python",
   "name": "python",
   "nbconvert_exporter": "python",
   "pygments_lexer": "ipython3",
   "version": "3.7.6"
  }
 },
 "nbformat": 4,
 "nbformat_minor": 1
}