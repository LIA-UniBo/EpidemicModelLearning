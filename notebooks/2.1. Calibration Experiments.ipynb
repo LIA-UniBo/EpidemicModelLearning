{
 "cells": [
  {
   "cell_type": "code",
   "execution_count": null,
   "metadata": {
    "slideshow": {
     "slide_type": "-"
    }
   },
   "outputs": [],
   "source": [
    "# NUMBER OF RUNS FOR EACH OPTUNA ITERATION:\n",
    "# - the number of optuna trials is computed as 1500 // n_runs\n",
    "n_runs = 1\n",
    "\n",
    "# AGGREGATION METHOD:\n",
    "# - 'aggregate': aggregates the MultiSim object on the mean values and computes a single loss\n",
    "# - 'average': computes the loss of each simulation in the MultiSim and the averages the n_runs losses\n",
    "method = 'aggregate'"
   ]
  },
  {
   "cell_type": "code",
   "execution_count": null,
   "metadata": {
    "slideshow": {
     "slide_type": "-"
    }
   },
   "outputs": [],
   "source": [
    "%%capture\n",
    "import sys\n",
    "\n",
    "if 'google.colab' in sys.modules:\n",
    "    !pip install covasim==2.0.3 optuna\n",
    "    !git clone https://github.com/mazzio97/EpidemicModelLearning.git\n",
    "    sys.path.append('EpidemicModelLearning/')    "
   ]
  },
  {
   "cell_type": "code",
   "execution_count": null,
   "metadata": {
    "slideshow": {
     "slide_type": "-"
    }
   },
   "outputs": [],
   "source": [
    "import optuna as op\n",
    "import covasim as cv\n",
    "import seaborn as sns\n",
    "import matplotlib.pyplot as plt\n",
    "from src import data, calibration, interventions\n",
    "\n",
    "sns.set_context('notebook')\n",
    "sns.set_style('whitegrid')\n",
    "\n",
    "# NUMBER OF TOTAL SIMULATIONS\n",
    "n_simulations = 1500\n",
    "\n",
    "# NUMBER OF OPTUNA TRIALS\n",
    "n_trials = n_simulations // n_runs"
   ]
  },
  {
   "cell_type": "code",
   "execution_count": null,
   "metadata": {
    "slideshow": {
     "slide_type": "-"
    }
   },
   "outputs": [],
   "source": [
    "pop_size = 400e3\n",
    "pop_scale = 10\n",
    "cols = ['n_severe', 'n_critical', 'cum_diagnoses', 'cum_deaths']\n",
    "df = data.get_regional_data(scaling_factor=4.46e6/pop_size)\n",
    "\n",
    "default_params = dict(\n",
    "    pop_type='hybrid',\n",
    "    location='italy',\n",
    "    start_day=df['date'].iloc[0],\n",
    "    end_day=df['date'].iloc[-1],\n",
    "    pop_size=pop_size / pop_scale,\n",
    "    pop_scale=pop_scale,\n",
    "    rescale=True,\n",
    "    n_beds_hosp=pop_size * 370.4 / 100e3,\n",
    "    n_beds_icu=pop_size * 14.46 / 100e3,\n",
    "    quar_period=14,\n",
    "    verbose=0\n",
    ")\n",
    "\n",
    "_, axes = plt.subplots(2, 2, figsize=(14, 8), sharex='all')\n",
    "sns.lineplot(data=df, x='date', y='new_tests', ax=axes[0, 0]).set(title='New Tests', ylabel='')\n",
    "sns.lineplot(data=df, x='date', y='cum_diagnoses', ax=axes[0, 1]).set(title='Cumulative Cases', ylabel='')\n",
    "sns.lineplot(data=df, x='date', y='cum_deaths', ax=axes[1, 0]).set(title='Cumulative Deaths', ylabel='')\n",
    "sns.lineplot(data=df, x='date', y='n_critical', label='critical', color='#1f77b4', linestyle='--', ax=axes[1, 1])\n",
    "sns.lineplot(data=df, x='date', y='n_severe', label='severe', ax=axes[1, 1]).set(title='Active Cases', ylabel='')\n",
    "plt.tight_layout()"
   ]
  },
  {
   "cell_type": "code",
   "execution_count": null,
   "metadata": {
    "slideshow": {
     "slide_type": "-"
    }
   },
   "outputs": [],
   "source": [
    "def get_calibration_params(trial):\n",
    "    return dict(\n",
    "        pop_infected=trial.suggest_int('pop_infected', pop_size // 1e4, pop_size // 1e2, step=5),\n",
    "        **default_params\n",
    "    ), dict(\n",
    "        trace_prob=trial.suggest_float('trace_prob', 0.3, 0.9, step=1e-2),\n",
    "        trace_time=trial.suggest_float('trace_time', 1.0, 5.0, step=1e-1),\n",
    "        work_contacts=trial.suggest_float('work_contacts', 0.4, 0.9, step=1e-2),\n",
    "        school_contacts=trial.suggest_float('school_contacts', 0.2, 0.8, step=1e-2),\n",
    "        yellow_casual_contacts=trial.suggest_float('yellow_casual_contacts', 0.6, 1.0, step=1e-2),\n",
    "        orange_casual_contacts=trial.suggest_float('orange_casual_contacts', 0.2, 0.8, step=1e-2),\n",
    "        init_imports=trial.suggest_float('init_imports', 5.0, 15.0, step=1e-1),\n",
    "        yellow_imports=trial.suggest_float('yellow_imports', 4.0, 12.0, step=1e-1),\n",
    "        orange_imports=trial.suggest_float('orange_imports', 2.0, 8.0, step=1e-1),\n",
    "        init_beta=trial.suggest_float('init_beta', 0.01, 0.02, step=None),\n",
    "        summer_beta=trial.suggest_float('summer_beta', 0.002, 0.01, step=None),\n",
    "        winter_beta=trial.suggest_float('winter_beta', 0.01, 0.02, step=None),\n",
    "        init_symp=trial.suggest_float('init_symp', 0.5, 2.5, log=True),\n",
    "        init_sev=trial.suggest_float('init_sev', 0.5, 2.0, log=True),\n",
    "        init_crit=trial.suggest_float('init_crit', 0.5, 2.0, log=True),\n",
    "        init_death=trial.suggest_float('init_death', 1.5, 4.5, log=True)\n",
    "    )"
   ]
  },
  {
   "cell_type": "code",
   "execution_count": null,
   "metadata": {
    "slideshow": {
     "slide_type": "-"
    }
   },
   "outputs": [],
   "source": [
    "constraint_orderings = [\n",
    "    ('yellow_casual_contacts', 'orange_casual_contacts'),\n",
    "    ('init_imports', 'yellow_imports', 'orange_imports'),\n",
    "    ('init_beta', 'summer_beta'),\n",
    "    ('winter_beta', 'summer_beta')\n",
    "]\n",
    "\n",
    "def objective(trial):\n",
    "    # define learnable parameters\n",
    "    initial_params, intervention_params = get_calibration_params(trial)\n",
    "    # define and run simulations, then return loss\n",
    "    intervs = interventions.get_calibration_interventions(intervention_params)\n",
    "    sim = cv.Sim(pars=initial_params, interventions=intervs, datafile=df)\n",
    "    msim = cv.MultiSim(sim)\n",
    "    msim.run(n_runs=n_runs)\n",
    "    violation = calibration.compute_violation(intervention_params, constraint_orderings)\n",
    "    if method == 'aggregate':\n",
    "        msim.mean()\n",
    "        return violation * msim.base_sim.compute_fit(keys=cols, weights={k: 1 for k in cols}).mismatch\n",
    "    if method == 'average':\n",
    "        mismatches = [s.compute_fit(keys=cols, weights={k: 1 for k in cols}).mismatch for s in msim.sims]\n",
    "        return violation * sum(mismatches) / n_runs\n",
    "    else:\n",
    "        raise ValueError(\"method should be either 'aggregate' or 'average'\")\n",
    "\n",
    "study = op.create_study()\n",
    "study.optimize(func=objective, n_trials=n_trials)"
   ]
  },
  {
   "cell_type": "code",
   "execution_count": null,
   "metadata": {
    "slideshow": {
     "slide_type": "-"
    }
   },
   "outputs": [],
   "source": [
    "objectives = study.trials_dataframe()['value']\n",
    "sns.lineplot(x=objectives.index, y=objectives)\n",
    "plt.show()"
   ]
  },
  {
   "cell_type": "code",
   "execution_count": null,
   "metadata": {
    "slideshow": {
     "slide_type": "-"
    }
   },
   "outputs": [],
   "source": [
    "calibration.inspect_study(study, top=10)[1]"
   ]
  },
  {
   "cell_type": "code",
   "execution_count": null,
   "metadata": {},
   "outputs": [],
   "source": [
    "initial_params = {'pop_infected': study.best_params['pop_infected'], **default_params}\n",
    "intervs = interventions.get_calibration_interventions(study.best_params)\n",
    "sim = cv.Sim(pars=initial_params, interventions=intervs, datafile=df)\n",
    "msim = cv.MultiSim(sim)\n",
    "msim.run(n_runs=30)\n",
    "msim.mean()\n",
    "msim.plot(\n",
    "    list(cols) + ['n_infectious', 'n_susceptible'],\n",
    "    fig_args={'figsize': (18, 8)},\n",
    "    scatter_args={'s': 5},\n",
    "    plot_args={'lw': 2},\n",
    "    interval=45\n",
    ");"
   ]
  }
 ],
 "metadata": {
  "celltoolbar": "Slideshow",
  "kernelspec": {
   "display_name": "Python 3",
   "language": "python",
   "name": "python3"
  },
  "language_info": {
   "codemirror_mode": {
    "name": "ipython",
    "version": 3
   },
   "file_extension": ".py",
   "mimetype": "text/x-python",
   "name": "python",
   "nbconvert_exporter": "python",
   "pygments_lexer": "ipython3",
   "version": "3.7.6"
  }
 },
 "nbformat": 4,
 "nbformat_minor": 1
}