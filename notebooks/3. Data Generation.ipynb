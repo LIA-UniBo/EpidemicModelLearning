{
 "cells": [
  {
   "cell_type": "code",
   "execution_count": 1,
   "metadata": {
    "slideshow": {
     "slide_type": "skip"
    }
   },
   "outputs": [
    {
     "name": "stdout",
     "output_type": "stream",
     "text": [
      "Covasim 2.0.3 (2021-03-11) — © 2021 by IDM\n"
     ]
    }
   ],
   "source": [
    "import time\n",
    "import json\n",
    "import numpy as np\n",
    "import pandas as pd\n",
    "import covasim as cv\n",
    "from pyDOE import lhs\n",
    "from src.data import get_regional_data\n",
    "from src.interventions import get_sampling_interventions"
   ]
  },
  {
   "cell_type": "markdown",
   "metadata": {
    "slideshow": {
     "slide_type": "slide"
    }
   },
   "source": [
    "# Data Generation"
   ]
  },
  {
   "cell_type": "markdown",
   "metadata": {
    "slideshow": {
     "slide_type": "subslide"
    }
   },
   "source": [
    "## Initial Configuration\n",
    "\n",
    "Once the dataset is calibrated, we would like to use it to predict possible future evolutions of the pandemic.\n",
    "\n",
    "Given that *Covasim* needs a warm-up period to reach a stabler pandemic condition, we will proceed by generating the dataset in this way:\n",
    "* we run a simulation for a total of *zones_starting_day $+$ num_zones $\\cdot$ time_interval days*\n",
    "* we discard the first *zones_starting_day* days (251, in our case), meaning that we will collect data from 01/11/2020 on, which is when the evolution of the pandemic started having a behaviour more similar to the one we have right now (i.e., after the summer period)\n",
    "* we aggregate the data on a time window of size *2 $\\cdot$ time_interval* (6 weeks, in our case), in which we consider the first half of the data as \"inputs\", and the last half as \"outputs\"\n",
    "  * right in the middle of these windows there is a zone change\n",
    "  * it will be used as input of the surrogate model together with the other data\n",
    "\n",
    "In this way, we aim at maximizing the number of samples that we can get from each run, while trying at the same time to cover the data space in a (hopefully) almost uniform way."
   ]
  },
  {
   "cell_type": "code",
   "execution_count": 2,
   "metadata": {
    "slideshow": {
     "slide_type": "-"
    }
   },
   "outputs": [],
   "source": [
    "num_zones = 8\n",
    "time_interval = 21\n",
    "zones_starting_day = 251"
   ]
  },
  {
   "cell_type": "markdown",
   "metadata": {
    "slideshow": {
     "slide_type": "subslide"
    }
   },
   "source": [
    "We can now retrieve the parameters' configuration that we obtained from the calibration step and set the length of the simulation from the previously set values."
   ]
  },
  {
   "cell_type": "code",
   "execution_count": 3,
   "metadata": {
    "slideshow": {
     "slide_type": "-"
    }
   },
   "outputs": [
    {
     "data": {
      "text/plain": "{'pop_type': 'hybrid',\n 'location': 'italy',\n 'start_day': '2020-02-24',\n 'pop_size': 400000,\n 'pop_infected': 720,\n 'n_beds_hosp': 1481.6,\n 'n_beds_icu': 57.84,\n 'quar_period': 14,\n 'verbose': 0,\n 'n_days': 419}"
     },
     "execution_count": 3,
     "metadata": {},
     "output_type": "execute_result"
    }
   ],
   "source": [
    "with open('../res/parameters.json', 'r') as json_file:\n",
    "    j = json.load(json_file)\n",
    "\n",
    "intervention_params = j['intervention_params']\n",
    "initial_params = j['initial_params']\n",
    "initial_params['n_days'] = zones_starting_day + num_zones * time_interval\n",
    "df = get_regional_data(4.46e6 / initial_params['pop_size'])\n",
    "\n",
    "initial_params"
   ]
  },
  {
   "cell_type": "markdown",
   "metadata": {
    "slideshow": {
     "slide_type": "subslide"
    }
   },
   "source": [
    "## Latin-Hypercube Sampling\n",
    "\n",
    "We have *4* possible categories for the zones, and each run of the simulator will consider a sequence of *8* zone changes. Thus, the total number of possible sequences is $4^8 = 65536$, which, if we consider an average of 2 minutes for each run, will end the generation phase after 90 days.\n",
    "\n",
    "This is clearly not desirable, thus we rely on *Latin-Hypercube Sampling* to generate a subset of *300* sequences which, however, is supposed to cover the sequences space almost uniformly. Again, if we consider an average of 2 minutes for each run, will end the generation phase after 10 hours."
   ]
  },
  {
   "cell_type": "code",
   "execution_count": 4,
   "metadata": {},
   "outputs": [
    {
     "data": {
      "text/plain": "     0  1  2  3  4  5  6  7\n0    Y  R  W  Y  R  Y  Y  Y\n1    Y  O  O  Y  R  Y  R  Y\n2    Y  O  W  O  R  O  W  O\n3    O  W  W  W  Y  R  R  Y\n4    R  Y  O  O  R  O  R  W\n..  .. .. .. .. .. .. .. ..\n195  O  Y  O  R  Y  O  O  W\n196  Y  R  Y  R  W  R  O  Y\n197  O  O  O  R  O  W  W  W\n198  Y  Y  O  O  O  W  W  R\n199  O  R  R  O  R  W  O  W\n\n[200 rows x 8 columns]",
      "text/html": "<div>\n<style scoped>\n    .dataframe tbody tr th:only-of-type {\n        vertical-align: middle;\n    }\n\n    .dataframe tbody tr th {\n        vertical-align: top;\n    }\n\n    .dataframe thead th {\n        text-align: right;\n    }\n</style>\n<table border=\"1\" class=\"dataframe\">\n  <thead>\n    <tr style=\"text-align: right;\">\n      <th></th>\n      <th>0</th>\n      <th>1</th>\n      <th>2</th>\n      <th>3</th>\n      <th>4</th>\n      <th>5</th>\n      <th>6</th>\n      <th>7</th>\n    </tr>\n  </thead>\n  <tbody>\n    <tr>\n      <th>0</th>\n      <td>Y</td>\n      <td>R</td>\n      <td>W</td>\n      <td>Y</td>\n      <td>R</td>\n      <td>Y</td>\n      <td>Y</td>\n      <td>Y</td>\n    </tr>\n    <tr>\n      <th>1</th>\n      <td>Y</td>\n      <td>O</td>\n      <td>O</td>\n      <td>Y</td>\n      <td>R</td>\n      <td>Y</td>\n      <td>R</td>\n      <td>Y</td>\n    </tr>\n    <tr>\n      <th>2</th>\n      <td>Y</td>\n      <td>O</td>\n      <td>W</td>\n      <td>O</td>\n      <td>R</td>\n      <td>O</td>\n      <td>W</td>\n      <td>O</td>\n    </tr>\n    <tr>\n      <th>3</th>\n      <td>O</td>\n      <td>W</td>\n      <td>W</td>\n      <td>W</td>\n      <td>Y</td>\n      <td>R</td>\n      <td>R</td>\n      <td>Y</td>\n    </tr>\n    <tr>\n      <th>4</th>\n      <td>R</td>\n      <td>Y</td>\n      <td>O</td>\n      <td>O</td>\n      <td>R</td>\n      <td>O</td>\n      <td>R</td>\n      <td>W</td>\n    </tr>\n    <tr>\n      <th>...</th>\n      <td>...</td>\n      <td>...</td>\n      <td>...</td>\n      <td>...</td>\n      <td>...</td>\n      <td>...</td>\n      <td>...</td>\n      <td>...</td>\n    </tr>\n    <tr>\n      <th>195</th>\n      <td>O</td>\n      <td>Y</td>\n      <td>O</td>\n      <td>R</td>\n      <td>Y</td>\n      <td>O</td>\n      <td>O</td>\n      <td>W</td>\n    </tr>\n    <tr>\n      <th>196</th>\n      <td>Y</td>\n      <td>R</td>\n      <td>Y</td>\n      <td>R</td>\n      <td>W</td>\n      <td>R</td>\n      <td>O</td>\n      <td>Y</td>\n    </tr>\n    <tr>\n      <th>197</th>\n      <td>O</td>\n      <td>O</td>\n      <td>O</td>\n      <td>R</td>\n      <td>O</td>\n      <td>W</td>\n      <td>W</td>\n      <td>W</td>\n    </tr>\n    <tr>\n      <th>198</th>\n      <td>Y</td>\n      <td>Y</td>\n      <td>O</td>\n      <td>O</td>\n      <td>O</td>\n      <td>W</td>\n      <td>W</td>\n      <td>R</td>\n    </tr>\n    <tr>\n      <th>199</th>\n      <td>O</td>\n      <td>R</td>\n      <td>R</td>\n      <td>O</td>\n      <td>R</td>\n      <td>W</td>\n      <td>O</td>\n      <td>W</td>\n    </tr>\n  </tbody>\n</table>\n<p>200 rows × 8 columns</p>\n</div>"
     },
     "execution_count": 4,
     "metadata": {},
     "output_type": "execute_result"
    }
   ],
   "source": [
    "np.random.seed(42)\n",
    "samples = lhs(n=num_zones, samples=200)\n",
    "samples = pd.DataFrame(samples)\n",
    "for i in range(num_zones):\n",
    "    samples[i] = samples[i].map(lambda v: int(4 * v)).map({0: 'W', 1: 'Y', 2: 'O', 3: 'R'})\n",
    "samples"
   ]
  },
  {
   "cell_type": "markdown",
   "metadata": {
    "slideshow": {
     "slide_type": "subslide"
    }
   },
   "source": [
    "We can start the generation script, from which we will collect the data about *hospitalized* individuals and cumulative *diagnosed* cases and *deaths*."
   ]
  },
  {
   "cell_type": "code",
   "execution_count": 5,
   "metadata": {
    "slideshow": {
     "slide_type": "-"
    }
   },
   "outputs": [
    {
     "name": "stdout",
     "output_type": "stream",
     "text": [
      "Generating samples for simulation 001/200 -- elapsed time: 258.3s\n",
      "Generating samples for simulation 002/200 -- elapsed time: 213.1s\n",
      "Generating samples for simulation 003/200 -- elapsed time: 243.3s\n",
      "Generating samples for simulation 004/200 -- elapsed time: 231.8s\n",
      "Generating samples for simulation 005/200 -- elapsed time: 227.7s\n",
      "Generating samples for simulation 006/200 -- elapsed time: 240.5s\n",
      "Generating samples for simulation 007/200 -- elapsed time: 242.9s\n",
      "Generating samples for simulation 008/200 -- elapsed time: 261.4s\n",
      "Generating samples for simulation 009/200 -- elapsed time: 245.4s\n",
      "Generating samples for simulation 010/200 -- elapsed time: 214.8s\n",
      "Generating samples for simulation 011/200 -- elapsed time: 252.1s\n",
      "Generating samples for simulation 012/200 -- elapsed time: 231.8s\n",
      "Generating samples for simulation 013/200 -- elapsed time: 228.8s\n",
      "Generating samples for simulation 014/200 -- elapsed time: 235.9s\n",
      "Generating samples for simulation 015/200 -- elapsed time: 248.8s\n",
      "Generating samples for simulation 016/200 -- elapsed time: 213.9s\n",
      "Generating samples for simulation 017/200 -- elapsed time: 232.7s\n",
      "Generating samples for simulation 018/200 -- elapsed time: 198.4s\n",
      "Generating samples for simulation 019/200 -- elapsed time: 186.7s\n",
      "Generating samples for simulation 020/200 -- elapsed time: 166.2s\n",
      "Generating samples for simulation 021/200 -- elapsed time: 162.7s\n",
      "Generating samples for simulation 022/200 -- elapsed time: 165.4s\n",
      "Generating samples for simulation 023/200 -- elapsed time: 166.1s\n",
      "Generating samples for simulation 024/200 -- elapsed time: 167.7s\n",
      "Generating samples for simulation 025/200 -- elapsed time: 157.1s\n",
      "Generating samples for simulation 026/200 -- elapsed time: 171.1s\n",
      "Generating samples for simulation 027/200 -- elapsed time: 168.2s\n",
      "Generating samples for simulation 028/200 -- elapsed time: 154.2s\n",
      "Generating samples for simulation 029/200 -- elapsed time: 162.9s\n",
      "Generating samples for simulation 030/200 -- elapsed time: 169.9s\n",
      "Generating samples for simulation 031/200 -- elapsed time: 87.33s\n",
      "Generating samples for simulation 032/200 -- elapsed time: 85.68s\n",
      "Generating samples for simulation 033/200 -- elapsed time: 86.03s\n",
      "Generating samples for simulation 034/200 -- elapsed time: 87.53s\n",
      "Generating samples for simulation 035/200 -- elapsed time: 81.81s\n",
      "Generating samples for simulation 036/200 -- elapsed time: 82.97s\n",
      "Generating samples for simulation 037/200 -- elapsed time: 83.56s\n",
      "Generating samples for simulation 038/200 -- elapsed time: 86.45s\n",
      "Generating samples for simulation 039/200 -- elapsed time: 91.25s\n",
      "Generating samples for simulation 040/200 -- elapsed time: 78.07s\n",
      "Generating samples for simulation 041/200 -- elapsed time: 81.53s\n",
      "Generating samples for simulation 042/200 -- elapsed time: 87.53s\n",
      "Generating samples for simulation 043/200 -- elapsed time: 87.69s\n",
      "Generating samples for simulation 044/200 -- elapsed time: 83.69s\n",
      "Generating samples for simulation 045/200 -- elapsed time: 88.3s\n",
      "Generating samples for simulation 046/200 -- elapsed time: 85.5s\n",
      "Generating samples for simulation 047/200 -- elapsed time: 86.58s\n",
      "Generating samples for simulation 048/200 -- elapsed time: 83.15s\n",
      "Generating samples for simulation 049/200 -- elapsed time: 80.96s\n",
      "Generating samples for simulation 050/200 -- elapsed time: 89.89s\n",
      "Generating samples for simulation 051/200 -- elapsed time: 92.23s\n",
      "Generating samples for simulation 052/200 -- elapsed time: 87.89s\n",
      "Generating samples for simulation 053/200 -- elapsed time: 91.26s\n",
      "Generating samples for simulation 054/200 -- elapsed time: 83.42s\n",
      "Generating samples for simulation 055/200 -- elapsed time: 88.44s\n",
      "Generating samples for simulation 056/200 -- elapsed time: 85.42s\n",
      "Generating samples for simulation 057/200 -- elapsed time: 88.82s\n",
      "Generating samples for simulation 058/200 -- elapsed time: 87.25s\n",
      "Generating samples for simulation 059/200 -- elapsed time: 90.91s\n",
      "Generating samples for simulation 060/200 -- elapsed time: 90.57s\n",
      "Generating samples for simulation 061/200 -- elapsed time: 87.61s\n",
      "Generating samples for simulation 062/200 -- elapsed time: 82.22s\n",
      "Generating samples for simulation 063/200 -- elapsed time: 86.95s\n",
      "Generating samples for simulation 064/200 -- elapsed time: 89.27s\n",
      "Generating samples for simulation 065/200 -- elapsed time: 85.56s\n",
      "Generating samples for simulation 066/200 -- elapsed time: 86.04s\n",
      "Generating samples for simulation 067/200 -- elapsed time: 86.09s\n",
      "Generating samples for simulation 068/200 -- elapsed time: 87.43s\n",
      "Generating samples for simulation 069/200 -- elapsed time: 88.73s\n",
      "Generating samples for simulation 070/200 -- elapsed time: 87.84s\n",
      "Generating samples for simulation 071/200 -- elapsed time: 84.62s\n",
      "Generating samples for simulation 072/200 -- elapsed time: 83.28s\n",
      "Generating samples for simulation 073/200 -- elapsed time: 87.26s\n",
      "Generating samples for simulation 074/200 -- elapsed time: 86.31s\n",
      "Generating samples for simulation 075/200 -- elapsed time: 89.11s\n",
      "Generating samples for simulation 076/200 -- elapsed time: 81.03s\n",
      "Generating samples for simulation 077/200 -- elapsed time: 91.3s\n",
      "Generating samples for simulation 078/200 -- elapsed time: 88.61s\n",
      "Generating samples for simulation 079/200 -- elapsed time: 90.99s\n",
      "Generating samples for simulation 080/200 -- elapsed time: 87.11s\n",
      "Generating samples for simulation 081/200 -- elapsed time: 89.9s\n",
      "Generating samples for simulation 082/200 -- elapsed time: 86.63s\n",
      "Generating samples for simulation 083/200 -- elapsed time: 86.12s\n",
      "Generating samples for simulation 084/200 -- elapsed time: 83.32s\n",
      "Generating samples for simulation 085/200 -- elapsed time: 89.01s\n",
      "Generating samples for simulation 086/200 -- elapsed time: 85.38s\n",
      "Generating samples for simulation 087/200 -- elapsed time: 82.97s\n",
      "Generating samples for simulation 088/200 -- elapsed time: 87.66s\n",
      "Generating samples for simulation 089/200 -- elapsed time: 84.46s\n",
      "Generating samples for simulation 090/200 -- elapsed time: 90.36s\n",
      "Generating samples for simulation 091/200 -- elapsed time: 92.67s\n",
      "Generating samples for simulation 092/200 -- elapsed time: 87.64s\n",
      "Generating samples for simulation 093/200 -- elapsed time: 86.54s\n",
      "Generating samples for simulation 094/200 -- elapsed time: 87.65s\n",
      "Generating samples for simulation 095/200 -- elapsed time: 83.53s\n",
      "Generating samples for simulation 096/200 -- elapsed time: 89.93s\n",
      "Generating samples for simulation 097/200 -- elapsed time: 86.43s\n",
      "Generating samples for simulation 098/200 -- elapsed time: 86.11s\n",
      "Generating samples for simulation 099/200 -- elapsed time: 86.07s\n",
      "Generating samples for simulation 100/200 -- elapsed time: 88.23s\n",
      "Generating samples for simulation 101/200 -- elapsed time: 83.13s\n",
      "Generating samples for simulation 102/200 -- elapsed time: 87.79s\n",
      "Generating samples for simulation 103/200 -- elapsed time: 84.57s\n",
      "Generating samples for simulation 104/200 -- elapsed time: 85.3s\n",
      "Generating samples for simulation 105/200 -- elapsed time: 85.4s\n",
      "Generating samples for simulation 106/200 -- elapsed time: 86.76s\n",
      "Generating samples for simulation 107/200 -- elapsed time: 78.3s\n",
      "Generating samples for simulation 108/200 -- elapsed time: 90.72s\n",
      "Generating samples for simulation 109/200 -- elapsed time: 86.71s\n",
      "Generating samples for simulation 110/200 -- elapsed time: 84.61s\n",
      "Generating samples for simulation 111/200 -- elapsed time: 84.69s\n",
      "Generating samples for simulation 112/200 -- elapsed time: 84.98s\n",
      "Generating samples for simulation 113/200 -- elapsed time: 87.42s\n",
      "Generating samples for simulation 114/200 -- elapsed time: 87.28s\n",
      "Generating samples for simulation 115/200 -- elapsed time: 91.83s\n",
      "Generating samples for simulation 116/200 -- elapsed time: 85.62s\n",
      "Generating samples for simulation 117/200 -- elapsed time: 86.4s\n",
      "Generating samples for simulation 118/200 -- elapsed time: 88.48s\n",
      "Generating samples for simulation 119/200 -- elapsed time: 88.12s\n",
      "Generating samples for simulation 120/200 -- elapsed time: 85.33s\n",
      "Generating samples for simulation 121/200 -- elapsed time: 88.1s\n",
      "Generating samples for simulation 122/200 -- elapsed time: 88.98s\n",
      "Generating samples for simulation 123/200 -- elapsed time: 86.11s\n",
      "Generating samples for simulation 124/200 -- elapsed time: 87.55s\n",
      "Generating samples for simulation 125/200 -- elapsed time: 89.66s\n",
      "Generating samples for simulation 126/200 -- elapsed time: 88.04s\n",
      "Generating samples for simulation 127/200 -- elapsed time: 86.29s\n",
      "Generating samples for simulation 128/200 -- elapsed time: 86.13s\n",
      "Generating samples for simulation 129/200 -- elapsed time: 91.17s\n",
      "Generating samples for simulation 130/200 -- elapsed time: 86.56s\n",
      "Generating samples for simulation 131/200 -- elapsed time: 87.58s\n",
      "Generating samples for simulation 132/200 -- elapsed time: 90.68s\n",
      "Generating samples for simulation 133/200 -- elapsed time: 82.19s\n",
      "Generating samples for simulation 134/200 -- elapsed time: 90.43s\n",
      "Generating samples for simulation 135/200 -- elapsed time: 90.37s\n",
      "Generating samples for simulation 136/200 -- elapsed time: 85.69s\n",
      "Generating samples for simulation 137/200 -- elapsed time: 88.66s\n",
      "Generating samples for simulation 138/200 -- elapsed time: 84.35s\n",
      "Generating samples for simulation 139/200 -- elapsed time: 90.55s\n",
      "Generating samples for simulation 140/200 -- elapsed time: 88.01s\n",
      "Generating samples for simulation 141/200 -- elapsed time: 83.68s\n",
      "Generating samples for simulation 142/200 -- elapsed time: 89.25s\n",
      "Generating samples for simulation 143/200 -- elapsed time: 86.03s\n",
      "Generating samples for simulation 144/200 -- elapsed time: 83.95s\n",
      "Generating samples for simulation 145/200 -- elapsed time: 87.45s\n",
      "Generating samples for simulation 146/200 -- elapsed time: 82.84s\n",
      "Generating samples for simulation 147/200 -- elapsed time: 89.47s\n",
      "Generating samples for simulation 148/200 -- elapsed time: 85.64s\n",
      "Generating samples for simulation 149/200 -- elapsed time: 87.79s\n",
      "Generating samples for simulation 150/200 -- elapsed time: 88.89s\n",
      "Generating samples for simulation 151/200 -- elapsed time: 84.8s\n",
      "Generating samples for simulation 152/200 -- elapsed time: 84.1s\n",
      "Generating samples for simulation 153/200 -- elapsed time: 84.44s\n",
      "Generating samples for simulation 154/200 -- elapsed time: 91.15s\n",
      "Generating samples for simulation 155/200 -- elapsed time: 87.52s\n",
      "Generating samples for simulation 156/200 -- elapsed time: 90.84s\n",
      "Generating samples for simulation 157/200 -- elapsed time: 86.86s\n",
      "Generating samples for simulation 158/200 -- elapsed time: 87.3s\n",
      "Generating samples for simulation 159/200 -- elapsed time: 85.82s\n",
      "Generating samples for simulation 160/200 -- elapsed time: 89.13s\n",
      "Generating samples for simulation 161/200 -- elapsed time: 83.05s\n",
      "Generating samples for simulation 162/200 -- elapsed time: 91.61s\n",
      "Generating samples for simulation 163/200 -- elapsed time: 82.98s\n",
      "Generating samples for simulation 164/200 -- elapsed time: 84.96s\n",
      "Generating samples for simulation 165/200 -- elapsed time: 81.59s\n",
      "Generating samples for simulation 166/200 -- elapsed time: 77.9s\n",
      "Generating samples for simulation 167/200 -- elapsed time: 86.93s\n",
      "Generating samples for simulation 168/200 -- elapsed time: 83.45s\n",
      "Generating samples for simulation 169/200 -- elapsed time: 81.65s\n",
      "Generating samples for simulation 170/200 -- elapsed time: 90.85s\n",
      "Generating samples for simulation 171/200 -- elapsed time: 83.39s\n",
      "Generating samples for simulation 172/200 -- elapsed time: 89.19s\n",
      "Generating samples for simulation 173/200 -- elapsed time: 82.26s\n",
      "Generating samples for simulation 174/200 -- elapsed time: 85.58s\n",
      "Generating samples for simulation 175/200 -- elapsed time: 83.16s\n",
      "Generating samples for simulation 176/200 -- elapsed time: 84.81s\n",
      "Generating samples for simulation 177/200 -- elapsed time: 88.51s\n",
      "Generating samples for simulation 178/200 -- elapsed time: 87.5s\n",
      "Generating samples for simulation 179/200 -- elapsed time: 86.9s\n",
      "Generating samples for simulation 180/200 -- elapsed time: 84.92s\n",
      "Generating samples for simulation 181/200 -- elapsed time: 84.9s\n",
      "Generating samples for simulation 182/200 -- elapsed time: 89.52s\n",
      "Generating samples for simulation 183/200 -- elapsed time: 84.52s\n",
      "Generating samples for simulation 184/200 -- elapsed time: 88.05s\n",
      "Generating samples for simulation 185/200 -- elapsed time: 85.25s\n",
      "Generating samples for simulation 186/200 -- elapsed time: 88.93s\n",
      "Generating samples for simulation 187/200 -- elapsed time: 82.34s\n",
      "Generating samples for simulation 188/200 -- elapsed time: 83.85s\n",
      "Generating samples for simulation 189/200 -- elapsed time: 83.93s\n",
      "Generating samples for simulation 190/200 -- elapsed time: 86.48s\n",
      "Generating samples for simulation 191/200 -- elapsed time: 91.02s\n",
      "Generating samples for simulation 192/200 -- elapsed time: 87.83s\n",
      "Generating samples for simulation 193/200 -- elapsed time: 87.15s\n",
      "Generating samples for simulation 194/200 -- elapsed time: 83.25s\n",
      "Generating samples for simulation 195/200 -- elapsed time: 90.37s\n",
      "Generating samples for simulation 196/200 -- elapsed time: 86.2s\n",
      "Generating samples for simulation 197/200 -- elapsed time: 88.59s\n",
      "Generating samples for simulation 198/200 -- elapsed time: 86.97s\n",
      "Generating samples for simulation 199/200 -- elapsed time: 86.54s\n",
      "Generating samples for simulation 200/200 -- elapsed time: 83.28s\n"
     ]
    }
   ],
   "source": [
    "data = []\n",
    "for idx, zones in samples.iterrows():\n",
    "    print(f'Generating samples for simulation {idx + 1:0{len(str(samples.shape[0]))}}/{samples.shape[0]}', end='')\n",
    "    start_time = time.time()\n",
    "    intervs = get_sampling_interventions(zones, intervention_params, time_interval)\n",
    "    sim = cv.Sim(pars={**initial_params, 'rand_seed': idx}, interventions=intervs, datafile=df)\n",
    "    sim.run()\n",
    "    # concatenate data in an array of shape (num_days, 4)\n",
    "    result = np.concatenate((\n",
    "        sim.results['n_severe'].values + sim.results['n_critical'].values,\n",
    "        sim.results['cum_diagnoses'].values,\n",
    "        sim.results['cum_deaths'].values\n",
    "    )).reshape(3, -1).transpose()\n",
    "    # retrieve data about last num_zones * time_interval and flatten it to get num_zones rows\n",
    "    result = result[-num_zones * time_interval:].reshape(num_zones, -1)\n",
    "    # get data about two subsequent zones with respective zone colors\n",
    "    data += [np.concatenate((inp, out, zones[z:z + 2])) for z, (inp, out), in enumerate(zip(result[:-1], result[1:]))]\n",
    "    print(f' -- elapsed time: {time.time() - start_time:.4}s')"
   ]
  },
  {
   "cell_type": "markdown",
   "metadata": {
    "slideshow": {
     "slide_type": "subslide"
    }
   },
   "source": [
    "## Saving the Dataset\n",
    "\n",
    "We can now collect the data into a pandas dataframe and store it in a *csv* file to be used to train the surrogate model."
   ]
  },
  {
   "cell_type": "code",
   "execution_count": 6,
   "metadata": {
    "slideshow": {
     "slide_type": "-"
    },
    "pycharm": {
     "name": "#%%\n"
    }
   },
   "outputs": [
    {
     "data": {
      "text/plain": "      hosp_0   diag_0  dead_0  hosp_1   diag_1  dead_1  hosp_2   diag_2  \\\n0       98.0   7137.0   420.0   106.0   7255.0   421.0   107.0   7344.0   \n1      224.0   9389.0   463.0   219.0   9524.0   470.0   223.0   9652.0   \n2      119.0  10800.0   556.0   109.0  10817.0   558.0   100.0  10840.0   \n3       94.0  11575.0   578.0    96.0  11674.0   580.0   106.0  11774.0   \n4      193.0  13887.0   633.0   198.0  14057.0   635.0   199.0  14202.0   \n...      ...      ...     ...     ...      ...     ...     ...      ...   \n1395   128.0  10591.0   541.0   121.0  10614.0   543.0   104.0  10628.0   \n1396    15.0  10763.0   565.0    14.0  10764.0   565.0    13.0  10765.0   \n1397    10.0  10875.0   566.0    13.0  10891.0   566.0    16.0  10903.0   \n1398    11.0  11018.0   573.0     6.0  11020.0   574.0     5.0  11022.0   \n1399    18.0  11267.0   577.0    19.0  11312.0   577.0    21.0  11339.0   \n\n      dead_2  hosp_3   diag_3  dead_3  hosp_4   diag_4  dead_4  hosp_5  \\\n0      424.0   116.0   7446.0   424.0   125.0   7560.0   424.0   134.0   \n1      474.0   227.0   9763.0   477.0   229.0   9885.0   482.0   222.0   \n2      559.0    91.0  10866.0   560.0    85.0  10893.0   560.0    75.0   \n3      580.0   111.0  11847.0   582.0   117.0  11952.0   583.0   124.0   \n4      640.0   206.0  14371.0   643.0   211.0  14484.0   648.0   211.0   \n...      ...     ...      ...     ...     ...      ...     ...     ...   \n1395   547.0    89.0  10634.0   551.0    75.0  10654.0   556.0    76.0   \n1396   565.0    11.0  10765.0   565.0    10.0  10768.0   565.0     9.0   \n1397   566.0    16.0  10916.0   566.0    17.0  10928.0   566.0    18.0   \n1398   574.0     4.0  11024.0   574.0     4.0  11024.0   574.0     4.0   \n1399   577.0    21.0  11372.0   578.0    23.0  11408.0   578.0    25.0   \n\n       diag_5  dead_5  hosp_6   diag_6  dead_6  hosp_7  ...  diag_35  dead_35  \\\n0      7649.0   426.0   137.0   7725.0   428.0   151.0  ...  10570.0    535.0   \n1      9998.0   488.0   224.0  10066.0   494.0   230.0  ...  11150.0    572.0   \n2     10919.0   565.0    68.0  10929.0   567.0    69.0  ...  12958.0    601.0   \n3     12037.0   585.0   132.0  12117.0   588.0   146.0  ...  15130.0    681.0   \n4     14593.0   649.0   209.0  14662.0   655.0   208.0  ...  15616.0    730.0   \n...       ...     ...     ...      ...     ...     ...  ...      ...      ...   \n1395  10666.0   558.0    69.0  10686.0   559.0    64.0  ...  10809.0    566.0   \n1396  10770.0   565.0     8.0  10771.0   565.0     7.0  ...  10996.0    570.0   \n1397  10936.0   566.0    23.0  10943.0   566.0    23.0  ...  11139.0    574.0   \n1398  11029.0   574.0     4.0  11033.0   574.0     4.0  ...  11639.0    584.0   \n1399  11435.0   578.0    31.0  11454.0   578.0    30.0  ...  12085.0    609.0   \n\n      hosp_36  diag_36  dead_36  hosp_37  diag_37  dead_37  hosp_38  diag_38  \\\n0       180.0  10613.0    538.0    173.0  10632.0    543.0    167.0  10679.0   \n1        61.0  11235.0    573.0     68.0  11294.0    573.0     69.0  11357.0   \n2       192.0  13126.0    606.0    186.0  13297.0    611.0    194.0  13435.0   \n3       203.0  15192.0    683.0    188.0  15228.0    688.0    157.0  15261.0   \n4        31.0  15664.0    730.0     31.0  15705.0    731.0     34.0  15743.0   \n...       ...      ...      ...      ...      ...      ...      ...      ...   \n1395      5.0  10821.0    566.0      5.0  10831.0    566.0      8.0  10840.0   \n1396     19.0  11006.0    571.0     20.0  11010.0    571.0     20.0  11013.0   \n1397     10.0  11158.0    575.0     12.0  11174.0    575.0     13.0  11203.0   \n1398     41.0  11668.0    584.0     46.0  11689.0    585.0     49.0  11715.0   \n1399     50.0  12137.0    610.0     47.0  12178.0    612.0     49.0  12216.0   \n\n      dead_38  hosp_39  diag_39  dead_39  hosp_40  diag_40  dead_40  hosp_41  \\\n0       545.0    151.0  10723.0    550.0    143.0  10759.0    552.0    135.0   \n1       576.0     76.0  11416.0    576.0     78.0  11444.0    577.0     83.0   \n2       616.0    201.0  13564.0    619.0    199.0  13710.0    621.0    196.0   \n3       697.0    152.0  15288.0    700.0    144.0  15309.0    701.0    138.0   \n4       731.0     34.0  15779.0    732.0     35.0  15807.0    734.0     36.0   \n...       ...      ...      ...      ...      ...      ...      ...      ...   \n1395    566.0      9.0  10847.0    566.0      9.0  10854.0    566.0     10.0   \n1396    571.0     20.0  11016.0    571.0     18.0  11017.0    571.0     13.0   \n1397    575.0     14.0  11220.0    575.0     15.0  11231.0    575.0     14.0   \n1398    585.0     47.0  11729.0    586.0     46.0  11750.0    588.0     36.0   \n1399    612.0     50.0  12259.0    614.0     50.0  12308.0    617.0     48.0   \n\n      diag_41  dead_41  init_zone  actuated_zone  \n0     10778.0    553.0          Y              R  \n1     11525.0    578.0          R              W  \n2     13822.0    627.0          W              Y  \n3     15324.0    706.0          Y              R  \n4     15840.0    735.0          R              Y  \n...       ...      ...        ...            ...  \n1395  10868.0    566.0          R              O  \n1396  11017.0    572.0          O              R  \n1397  11244.0    576.0          R              W  \n1398  11759.0    593.0          W              O  \n1399  12358.0    620.0          O              W  \n\n[1400 rows x 128 columns]",
      "text/html": "<div>\n<style scoped>\n    .dataframe tbody tr th:only-of-type {\n        vertical-align: middle;\n    }\n\n    .dataframe tbody tr th {\n        vertical-align: top;\n    }\n\n    .dataframe thead th {\n        text-align: right;\n    }\n</style>\n<table border=\"1\" class=\"dataframe\">\n  <thead>\n    <tr style=\"text-align: right;\">\n      <th></th>\n      <th>hosp_0</th>\n      <th>diag_0</th>\n      <th>dead_0</th>\n      <th>hosp_1</th>\n      <th>diag_1</th>\n      <th>dead_1</th>\n      <th>hosp_2</th>\n      <th>diag_2</th>\n      <th>dead_2</th>\n      <th>hosp_3</th>\n      <th>diag_3</th>\n      <th>dead_3</th>\n      <th>hosp_4</th>\n      <th>diag_4</th>\n      <th>dead_4</th>\n      <th>hosp_5</th>\n      <th>diag_5</th>\n      <th>dead_5</th>\n      <th>hosp_6</th>\n      <th>diag_6</th>\n      <th>dead_6</th>\n      <th>hosp_7</th>\n      <th>...</th>\n      <th>diag_35</th>\n      <th>dead_35</th>\n      <th>hosp_36</th>\n      <th>diag_36</th>\n      <th>dead_36</th>\n      <th>hosp_37</th>\n      <th>diag_37</th>\n      <th>dead_37</th>\n      <th>hosp_38</th>\n      <th>diag_38</th>\n      <th>dead_38</th>\n      <th>hosp_39</th>\n      <th>diag_39</th>\n      <th>dead_39</th>\n      <th>hosp_40</th>\n      <th>diag_40</th>\n      <th>dead_40</th>\n      <th>hosp_41</th>\n      <th>diag_41</th>\n      <th>dead_41</th>\n      <th>init_zone</th>\n      <th>actuated_zone</th>\n    </tr>\n  </thead>\n  <tbody>\n    <tr>\n      <th>0</th>\n      <td>98.0</td>\n      <td>7137.0</td>\n      <td>420.0</td>\n      <td>106.0</td>\n      <td>7255.0</td>\n      <td>421.0</td>\n      <td>107.0</td>\n      <td>7344.0</td>\n      <td>424.0</td>\n      <td>116.0</td>\n      <td>7446.0</td>\n      <td>424.0</td>\n      <td>125.0</td>\n      <td>7560.0</td>\n      <td>424.0</td>\n      <td>134.0</td>\n      <td>7649.0</td>\n      <td>426.0</td>\n      <td>137.0</td>\n      <td>7725.0</td>\n      <td>428.0</td>\n      <td>151.0</td>\n      <td>...</td>\n      <td>10570.0</td>\n      <td>535.0</td>\n      <td>180.0</td>\n      <td>10613.0</td>\n      <td>538.0</td>\n      <td>173.0</td>\n      <td>10632.0</td>\n      <td>543.0</td>\n      <td>167.0</td>\n      <td>10679.0</td>\n      <td>545.0</td>\n      <td>151.0</td>\n      <td>10723.0</td>\n      <td>550.0</td>\n      <td>143.0</td>\n      <td>10759.0</td>\n      <td>552.0</td>\n      <td>135.0</td>\n      <td>10778.0</td>\n      <td>553.0</td>\n      <td>Y</td>\n      <td>R</td>\n    </tr>\n    <tr>\n      <th>1</th>\n      <td>224.0</td>\n      <td>9389.0</td>\n      <td>463.0</td>\n      <td>219.0</td>\n      <td>9524.0</td>\n      <td>470.0</td>\n      <td>223.0</td>\n      <td>9652.0</td>\n      <td>474.0</td>\n      <td>227.0</td>\n      <td>9763.0</td>\n      <td>477.0</td>\n      <td>229.0</td>\n      <td>9885.0</td>\n      <td>482.0</td>\n      <td>222.0</td>\n      <td>9998.0</td>\n      <td>488.0</td>\n      <td>224.0</td>\n      <td>10066.0</td>\n      <td>494.0</td>\n      <td>230.0</td>\n      <td>...</td>\n      <td>11150.0</td>\n      <td>572.0</td>\n      <td>61.0</td>\n      <td>11235.0</td>\n      <td>573.0</td>\n      <td>68.0</td>\n      <td>11294.0</td>\n      <td>573.0</td>\n      <td>69.0</td>\n      <td>11357.0</td>\n      <td>576.0</td>\n      <td>76.0</td>\n      <td>11416.0</td>\n      <td>576.0</td>\n      <td>78.0</td>\n      <td>11444.0</td>\n      <td>577.0</td>\n      <td>83.0</td>\n      <td>11525.0</td>\n      <td>578.0</td>\n      <td>R</td>\n      <td>W</td>\n    </tr>\n    <tr>\n      <th>2</th>\n      <td>119.0</td>\n      <td>10800.0</td>\n      <td>556.0</td>\n      <td>109.0</td>\n      <td>10817.0</td>\n      <td>558.0</td>\n      <td>100.0</td>\n      <td>10840.0</td>\n      <td>559.0</td>\n      <td>91.0</td>\n      <td>10866.0</td>\n      <td>560.0</td>\n      <td>85.0</td>\n      <td>10893.0</td>\n      <td>560.0</td>\n      <td>75.0</td>\n      <td>10919.0</td>\n      <td>565.0</td>\n      <td>68.0</td>\n      <td>10929.0</td>\n      <td>567.0</td>\n      <td>69.0</td>\n      <td>...</td>\n      <td>12958.0</td>\n      <td>601.0</td>\n      <td>192.0</td>\n      <td>13126.0</td>\n      <td>606.0</td>\n      <td>186.0</td>\n      <td>13297.0</td>\n      <td>611.0</td>\n      <td>194.0</td>\n      <td>13435.0</td>\n      <td>616.0</td>\n      <td>201.0</td>\n      <td>13564.0</td>\n      <td>619.0</td>\n      <td>199.0</td>\n      <td>13710.0</td>\n      <td>621.0</td>\n      <td>196.0</td>\n      <td>13822.0</td>\n      <td>627.0</td>\n      <td>W</td>\n      <td>Y</td>\n    </tr>\n    <tr>\n      <th>3</th>\n      <td>94.0</td>\n      <td>11575.0</td>\n      <td>578.0</td>\n      <td>96.0</td>\n      <td>11674.0</td>\n      <td>580.0</td>\n      <td>106.0</td>\n      <td>11774.0</td>\n      <td>580.0</td>\n      <td>111.0</td>\n      <td>11847.0</td>\n      <td>582.0</td>\n      <td>117.0</td>\n      <td>11952.0</td>\n      <td>583.0</td>\n      <td>124.0</td>\n      <td>12037.0</td>\n      <td>585.0</td>\n      <td>132.0</td>\n      <td>12117.0</td>\n      <td>588.0</td>\n      <td>146.0</td>\n      <td>...</td>\n      <td>15130.0</td>\n      <td>681.0</td>\n      <td>203.0</td>\n      <td>15192.0</td>\n      <td>683.0</td>\n      <td>188.0</td>\n      <td>15228.0</td>\n      <td>688.0</td>\n      <td>157.0</td>\n      <td>15261.0</td>\n      <td>697.0</td>\n      <td>152.0</td>\n      <td>15288.0</td>\n      <td>700.0</td>\n      <td>144.0</td>\n      <td>15309.0</td>\n      <td>701.0</td>\n      <td>138.0</td>\n      <td>15324.0</td>\n      <td>706.0</td>\n      <td>Y</td>\n      <td>R</td>\n    </tr>\n    <tr>\n      <th>4</th>\n      <td>193.0</td>\n      <td>13887.0</td>\n      <td>633.0</td>\n      <td>198.0</td>\n      <td>14057.0</td>\n      <td>635.0</td>\n      <td>199.0</td>\n      <td>14202.0</td>\n      <td>640.0</td>\n      <td>206.0</td>\n      <td>14371.0</td>\n      <td>643.0</td>\n      <td>211.0</td>\n      <td>14484.0</td>\n      <td>648.0</td>\n      <td>211.0</td>\n      <td>14593.0</td>\n      <td>649.0</td>\n      <td>209.0</td>\n      <td>14662.0</td>\n      <td>655.0</td>\n      <td>208.0</td>\n      <td>...</td>\n      <td>15616.0</td>\n      <td>730.0</td>\n      <td>31.0</td>\n      <td>15664.0</td>\n      <td>730.0</td>\n      <td>31.0</td>\n      <td>15705.0</td>\n      <td>731.0</td>\n      <td>34.0</td>\n      <td>15743.0</td>\n      <td>731.0</td>\n      <td>34.0</td>\n      <td>15779.0</td>\n      <td>732.0</td>\n      <td>35.0</td>\n      <td>15807.0</td>\n      <td>734.0</td>\n      <td>36.0</td>\n      <td>15840.0</td>\n      <td>735.0</td>\n      <td>R</td>\n      <td>Y</td>\n    </tr>\n    <tr>\n      <th>...</th>\n      <td>...</td>\n      <td>...</td>\n      <td>...</td>\n      <td>...</td>\n      <td>...</td>\n      <td>...</td>\n      <td>...</td>\n      <td>...</td>\n      <td>...</td>\n      <td>...</td>\n      <td>...</td>\n      <td>...</td>\n      <td>...</td>\n      <td>...</td>\n      <td>...</td>\n      <td>...</td>\n      <td>...</td>\n      <td>...</td>\n      <td>...</td>\n      <td>...</td>\n      <td>...</td>\n      <td>...</td>\n      <td>...</td>\n      <td>...</td>\n      <td>...</td>\n      <td>...</td>\n      <td>...</td>\n      <td>...</td>\n      <td>...</td>\n      <td>...</td>\n      <td>...</td>\n      <td>...</td>\n      <td>...</td>\n      <td>...</td>\n      <td>...</td>\n      <td>...</td>\n      <td>...</td>\n      <td>...</td>\n      <td>...</td>\n      <td>...</td>\n      <td>...</td>\n      <td>...</td>\n      <td>...</td>\n      <td>...</td>\n      <td>...</td>\n    </tr>\n    <tr>\n      <th>1395</th>\n      <td>128.0</td>\n      <td>10591.0</td>\n      <td>541.0</td>\n      <td>121.0</td>\n      <td>10614.0</td>\n      <td>543.0</td>\n      <td>104.0</td>\n      <td>10628.0</td>\n      <td>547.0</td>\n      <td>89.0</td>\n      <td>10634.0</td>\n      <td>551.0</td>\n      <td>75.0</td>\n      <td>10654.0</td>\n      <td>556.0</td>\n      <td>76.0</td>\n      <td>10666.0</td>\n      <td>558.0</td>\n      <td>69.0</td>\n      <td>10686.0</td>\n      <td>559.0</td>\n      <td>64.0</td>\n      <td>...</td>\n      <td>10809.0</td>\n      <td>566.0</td>\n      <td>5.0</td>\n      <td>10821.0</td>\n      <td>566.0</td>\n      <td>5.0</td>\n      <td>10831.0</td>\n      <td>566.0</td>\n      <td>8.0</td>\n      <td>10840.0</td>\n      <td>566.0</td>\n      <td>9.0</td>\n      <td>10847.0</td>\n      <td>566.0</td>\n      <td>9.0</td>\n      <td>10854.0</td>\n      <td>566.0</td>\n      <td>10.0</td>\n      <td>10868.0</td>\n      <td>566.0</td>\n      <td>R</td>\n      <td>O</td>\n    </tr>\n    <tr>\n      <th>1396</th>\n      <td>15.0</td>\n      <td>10763.0</td>\n      <td>565.0</td>\n      <td>14.0</td>\n      <td>10764.0</td>\n      <td>565.0</td>\n      <td>13.0</td>\n      <td>10765.0</td>\n      <td>565.0</td>\n      <td>11.0</td>\n      <td>10765.0</td>\n      <td>565.0</td>\n      <td>10.0</td>\n      <td>10768.0</td>\n      <td>565.0</td>\n      <td>9.0</td>\n      <td>10770.0</td>\n      <td>565.0</td>\n      <td>8.0</td>\n      <td>10771.0</td>\n      <td>565.0</td>\n      <td>7.0</td>\n      <td>...</td>\n      <td>10996.0</td>\n      <td>570.0</td>\n      <td>19.0</td>\n      <td>11006.0</td>\n      <td>571.0</td>\n      <td>20.0</td>\n      <td>11010.0</td>\n      <td>571.0</td>\n      <td>20.0</td>\n      <td>11013.0</td>\n      <td>571.0</td>\n      <td>20.0</td>\n      <td>11016.0</td>\n      <td>571.0</td>\n      <td>18.0</td>\n      <td>11017.0</td>\n      <td>571.0</td>\n      <td>13.0</td>\n      <td>11017.0</td>\n      <td>572.0</td>\n      <td>O</td>\n      <td>R</td>\n    </tr>\n    <tr>\n      <th>1397</th>\n      <td>10.0</td>\n      <td>10875.0</td>\n      <td>566.0</td>\n      <td>13.0</td>\n      <td>10891.0</td>\n      <td>566.0</td>\n      <td>16.0</td>\n      <td>10903.0</td>\n      <td>566.0</td>\n      <td>16.0</td>\n      <td>10916.0</td>\n      <td>566.0</td>\n      <td>17.0</td>\n      <td>10928.0</td>\n      <td>566.0</td>\n      <td>18.0</td>\n      <td>10936.0</td>\n      <td>566.0</td>\n      <td>23.0</td>\n      <td>10943.0</td>\n      <td>566.0</td>\n      <td>23.0</td>\n      <td>...</td>\n      <td>11139.0</td>\n      <td>574.0</td>\n      <td>10.0</td>\n      <td>11158.0</td>\n      <td>575.0</td>\n      <td>12.0</td>\n      <td>11174.0</td>\n      <td>575.0</td>\n      <td>13.0</td>\n      <td>11203.0</td>\n      <td>575.0</td>\n      <td>14.0</td>\n      <td>11220.0</td>\n      <td>575.0</td>\n      <td>15.0</td>\n      <td>11231.0</td>\n      <td>575.0</td>\n      <td>14.0</td>\n      <td>11244.0</td>\n      <td>576.0</td>\n      <td>R</td>\n      <td>W</td>\n    </tr>\n    <tr>\n      <th>1398</th>\n      <td>11.0</td>\n      <td>11018.0</td>\n      <td>573.0</td>\n      <td>6.0</td>\n      <td>11020.0</td>\n      <td>574.0</td>\n      <td>5.0</td>\n      <td>11022.0</td>\n      <td>574.0</td>\n      <td>4.0</td>\n      <td>11024.0</td>\n      <td>574.0</td>\n      <td>4.0</td>\n      <td>11024.0</td>\n      <td>574.0</td>\n      <td>4.0</td>\n      <td>11029.0</td>\n      <td>574.0</td>\n      <td>4.0</td>\n      <td>11033.0</td>\n      <td>574.0</td>\n      <td>4.0</td>\n      <td>...</td>\n      <td>11639.0</td>\n      <td>584.0</td>\n      <td>41.0</td>\n      <td>11668.0</td>\n      <td>584.0</td>\n      <td>46.0</td>\n      <td>11689.0</td>\n      <td>585.0</td>\n      <td>49.0</td>\n      <td>11715.0</td>\n      <td>585.0</td>\n      <td>47.0</td>\n      <td>11729.0</td>\n      <td>586.0</td>\n      <td>46.0</td>\n      <td>11750.0</td>\n      <td>588.0</td>\n      <td>36.0</td>\n      <td>11759.0</td>\n      <td>593.0</td>\n      <td>W</td>\n      <td>O</td>\n    </tr>\n    <tr>\n      <th>1399</th>\n      <td>18.0</td>\n      <td>11267.0</td>\n      <td>577.0</td>\n      <td>19.0</td>\n      <td>11312.0</td>\n      <td>577.0</td>\n      <td>21.0</td>\n      <td>11339.0</td>\n      <td>577.0</td>\n      <td>21.0</td>\n      <td>11372.0</td>\n      <td>578.0</td>\n      <td>23.0</td>\n      <td>11408.0</td>\n      <td>578.0</td>\n      <td>25.0</td>\n      <td>11435.0</td>\n      <td>578.0</td>\n      <td>31.0</td>\n      <td>11454.0</td>\n      <td>578.0</td>\n      <td>30.0</td>\n      <td>...</td>\n      <td>12085.0</td>\n      <td>609.0</td>\n      <td>50.0</td>\n      <td>12137.0</td>\n      <td>610.0</td>\n      <td>47.0</td>\n      <td>12178.0</td>\n      <td>612.0</td>\n      <td>49.0</td>\n      <td>12216.0</td>\n      <td>612.0</td>\n      <td>50.0</td>\n      <td>12259.0</td>\n      <td>614.0</td>\n      <td>50.0</td>\n      <td>12308.0</td>\n      <td>617.0</td>\n      <td>48.0</td>\n      <td>12358.0</td>\n      <td>620.0</td>\n      <td>O</td>\n      <td>W</td>\n    </tr>\n  </tbody>\n</table>\n<p>1400 rows × 128 columns</p>\n</div>"
     },
     "execution_count": 6,
     "metadata": {},
     "output_type": "execute_result"
    }
   ],
   "source": [
    "pd.options.display.max_columns = 2 * time_interval + 2\n",
    "\n",
    "columns = [f'{c}_{d}' for d in range(0, 2 * time_interval) for c in ['hosp', 'diag', 'dead']]\n",
    "data = pd.DataFrame(data, columns=columns + ['init_zone', 'actuated_zone'])\n",
    "data.to_csv('../res/dataset.csv', index=False)\n",
    "data"
   ]
  }
 ],
 "metadata": {
  "celltoolbar": "Slideshow",
  "kernelspec": {
   "display_name": "Python 3",
   "language": "python",
   "name": "python3"
  },
  "language_info": {
   "codemirror_mode": {
    "name": "ipython",
    "version": 3
   },
   "file_extension": ".py",
   "mimetype": "text/x-python",
   "name": "python",
   "nbconvert_exporter": "python",
   "pygments_lexer": "ipython3",
   "version": "3.7.6"
  }
 },
 "nbformat": 4,
 "nbformat_minor": 1
}