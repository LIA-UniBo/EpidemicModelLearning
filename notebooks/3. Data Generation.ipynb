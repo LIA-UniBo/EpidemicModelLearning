{
 "cells": [
  {
   "cell_type": "code",
   "execution_count": 1,
   "metadata": {
    "slideshow": {
     "slide_type": "skip"
    }
   },
   "outputs": [
    {
     "name": "stdout",
     "output_type": "stream",
     "text": [
      "Covasim 2.0.3 (2021-03-11) — © 2021 by IDM\n"
     ]
    }
   ],
   "source": [
    "import time\n",
    "import json\n",
    "import numpy as np\n",
    "import pandas as pd\n",
    "import covasim as cv\n",
    "from pyDOE import lhs\n",
    "from src.data import get_regional_data\n",
    "from src.interventions import get_sampling_interventions"
   ]
  },
  {
   "cell_type": "markdown",
   "metadata": {
    "slideshow": {
     "slide_type": "slide"
    }
   },
   "source": [
    "# Data Generation"
   ]
  },
  {
   "cell_type": "markdown",
   "metadata": {
    "slideshow": {
     "slide_type": "subslide"
    }
   },
   "source": [
    "## Initial Configuration\n",
    "\n",
    "Once the dataset is calibrated, we would like to use it to predict possible future evolutions of the pandemic.\n",
    "\n",
    "Given that *Covasim* needs a warm-up period to reach a stabler pandemic condition, we will proceed by generating the dataset in this way:\n",
    "* we run a simulation for a total of *zones_starting_day $+$ num_zones $\\cdot$ time_interval days*\n",
    "* we discard the first *zones_starting_day* days (251, in our case), meaning that we will collect data from 01/11/2020 on, which is when the evolution of the pandemic started having a behaviour more similar to the one we have right now (i.e., after the summer period)\n",
    "* we aggregate the data on a time window of size *2 $\\cdot$ time_interval* (6 weeks, in our case), in which we consider the first half of the data as \"inputs\", and the last half as \"outputs\"\n",
    "  * right in the middle of these windows there is a zone change\n",
    "  * it will be used as input of the surrogate model together with the other data\n",
    "\n",
    "In this way, we aim at maximizing the number of samples that we can get from each run, while trying at the same time to cover the data space in a (hopefully) almost uniform way."
   ]
  },
  {
   "cell_type": "code",
   "execution_count": 2,
   "metadata": {
    "slideshow": {
     "slide_type": "-"
    }
   },
   "outputs": [],
   "source": [
    "num_zones = 8\n",
    "time_interval = 21\n",
    "zones_starting_day = 251"
   ]
  },
  {
   "cell_type": "markdown",
   "metadata": {
    "slideshow": {
     "slide_type": "subslide"
    }
   },
   "source": [
    "We can now retrieve the parameters' configuration that we obtained from the calibration step and set the length of the simulation from the previously set values."
   ]
  },
  {
   "cell_type": "code",
   "execution_count": 3,
   "metadata": {
    "slideshow": {
     "slide_type": "-"
    }
   },
   "outputs": [
    {
     "data": {
      "text/plain": "{'pop_type': 'hybrid',\n 'location': 'italy',\n 'start_day': '2020-02-24',\n 'pop_size': 400000,\n 'pop_infected': 720,\n 'n_beds_hosp': 1481.6,\n 'n_beds_icu': 57.84,\n 'quar_period': 14,\n 'verbose': 0,\n 'n_days': 419}"
     },
     "execution_count": 3,
     "metadata": {},
     "output_type": "execute_result"
    }
   ],
   "source": [
    "with open('../res/parameters.json', 'r') as json_file:\n",
    "    j = json.load(json_file)\n",
    "\n",
    "intervention_params = j['intervention_params']\n",
    "initial_params = j['initial_params']\n",
    "initial_params['n_days'] = zones_starting_day + num_zones * time_interval\n",
    "df = get_regional_data(4.46e6 / initial_params['pop_size'])\n",
    "\n",
    "initial_params"
   ]
  },
  {
   "cell_type": "markdown",
   "metadata": {
    "slideshow": {
     "slide_type": "subslide"
    }
   },
   "source": [
    "## Latin-Hypercube Sampling\n",
    "\n",
    "We have *4* possible categories for the zones, and each run of the simulator will consider a sequence of *8* zone changes. Thus, the total number of possible sequences is $4^8 = 65536$, which, if we consider an average of 2 minutes for each run, will end the generation phase after 90 days.\n",
    "\n",
    "This is clearly not desirable, thus we rely on *Latin-Hypercube Sampling* to generate a subset of *300* sequences which, however, is supposed to cover the sequences space almost uniformly. Again, if we consider an average of 2 minutes for each run, will end the generation phase after 10 hours."
   ]
  },
  {
   "cell_type": "code",
   "execution_count": 4,
   "metadata": {},
   "outputs": [
    {
     "data": {
      "text/plain": "     0  1  2  3  4  5  6  7\n0    Y  R  W  Y  R  Y  Y  Y\n1    Y  O  O  Y  R  Y  R  Y\n2    Y  O  W  O  R  O  W  O\n3    O  W  W  W  Y  R  R  Y\n4    R  Y  O  O  R  O  R  W\n..  .. .. .. .. .. .. .. ..\n195  O  Y  O  R  Y  O  O  W\n196  Y  R  Y  R  W  R  O  Y\n197  O  O  O  R  O  W  W  W\n198  Y  Y  O  O  O  W  W  R\n199  O  R  R  O  R  W  O  W\n\n[200 rows x 8 columns]",
      "text/html": "<div>\n<style scoped>\n    .dataframe tbody tr th:only-of-type {\n        vertical-align: middle;\n    }\n\n    .dataframe tbody tr th {\n        vertical-align: top;\n    }\n\n    .dataframe thead th {\n        text-align: right;\n    }\n</style>\n<table border=\"1\" class=\"dataframe\">\n  <thead>\n    <tr style=\"text-align: right;\">\n      <th></th>\n      <th>0</th>\n      <th>1</th>\n      <th>2</th>\n      <th>3</th>\n      <th>4</th>\n      <th>5</th>\n      <th>6</th>\n      <th>7</th>\n    </tr>\n  </thead>\n  <tbody>\n    <tr>\n      <th>0</th>\n      <td>Y</td>\n      <td>R</td>\n      <td>W</td>\n      <td>Y</td>\n      <td>R</td>\n      <td>Y</td>\n      <td>Y</td>\n      <td>Y</td>\n    </tr>\n    <tr>\n      <th>1</th>\n      <td>Y</td>\n      <td>O</td>\n      <td>O</td>\n      <td>Y</td>\n      <td>R</td>\n      <td>Y</td>\n      <td>R</td>\n      <td>Y</td>\n    </tr>\n    <tr>\n      <th>2</th>\n      <td>Y</td>\n      <td>O</td>\n      <td>W</td>\n      <td>O</td>\n      <td>R</td>\n      <td>O</td>\n      <td>W</td>\n      <td>O</td>\n    </tr>\n    <tr>\n      <th>3</th>\n      <td>O</td>\n      <td>W</td>\n      <td>W</td>\n      <td>W</td>\n      <td>Y</td>\n      <td>R</td>\n      <td>R</td>\n      <td>Y</td>\n    </tr>\n    <tr>\n      <th>4</th>\n      <td>R</td>\n      <td>Y</td>\n      <td>O</td>\n      <td>O</td>\n      <td>R</td>\n      <td>O</td>\n      <td>R</td>\n      <td>W</td>\n    </tr>\n    <tr>\n      <th>...</th>\n      <td>...</td>\n      <td>...</td>\n      <td>...</td>\n      <td>...</td>\n      <td>...</td>\n      <td>...</td>\n      <td>...</td>\n      <td>...</td>\n    </tr>\n    <tr>\n      <th>195</th>\n      <td>O</td>\n      <td>Y</td>\n      <td>O</td>\n      <td>R</td>\n      <td>Y</td>\n      <td>O</td>\n      <td>O</td>\n      <td>W</td>\n    </tr>\n    <tr>\n      <th>196</th>\n      <td>Y</td>\n      <td>R</td>\n      <td>Y</td>\n      <td>R</td>\n      <td>W</td>\n      <td>R</td>\n      <td>O</td>\n      <td>Y</td>\n    </tr>\n    <tr>\n      <th>197</th>\n      <td>O</td>\n      <td>O</td>\n      <td>O</td>\n      <td>R</td>\n      <td>O</td>\n      <td>W</td>\n      <td>W</td>\n      <td>W</td>\n    </tr>\n    <tr>\n      <th>198</th>\n      <td>Y</td>\n      <td>Y</td>\n      <td>O</td>\n      <td>O</td>\n      <td>O</td>\n      <td>W</td>\n      <td>W</td>\n      <td>R</td>\n    </tr>\n    <tr>\n      <th>199</th>\n      <td>O</td>\n      <td>R</td>\n      <td>R</td>\n      <td>O</td>\n      <td>R</td>\n      <td>W</td>\n      <td>O</td>\n      <td>W</td>\n    </tr>\n  </tbody>\n</table>\n<p>200 rows × 8 columns</p>\n</div>"
     },
     "execution_count": 4,
     "metadata": {},
     "output_type": "execute_result"
    }
   ],
   "source": [
    "np.random.seed(42)\n",
    "samples = lhs(n=num_zones, samples=200)\n",
    "samples = pd.DataFrame(samples)\n",
    "for i in range(num_zones):\n",
    "    samples[i] = samples[i].map(lambda v: int(4 * v)).map({0: 'W', 1: 'Y', 2: 'O', 3: 'R'})\n",
    "samples"
   ]
  },
  {
   "cell_type": "markdown",
   "metadata": {
    "slideshow": {
     "slide_type": "subslide"
    }
   },
   "source": [
    "We can start the generation script, from which we will collect the data about *hospitalized* individuals and new *diagnosed* cases and *deaths*."
   ]
  },
  {
   "cell_type": "code",
   "execution_count": 5,
   "metadata": {
    "slideshow": {
     "slide_type": "-"
    }
   },
   "outputs": [
    {
     "name": "stdout",
     "output_type": "stream",
     "text": [
      "Generating samples for simulation 001/200 -- elapsed time: 120.9s\n",
      "Generating samples for simulation 002/200 -- elapsed time: 98.75s\n",
      "Generating samples for simulation 003/200 -- elapsed time: 90.75s\n",
      "Generating samples for simulation 004/200 -- elapsed time: 89.6s\n",
      "Generating samples for simulation 005/200 -- elapsed time: 92.26s\n",
      "Generating samples for simulation 006/200 -- elapsed time: 89.2s\n",
      "Generating samples for simulation 007/200 -- elapsed time: 90.86s\n",
      "Generating samples for simulation 008/200 -- elapsed time: 88.11s\n",
      "Generating samples for simulation 009/200 -- elapsed time: 87.59s\n",
      "Generating samples for simulation 010/200 -- elapsed time: 81.26s\n",
      "Generating samples for simulation 011/200 -- elapsed time: 88.63s\n",
      "Generating samples for simulation 012/200 -- elapsed time: 87.81s\n",
      "Generating samples for simulation 013/200 -- elapsed time: 86.8s\n",
      "Generating samples for simulation 014/200 -- elapsed time: 86.69s\n",
      "Generating samples for simulation 015/200 -- elapsed time: 90.19s\n",
      "Generating samples for simulation 016/200 -- elapsed time: 81.56s\n",
      "Generating samples for simulation 017/200 -- elapsed time: 89.98s\n",
      "Generating samples for simulation 018/200 -- elapsed time: 87.45s\n",
      "Generating samples for simulation 019/200 -- elapsed time: 92.97s\n",
      "Generating samples for simulation 020/200 -- elapsed time: 88.69s\n",
      "Generating samples for simulation 021/200 -- elapsed time: 85.69s\n",
      "Generating samples for simulation 022/200 -- elapsed time: 89.98s\n",
      "Generating samples for simulation 023/200 -- elapsed time: 83.62s\n",
      "Generating samples for simulation 024/200 -- elapsed time: 87.49s\n",
      "Generating samples for simulation 025/200 -- elapsed time: 87.64s\n",
      "Generating samples for simulation 026/200 -- elapsed time: 88.25s\n",
      "Generating samples for simulation 027/200 -- elapsed time: 89.41s\n",
      "Generating samples for simulation 028/200 -- elapsed time: 82.09s\n",
      "Generating samples for simulation 029/200 -- elapsed time: 86.47s\n",
      "Generating samples for simulation 030/200 -- elapsed time: 90.96s\n",
      "Generating samples for simulation 031/200 -- elapsed time: 88.09s\n",
      "Generating samples for simulation 032/200 -- elapsed time: 87.64s\n",
      "Generating samples for simulation 033/200 -- elapsed time: 87.88s\n",
      "Generating samples for simulation 034/200 -- elapsed time: 88.21s\n",
      "Generating samples for simulation 035/200 -- elapsed time: 82.03s\n",
      "Generating samples for simulation 036/200 -- elapsed time: 83.65s\n",
      "Generating samples for simulation 037/200 -- elapsed time: 84.62s\n",
      "Generating samples for simulation 038/200 -- elapsed time: 88.37s\n",
      "Generating samples for simulation 039/200 -- elapsed time: 88.98s\n",
      "Generating samples for simulation 040/200 -- elapsed time: 78.63s\n",
      "Generating samples for simulation 041/200 -- elapsed time: 83.7s\n",
      "Generating samples for simulation 042/200 -- elapsed time: 87.3s\n",
      "Generating samples for simulation 043/200 -- elapsed time: 89.63s\n",
      "Generating samples for simulation 044/200 -- elapsed time: 84.8s\n",
      "Generating samples for simulation 045/200 -- elapsed time: 88.98s\n",
      "Generating samples for simulation 046/200 -- elapsed time: 86.93s\n",
      "Generating samples for simulation 047/200 -- elapsed time: 89.2s\n",
      "Generating samples for simulation 048/200 -- elapsed time: 84.54s\n",
      "Generating samples for simulation 049/200 -- elapsed time: 81.93s\n",
      "Generating samples for simulation 050/200 -- elapsed time: 90.71s\n",
      "Generating samples for simulation 051/200 -- elapsed time: 93.61s\n",
      "Generating samples for simulation 052/200 -- elapsed time: 89.05s\n",
      "Generating samples for simulation 053/200 -- elapsed time: 92.88s\n",
      "Generating samples for simulation 054/200 -- elapsed time: 84.28s\n",
      "Generating samples for simulation 055/200 -- elapsed time: 88.83s\n",
      "Generating samples for simulation 056/200 -- elapsed time: 87.8s\n",
      "Generating samples for simulation 057/200 -- elapsed time: 89.11s\n",
      "Generating samples for simulation 058/200 -- elapsed time: 89.1s\n",
      "Generating samples for simulation 059/200 -- elapsed time: 91.92s\n",
      "Generating samples for simulation 060/200 -- elapsed time: 92.54s\n",
      "Generating samples for simulation 061/200 -- elapsed time: 88.73s\n",
      "Generating samples for simulation 062/200 -- elapsed time: 82.95s\n",
      "Generating samples for simulation 063/200 -- elapsed time: 88.03s\n",
      "Generating samples for simulation 064/200 -- elapsed time: 92.04s\n",
      "Generating samples for simulation 065/200 -- elapsed time: 99.43s\n",
      "Generating samples for simulation 066/200 -- elapsed time: 104.7s\n",
      "Generating samples for simulation 067/200 -- elapsed time: 97.92s\n",
      "Generating samples for simulation 068/200 -- elapsed time: 96.56s\n",
      "Generating samples for simulation 069/200 -- elapsed time: 96.84s\n",
      "Generating samples for simulation 070/200 -- elapsed time: 94.67s\n",
      "Generating samples for simulation 071/200 -- elapsed time: 91.03s\n",
      "Generating samples for simulation 072/200 -- elapsed time: 92.23s\n",
      "Generating samples for simulation 073/200 -- elapsed time: 96.9s\n",
      "Generating samples for simulation 074/200 -- elapsed time: 96.44s\n",
      "Generating samples for simulation 075/200 -- elapsed time: 98.49s\n",
      "Generating samples for simulation 076/200 -- elapsed time: 88.76s\n",
      "Generating samples for simulation 077/200 -- elapsed time: 98.77s\n",
      "Generating samples for simulation 078/200 -- elapsed time: 95.8s\n",
      "Generating samples for simulation 079/200 -- elapsed time: 101.0s\n",
      "Generating samples for simulation 080/200 -- elapsed time: 97.96s\n",
      "Generating samples for simulation 081/200 -- elapsed time: 98.78s\n",
      "Generating samples for simulation 082/200 -- elapsed time: 100.4s\n",
      "Generating samples for simulation 083/200 -- elapsed time: 96.96s\n",
      "Generating samples for simulation 084/200 -- elapsed time: 92.62s\n",
      "Generating samples for simulation 085/200 -- elapsed time: 97.79s\n",
      "Generating samples for simulation 086/200 -- elapsed time: 92.61s\n",
      "Generating samples for simulation 087/200 -- elapsed time: 89.57s\n",
      "Generating samples for simulation 088/200 -- elapsed time: 115.8s\n",
      "Generating samples for simulation 089/200 -- elapsed time: 115.7s\n",
      "Generating samples for simulation 090/200 -- elapsed time: 101.8s\n",
      "Generating samples for simulation 091/200 -- elapsed time: 101.7s\n",
      "Generating samples for simulation 092/200 -- elapsed time: 97.15s\n",
      "Generating samples for simulation 093/200 -- elapsed time: 96.45s\n",
      "Generating samples for simulation 094/200 -- elapsed time: 95.83s\n",
      "Generating samples for simulation 095/200 -- elapsed time: 94.38s\n",
      "Generating samples for simulation 096/200 -- elapsed time: 100.6s\n",
      "Generating samples for simulation 097/200 -- elapsed time: 92.7s\n",
      "Generating samples for simulation 098/200 -- elapsed time: 109.0s\n",
      "Generating samples for simulation 099/200 -- elapsed time: 101.4s\n",
      "Generating samples for simulation 100/200 -- elapsed time: 96.01s\n",
      "Generating samples for simulation 101/200 -- elapsed time: 86.45s\n",
      "Generating samples for simulation 102/200 -- elapsed time: 91.49s\n",
      "Generating samples for simulation 103/200 -- elapsed time: 87.91s\n",
      "Generating samples for simulation 104/200 -- elapsed time: 91.74s\n",
      "Generating samples for simulation 105/200 -- elapsed time: 90.51s\n",
      "Generating samples for simulation 106/200 -- elapsed time: 87.32s\n",
      "Generating samples for simulation 107/200 -- elapsed time: 80.46s\n",
      "Generating samples for simulation 108/200 -- elapsed time: 91.54s\n",
      "Generating samples for simulation 109/200 -- elapsed time: 88.38s\n",
      "Generating samples for simulation 110/200 -- elapsed time: 86.83s\n",
      "Generating samples for simulation 111/200 -- elapsed time: 86.18s\n",
      "Generating samples for simulation 112/200 -- elapsed time: 92.01s\n",
      "Generating samples for simulation 113/200 -- elapsed time: 89.31s\n",
      "Generating samples for simulation 114/200 -- elapsed time: 86.68s\n",
      "Generating samples for simulation 115/200 -- elapsed time: 93.39s\n",
      "Generating samples for simulation 116/200 -- elapsed time: 87.86s\n",
      "Generating samples for simulation 117/200 -- elapsed time: 88.82s\n",
      "Generating samples for simulation 118/200 -- elapsed time: 90.19s\n",
      "Generating samples for simulation 119/200 -- elapsed time: 91.0s\n",
      "Generating samples for simulation 120/200 -- elapsed time: 86.8s\n",
      "Generating samples for simulation 121/200 -- elapsed time: 90.02s\n",
      "Generating samples for simulation 122/200 -- elapsed time: 89.61s\n",
      "Generating samples for simulation 123/200 -- elapsed time: 86.68s\n",
      "Generating samples for simulation 124/200 -- elapsed time: 89.29s\n",
      "Generating samples for simulation 125/200 -- elapsed time: 99.89s\n",
      "Generating samples for simulation 126/200 -- elapsed time: 113.8s\n",
      "Generating samples for simulation 127/200 -- elapsed time: 111.6s\n",
      "Generating samples for simulation 128/200 -- elapsed time: 112.3s\n",
      "Generating samples for simulation 129/200 -- elapsed time: 114.9s\n",
      "Generating samples for simulation 130/200 -- elapsed time: 110.0s\n",
      "Generating samples for simulation 131/200 -- elapsed time: 111.0s\n",
      "Generating samples for simulation 132/200 -- elapsed time: 116.2s\n",
      "Generating samples for simulation 133/200 -- elapsed time: 104.5s\n",
      "Generating samples for simulation 134/200 -- elapsed time: 114.5s\n",
      "Generating samples for simulation 135/200 -- elapsed time: 114.1s\n",
      "Generating samples for simulation 136/200 -- elapsed time: 110.4s\n",
      "Generating samples for simulation 137/200 -- elapsed time: 112.2s\n",
      "Generating samples for simulation 138/200 -- elapsed time: 109.3s\n",
      "Generating samples for simulation 139/200 -- elapsed time: 116.9s\n",
      "Generating samples for simulation 140/200 -- elapsed time: 113.3s\n",
      "Generating samples for simulation 141/200 -- elapsed time: 107.7s\n",
      "Generating samples for simulation 142/200 -- elapsed time: 113.2s\n",
      "Generating samples for simulation 143/200 -- elapsed time: 110.9s\n",
      "Generating samples for simulation 144/200 -- elapsed time: 108.2s\n",
      "Generating samples for simulation 145/200 -- elapsed time: 111.9s\n",
      "Generating samples for simulation 146/200 -- elapsed time: 105.3s\n",
      "Generating samples for simulation 147/200 -- elapsed time: 115.0s\n",
      "Generating samples for simulation 148/200 -- elapsed time: 108.8s\n",
      "Generating samples for simulation 149/200 -- elapsed time: 112.5s\n",
      "Generating samples for simulation 150/200 -- elapsed time: 115.1s\n",
      "Generating samples for simulation 151/200 -- elapsed time: 108.6s\n",
      "Generating samples for simulation 152/200 -- elapsed time: 108.3s\n",
      "Generating samples for simulation 153/200 -- elapsed time: 106.9s\n",
      "Generating samples for simulation 154/200 -- elapsed time: 114.0s\n",
      "Generating samples for simulation 155/200 -- elapsed time: 112.0s\n",
      "Generating samples for simulation 156/200 -- elapsed time: 116.0s\n",
      "Generating samples for simulation 157/200 -- elapsed time: 111.8s\n",
      "Generating samples for simulation 158/200 -- elapsed time: 112.6s\n",
      "Generating samples for simulation 159/200 -- elapsed time: 109.9s\n",
      "Generating samples for simulation 160/200 -- elapsed time: 113.0s\n",
      "Generating samples for simulation 161/200 -- elapsed time: 106.3s\n",
      "Generating samples for simulation 162/200 -- elapsed time: 116.5s\n",
      "Generating samples for simulation 163/200 -- elapsed time: 105.6s\n",
      "Generating samples for simulation 164/200 -- elapsed time: 107.2s\n",
      "Generating samples for simulation 165/200 -- elapsed time: 102.2s\n",
      "Generating samples for simulation 166/200 -- elapsed time: 100.0s\n",
      "Generating samples for simulation 167/200 -- elapsed time: 112.1s\n",
      "Generating samples for simulation 168/200 -- elapsed time: 106.4s\n",
      "Generating samples for simulation 169/200 -- elapsed time: 105.4s\n",
      "Generating samples for simulation 170/200 -- elapsed time: 115.3s\n",
      "Generating samples for simulation 171/200 -- elapsed time: 107.2s\n",
      "Generating samples for simulation 172/200 -- elapsed time: 112.8s\n",
      "Generating samples for simulation 173/200 -- elapsed time: 104.1s\n",
      "Generating samples for simulation 174/200 -- elapsed time: 111.2s\n",
      "Generating samples for simulation 175/200 -- elapsed time: 105.2s\n",
      "Generating samples for simulation 176/200 -- elapsed time: 105.7s\n",
      "Generating samples for simulation 177/200 -- elapsed time: 112.8s\n",
      "Generating samples for simulation 178/200 -- elapsed time: 111.2s\n",
      "Generating samples for simulation 179/200 -- elapsed time: 111.1s\n",
      "Generating samples for simulation 180/200 -- elapsed time: 109.4s\n",
      "Generating samples for simulation 181/200 -- elapsed time: 107.7s\n",
      "Generating samples for simulation 182/200 -- elapsed time: 114.2s\n",
      "Generating samples for simulation 183/200 -- elapsed time: 106.8s\n",
      "Generating samples for simulation 184/200 -- elapsed time: 109.1s\n",
      "Generating samples for simulation 185/200 -- elapsed time: 109.6s\n",
      "Generating samples for simulation 186/200 -- elapsed time: 112.4s\n",
      "Generating samples for simulation 187/200 -- elapsed time: 105.7s\n",
      "Generating samples for simulation 188/200 -- elapsed time: 106.5s\n",
      "Generating samples for simulation 189/200 -- elapsed time: 105.5s\n",
      "Generating samples for simulation 190/200 -- elapsed time: 109.8s\n",
      "Generating samples for simulation 191/200 -- elapsed time: 115.6s\n",
      "Generating samples for simulation 192/200 -- elapsed time: 111.1s\n",
      "Generating samples for simulation 193/200 -- elapsed time: 110.8s\n",
      "Generating samples for simulation 194/200 -- elapsed time: 104.7s\n",
      "Generating samples for simulation 195/200 -- elapsed time: 114.3s\n",
      "Generating samples for simulation 196/200 -- elapsed time: 110.9s\n",
      "Generating samples for simulation 197/200 -- elapsed time: 107.1s\n",
      "Generating samples for simulation 198/200 -- elapsed time: 111.8s\n",
      "Generating samples for simulation 199/200 -- elapsed time: 110.7s\n",
      "Generating samples for simulation 200/200 -- elapsed time: 106.0s\n"
     ]
    }
   ],
   "source": [
    "data = []\n",
    "for idx, zones in samples.iterrows():\n",
    "    print(f'Generating samples for simulation {idx + 1:0{len(str(samples.shape[0]))}}/{samples.shape[0]}', end='')\n",
    "    start_time = time.time()\n",
    "    intervs = get_sampling_interventions(zones, intervention_params, time_interval)\n",
    "    sim = cv.Sim(pars={**initial_params, 'rand_seed': idx}, interventions=intervs, datafile=df)\n",
    "    sim.run()\n",
    "    # concatenate data in an array of shape (num_days, 4)\n",
    "    result = np.concatenate((\n",
    "        sim.results['n_severe'].values + sim.results['n_critical'].values,\n",
    "        sim.results['new_diagnoses'].values,\n",
    "        sim.results['new_deaths'].values\n",
    "    )).reshape(3, -1).transpose()\n",
    "    # retrieve data about last num_zones * time_interval and flatten it to get num_zones rows\n",
    "    result = result[-num_zones * time_interval:].reshape(num_zones, -1)\n",
    "    # get data about two subsequent zones with respective zone colors\n",
    "    data += [np.concatenate((inp, out, zones[z:z + 2])) for z, (inp, out), in enumerate(zip(result[:-1], result[1:]))]\n",
    "    print(f' -- elapsed time: {time.time() - start_time:.4}s')"
   ]
  },
  {
   "cell_type": "markdown",
   "metadata": {
    "slideshow": {
     "slide_type": "subslide"
    }
   },
   "source": [
    "## Saving the Dataset\n",
    "\n",
    "We can now collect the data into a pandas dataframe and store it in a *csv* file to be used to train the surrogate model."
   ]
  },
  {
   "cell_type": "code",
   "execution_count": 6,
   "metadata": {
    "pycharm": {
     "name": "#%%\n"
    },
    "slideshow": {
     "slide_type": "-"
    }
   },
   "outputs": [
    {
     "data": {
      "text/plain": "      hosp_0  diag_0  dead_0  hosp_1  diag_1  dead_1  hosp_2  diag_2  dead_2  \\\n0       98.0    49.0     1.0   106.0   118.0     1.0   107.0    89.0     3.0   \n1      224.0    95.0     1.0   219.0   135.0     7.0   223.0   128.0     4.0   \n2      119.0    22.0     3.0   109.0    17.0     2.0   100.0    23.0     1.0   \n3       94.0    50.0     0.0    96.0    99.0     2.0   106.0   100.0     0.0   \n4      193.0    65.0     6.0   198.0   170.0     2.0   199.0   145.0     5.0   \n...      ...     ...     ...     ...     ...     ...     ...     ...     ...   \n1395   128.0    17.0     5.0   121.0    23.0     2.0   104.0    14.0     4.0   \n1396    15.0     2.0     0.0    14.0     1.0     0.0    13.0     1.0     0.0   \n1397    10.0     7.0     0.0    13.0    16.0     0.0    16.0    12.0     0.0   \n1398    11.0     1.0     1.0     6.0     2.0     1.0     5.0     2.0     0.0   \n1399    18.0    23.0     1.0    19.0    45.0     0.0    21.0    27.0     0.0   \n\n      hosp_3  diag_3  dead_3  hosp_4  diag_4  dead_4  hosp_5  diag_5  dead_5  \\\n0      116.0   102.0     0.0   125.0   114.0     0.0   134.0    89.0     2.0   \n1      227.0   111.0     3.0   229.0   122.0     5.0   222.0   113.0     6.0   \n2       91.0    26.0     1.0    85.0    27.0     0.0    75.0    26.0     5.0   \n3      111.0    73.0     2.0   117.0   105.0     1.0   124.0    85.0     2.0   \n4      206.0   169.0     3.0   211.0   113.0     5.0   211.0   109.0     1.0   \n...      ...     ...     ...     ...     ...     ...     ...     ...     ...   \n1395    89.0     6.0     4.0    75.0    20.0     5.0    76.0    12.0     2.0   \n1396    11.0     0.0     0.0    10.0     3.0     0.0     9.0     2.0     0.0   \n1397    16.0    13.0     0.0    17.0    12.0     0.0    18.0     8.0     0.0   \n1398     4.0     2.0     0.0     4.0     0.0     0.0     4.0     5.0     0.0   \n1399    21.0    33.0     1.0    23.0    36.0     0.0    25.0    27.0     0.0   \n\n      hosp_6  diag_6  dead_6  hosp_7  ...  diag_35  dead_35  hosp_36  diag_36  \\\n0      137.0    76.0     2.0   151.0  ...     33.0      7.0    180.0     43.0   \n1      224.0    68.0     6.0   230.0  ...     30.0      0.0     61.0     85.0   \n2       68.0    10.0     2.0    69.0  ...     61.0      2.0    192.0    168.0   \n3      132.0    80.0     3.0   146.0  ...     21.0      5.0    203.0     62.0   \n4      209.0    69.0     6.0   208.0  ...     15.0      1.0     31.0     48.0   \n...      ...     ...     ...     ...  ...      ...      ...      ...      ...   \n1395    69.0    20.0     1.0    64.0  ...      3.0      0.0      5.0     12.0   \n1396     8.0     1.0     0.0     7.0  ...      3.0      1.0     19.0     10.0   \n1397    23.0     7.0     0.0    23.0  ...     12.0      0.0     10.0     19.0   \n1398     4.0     4.0     0.0     4.0  ...     18.0      1.0     41.0     29.0   \n1399    31.0    19.0     0.0    30.0  ...     18.0      0.0     50.0     52.0   \n\n      dead_36  hosp_37  diag_37  dead_37  hosp_38  diag_38  dead_38  hosp_39  \\\n0         3.0    173.0     19.0      5.0    167.0     47.0      2.0    151.0   \n1         1.0     68.0     59.0      0.0     69.0     63.0      3.0     76.0   \n2         5.0    186.0    171.0      5.0    194.0    138.0      5.0    201.0   \n3         2.0    188.0     36.0      5.0    157.0     33.0      9.0    152.0   \n4         0.0     31.0     41.0      1.0     34.0     38.0      0.0     34.0   \n...       ...      ...      ...      ...      ...      ...      ...      ...   \n1395      0.0      5.0     10.0      0.0      8.0      9.0      0.0      9.0   \n1396      1.0     20.0      4.0      0.0     20.0      3.0      0.0     20.0   \n1397      1.0     12.0     16.0      0.0     13.0     29.0      0.0     14.0   \n1398      0.0     46.0     21.0      1.0     49.0     26.0      0.0     47.0   \n1399      1.0     47.0     41.0      2.0     49.0     38.0      0.0     50.0   \n\n      diag_39  dead_39  hosp_40  diag_40  dead_40  hosp_41  diag_41  dead_41  \\\n0        44.0      5.0    143.0     36.0      2.0    135.0     19.0      1.0   \n1        59.0      0.0     78.0     28.0      1.0     83.0     81.0      1.0   \n2       129.0      3.0    199.0    146.0      2.0    196.0    112.0      6.0   \n3        27.0      3.0    144.0     21.0      1.0    138.0     15.0      5.0   \n4        36.0      1.0     35.0     28.0      2.0     36.0     33.0      1.0   \n...       ...      ...      ...      ...      ...      ...      ...      ...   \n1395      7.0      0.0      9.0      7.0      0.0     10.0     14.0      0.0   \n1396      3.0      0.0     18.0      1.0      0.0     13.0      0.0      1.0   \n1397     17.0      0.0     15.0     11.0      0.0     14.0     13.0      1.0   \n1398     14.0      1.0     46.0     21.0      2.0     36.0      9.0      5.0   \n1399     43.0      2.0     50.0     49.0      3.0     48.0     50.0      3.0   \n\n      init_zone  actuated_zone  \n0             Y              R  \n1             R              W  \n2             W              Y  \n3             Y              R  \n4             R              Y  \n...         ...            ...  \n1395          R              O  \n1396          O              R  \n1397          R              W  \n1398          W              O  \n1399          O              W  \n\n[1400 rows x 128 columns]",
      "text/html": "<div>\n<style scoped>\n    .dataframe tbody tr th:only-of-type {\n        vertical-align: middle;\n    }\n\n    .dataframe tbody tr th {\n        vertical-align: top;\n    }\n\n    .dataframe thead th {\n        text-align: right;\n    }\n</style>\n<table border=\"1\" class=\"dataframe\">\n  <thead>\n    <tr style=\"text-align: right;\">\n      <th></th>\n      <th>hosp_0</th>\n      <th>diag_0</th>\n      <th>dead_0</th>\n      <th>hosp_1</th>\n      <th>diag_1</th>\n      <th>dead_1</th>\n      <th>hosp_2</th>\n      <th>diag_2</th>\n      <th>dead_2</th>\n      <th>hosp_3</th>\n      <th>diag_3</th>\n      <th>dead_3</th>\n      <th>hosp_4</th>\n      <th>diag_4</th>\n      <th>dead_4</th>\n      <th>hosp_5</th>\n      <th>diag_5</th>\n      <th>dead_5</th>\n      <th>hosp_6</th>\n      <th>diag_6</th>\n      <th>dead_6</th>\n      <th>hosp_7</th>\n      <th>...</th>\n      <th>diag_35</th>\n      <th>dead_35</th>\n      <th>hosp_36</th>\n      <th>diag_36</th>\n      <th>dead_36</th>\n      <th>hosp_37</th>\n      <th>diag_37</th>\n      <th>dead_37</th>\n      <th>hosp_38</th>\n      <th>diag_38</th>\n      <th>dead_38</th>\n      <th>hosp_39</th>\n      <th>diag_39</th>\n      <th>dead_39</th>\n      <th>hosp_40</th>\n      <th>diag_40</th>\n      <th>dead_40</th>\n      <th>hosp_41</th>\n      <th>diag_41</th>\n      <th>dead_41</th>\n      <th>init_zone</th>\n      <th>actuated_zone</th>\n    </tr>\n  </thead>\n  <tbody>\n    <tr>\n      <th>0</th>\n      <td>98.0</td>\n      <td>49.0</td>\n      <td>1.0</td>\n      <td>106.0</td>\n      <td>118.0</td>\n      <td>1.0</td>\n      <td>107.0</td>\n      <td>89.0</td>\n      <td>3.0</td>\n      <td>116.0</td>\n      <td>102.0</td>\n      <td>0.0</td>\n      <td>125.0</td>\n      <td>114.0</td>\n      <td>0.0</td>\n      <td>134.0</td>\n      <td>89.0</td>\n      <td>2.0</td>\n      <td>137.0</td>\n      <td>76.0</td>\n      <td>2.0</td>\n      <td>151.0</td>\n      <td>...</td>\n      <td>33.0</td>\n      <td>7.0</td>\n      <td>180.0</td>\n      <td>43.0</td>\n      <td>3.0</td>\n      <td>173.0</td>\n      <td>19.0</td>\n      <td>5.0</td>\n      <td>167.0</td>\n      <td>47.0</td>\n      <td>2.0</td>\n      <td>151.0</td>\n      <td>44.0</td>\n      <td>5.0</td>\n      <td>143.0</td>\n      <td>36.0</td>\n      <td>2.0</td>\n      <td>135.0</td>\n      <td>19.0</td>\n      <td>1.0</td>\n      <td>Y</td>\n      <td>R</td>\n    </tr>\n    <tr>\n      <th>1</th>\n      <td>224.0</td>\n      <td>95.0</td>\n      <td>1.0</td>\n      <td>219.0</td>\n      <td>135.0</td>\n      <td>7.0</td>\n      <td>223.0</td>\n      <td>128.0</td>\n      <td>4.0</td>\n      <td>227.0</td>\n      <td>111.0</td>\n      <td>3.0</td>\n      <td>229.0</td>\n      <td>122.0</td>\n      <td>5.0</td>\n      <td>222.0</td>\n      <td>113.0</td>\n      <td>6.0</td>\n      <td>224.0</td>\n      <td>68.0</td>\n      <td>6.0</td>\n      <td>230.0</td>\n      <td>...</td>\n      <td>30.0</td>\n      <td>0.0</td>\n      <td>61.0</td>\n      <td>85.0</td>\n      <td>1.0</td>\n      <td>68.0</td>\n      <td>59.0</td>\n      <td>0.0</td>\n      <td>69.0</td>\n      <td>63.0</td>\n      <td>3.0</td>\n      <td>76.0</td>\n      <td>59.0</td>\n      <td>0.0</td>\n      <td>78.0</td>\n      <td>28.0</td>\n      <td>1.0</td>\n      <td>83.0</td>\n      <td>81.0</td>\n      <td>1.0</td>\n      <td>R</td>\n      <td>W</td>\n    </tr>\n    <tr>\n      <th>2</th>\n      <td>119.0</td>\n      <td>22.0</td>\n      <td>3.0</td>\n      <td>109.0</td>\n      <td>17.0</td>\n      <td>2.0</td>\n      <td>100.0</td>\n      <td>23.0</td>\n      <td>1.0</td>\n      <td>91.0</td>\n      <td>26.0</td>\n      <td>1.0</td>\n      <td>85.0</td>\n      <td>27.0</td>\n      <td>0.0</td>\n      <td>75.0</td>\n      <td>26.0</td>\n      <td>5.0</td>\n      <td>68.0</td>\n      <td>10.0</td>\n      <td>2.0</td>\n      <td>69.0</td>\n      <td>...</td>\n      <td>61.0</td>\n      <td>2.0</td>\n      <td>192.0</td>\n      <td>168.0</td>\n      <td>5.0</td>\n      <td>186.0</td>\n      <td>171.0</td>\n      <td>5.0</td>\n      <td>194.0</td>\n      <td>138.0</td>\n      <td>5.0</td>\n      <td>201.0</td>\n      <td>129.0</td>\n      <td>3.0</td>\n      <td>199.0</td>\n      <td>146.0</td>\n      <td>2.0</td>\n      <td>196.0</td>\n      <td>112.0</td>\n      <td>6.0</td>\n      <td>W</td>\n      <td>Y</td>\n    </tr>\n    <tr>\n      <th>3</th>\n      <td>94.0</td>\n      <td>50.0</td>\n      <td>0.0</td>\n      <td>96.0</td>\n      <td>99.0</td>\n      <td>2.0</td>\n      <td>106.0</td>\n      <td>100.0</td>\n      <td>0.0</td>\n      <td>111.0</td>\n      <td>73.0</td>\n      <td>2.0</td>\n      <td>117.0</td>\n      <td>105.0</td>\n      <td>1.0</td>\n      <td>124.0</td>\n      <td>85.0</td>\n      <td>2.0</td>\n      <td>132.0</td>\n      <td>80.0</td>\n      <td>3.0</td>\n      <td>146.0</td>\n      <td>...</td>\n      <td>21.0</td>\n      <td>5.0</td>\n      <td>203.0</td>\n      <td>62.0</td>\n      <td>2.0</td>\n      <td>188.0</td>\n      <td>36.0</td>\n      <td>5.0</td>\n      <td>157.0</td>\n      <td>33.0</td>\n      <td>9.0</td>\n      <td>152.0</td>\n      <td>27.0</td>\n      <td>3.0</td>\n      <td>144.0</td>\n      <td>21.0</td>\n      <td>1.0</td>\n      <td>138.0</td>\n      <td>15.0</td>\n      <td>5.0</td>\n      <td>Y</td>\n      <td>R</td>\n    </tr>\n    <tr>\n      <th>4</th>\n      <td>193.0</td>\n      <td>65.0</td>\n      <td>6.0</td>\n      <td>198.0</td>\n      <td>170.0</td>\n      <td>2.0</td>\n      <td>199.0</td>\n      <td>145.0</td>\n      <td>5.0</td>\n      <td>206.0</td>\n      <td>169.0</td>\n      <td>3.0</td>\n      <td>211.0</td>\n      <td>113.0</td>\n      <td>5.0</td>\n      <td>211.0</td>\n      <td>109.0</td>\n      <td>1.0</td>\n      <td>209.0</td>\n      <td>69.0</td>\n      <td>6.0</td>\n      <td>208.0</td>\n      <td>...</td>\n      <td>15.0</td>\n      <td>1.0</td>\n      <td>31.0</td>\n      <td>48.0</td>\n      <td>0.0</td>\n      <td>31.0</td>\n      <td>41.0</td>\n      <td>1.0</td>\n      <td>34.0</td>\n      <td>38.0</td>\n      <td>0.0</td>\n      <td>34.0</td>\n      <td>36.0</td>\n      <td>1.0</td>\n      <td>35.0</td>\n      <td>28.0</td>\n      <td>2.0</td>\n      <td>36.0</td>\n      <td>33.0</td>\n      <td>1.0</td>\n      <td>R</td>\n      <td>Y</td>\n    </tr>\n    <tr>\n      <th>...</th>\n      <td>...</td>\n      <td>...</td>\n      <td>...</td>\n      <td>...</td>\n      <td>...</td>\n      <td>...</td>\n      <td>...</td>\n      <td>...</td>\n      <td>...</td>\n      <td>...</td>\n      <td>...</td>\n      <td>...</td>\n      <td>...</td>\n      <td>...</td>\n      <td>...</td>\n      <td>...</td>\n      <td>...</td>\n      <td>...</td>\n      <td>...</td>\n      <td>...</td>\n      <td>...</td>\n      <td>...</td>\n      <td>...</td>\n      <td>...</td>\n      <td>...</td>\n      <td>...</td>\n      <td>...</td>\n      <td>...</td>\n      <td>...</td>\n      <td>...</td>\n      <td>...</td>\n      <td>...</td>\n      <td>...</td>\n      <td>...</td>\n      <td>...</td>\n      <td>...</td>\n      <td>...</td>\n      <td>...</td>\n      <td>...</td>\n      <td>...</td>\n      <td>...</td>\n      <td>...</td>\n      <td>...</td>\n      <td>...</td>\n      <td>...</td>\n    </tr>\n    <tr>\n      <th>1395</th>\n      <td>128.0</td>\n      <td>17.0</td>\n      <td>5.0</td>\n      <td>121.0</td>\n      <td>23.0</td>\n      <td>2.0</td>\n      <td>104.0</td>\n      <td>14.0</td>\n      <td>4.0</td>\n      <td>89.0</td>\n      <td>6.0</td>\n      <td>4.0</td>\n      <td>75.0</td>\n      <td>20.0</td>\n      <td>5.0</td>\n      <td>76.0</td>\n      <td>12.0</td>\n      <td>2.0</td>\n      <td>69.0</td>\n      <td>20.0</td>\n      <td>1.0</td>\n      <td>64.0</td>\n      <td>...</td>\n      <td>3.0</td>\n      <td>0.0</td>\n      <td>5.0</td>\n      <td>12.0</td>\n      <td>0.0</td>\n      <td>5.0</td>\n      <td>10.0</td>\n      <td>0.0</td>\n      <td>8.0</td>\n      <td>9.0</td>\n      <td>0.0</td>\n      <td>9.0</td>\n      <td>7.0</td>\n      <td>0.0</td>\n      <td>9.0</td>\n      <td>7.0</td>\n      <td>0.0</td>\n      <td>10.0</td>\n      <td>14.0</td>\n      <td>0.0</td>\n      <td>R</td>\n      <td>O</td>\n    </tr>\n    <tr>\n      <th>1396</th>\n      <td>15.0</td>\n      <td>2.0</td>\n      <td>0.0</td>\n      <td>14.0</td>\n      <td>1.0</td>\n      <td>0.0</td>\n      <td>13.0</td>\n      <td>1.0</td>\n      <td>0.0</td>\n      <td>11.0</td>\n      <td>0.0</td>\n      <td>0.0</td>\n      <td>10.0</td>\n      <td>3.0</td>\n      <td>0.0</td>\n      <td>9.0</td>\n      <td>2.0</td>\n      <td>0.0</td>\n      <td>8.0</td>\n      <td>1.0</td>\n      <td>0.0</td>\n      <td>7.0</td>\n      <td>...</td>\n      <td>3.0</td>\n      <td>1.0</td>\n      <td>19.0</td>\n      <td>10.0</td>\n      <td>1.0</td>\n      <td>20.0</td>\n      <td>4.0</td>\n      <td>0.0</td>\n      <td>20.0</td>\n      <td>3.0</td>\n      <td>0.0</td>\n      <td>20.0</td>\n      <td>3.0</td>\n      <td>0.0</td>\n      <td>18.0</td>\n      <td>1.0</td>\n      <td>0.0</td>\n      <td>13.0</td>\n      <td>0.0</td>\n      <td>1.0</td>\n      <td>O</td>\n      <td>R</td>\n    </tr>\n    <tr>\n      <th>1397</th>\n      <td>10.0</td>\n      <td>7.0</td>\n      <td>0.0</td>\n      <td>13.0</td>\n      <td>16.0</td>\n      <td>0.0</td>\n      <td>16.0</td>\n      <td>12.0</td>\n      <td>0.0</td>\n      <td>16.0</td>\n      <td>13.0</td>\n      <td>0.0</td>\n      <td>17.0</td>\n      <td>12.0</td>\n      <td>0.0</td>\n      <td>18.0</td>\n      <td>8.0</td>\n      <td>0.0</td>\n      <td>23.0</td>\n      <td>7.0</td>\n      <td>0.0</td>\n      <td>23.0</td>\n      <td>...</td>\n      <td>12.0</td>\n      <td>0.0</td>\n      <td>10.0</td>\n      <td>19.0</td>\n      <td>1.0</td>\n      <td>12.0</td>\n      <td>16.0</td>\n      <td>0.0</td>\n      <td>13.0</td>\n      <td>29.0</td>\n      <td>0.0</td>\n      <td>14.0</td>\n      <td>17.0</td>\n      <td>0.0</td>\n      <td>15.0</td>\n      <td>11.0</td>\n      <td>0.0</td>\n      <td>14.0</td>\n      <td>13.0</td>\n      <td>1.0</td>\n      <td>R</td>\n      <td>W</td>\n    </tr>\n    <tr>\n      <th>1398</th>\n      <td>11.0</td>\n      <td>1.0</td>\n      <td>1.0</td>\n      <td>6.0</td>\n      <td>2.0</td>\n      <td>1.0</td>\n      <td>5.0</td>\n      <td>2.0</td>\n      <td>0.0</td>\n      <td>4.0</td>\n      <td>2.0</td>\n      <td>0.0</td>\n      <td>4.0</td>\n      <td>0.0</td>\n      <td>0.0</td>\n      <td>4.0</td>\n      <td>5.0</td>\n      <td>0.0</td>\n      <td>4.0</td>\n      <td>4.0</td>\n      <td>0.0</td>\n      <td>4.0</td>\n      <td>...</td>\n      <td>18.0</td>\n      <td>1.0</td>\n      <td>41.0</td>\n      <td>29.0</td>\n      <td>0.0</td>\n      <td>46.0</td>\n      <td>21.0</td>\n      <td>1.0</td>\n      <td>49.0</td>\n      <td>26.0</td>\n      <td>0.0</td>\n      <td>47.0</td>\n      <td>14.0</td>\n      <td>1.0</td>\n      <td>46.0</td>\n      <td>21.0</td>\n      <td>2.0</td>\n      <td>36.0</td>\n      <td>9.0</td>\n      <td>5.0</td>\n      <td>W</td>\n      <td>O</td>\n    </tr>\n    <tr>\n      <th>1399</th>\n      <td>18.0</td>\n      <td>23.0</td>\n      <td>1.0</td>\n      <td>19.0</td>\n      <td>45.0</td>\n      <td>0.0</td>\n      <td>21.0</td>\n      <td>27.0</td>\n      <td>0.0</td>\n      <td>21.0</td>\n      <td>33.0</td>\n      <td>1.0</td>\n      <td>23.0</td>\n      <td>36.0</td>\n      <td>0.0</td>\n      <td>25.0</td>\n      <td>27.0</td>\n      <td>0.0</td>\n      <td>31.0</td>\n      <td>19.0</td>\n      <td>0.0</td>\n      <td>30.0</td>\n      <td>...</td>\n      <td>18.0</td>\n      <td>0.0</td>\n      <td>50.0</td>\n      <td>52.0</td>\n      <td>1.0</td>\n      <td>47.0</td>\n      <td>41.0</td>\n      <td>2.0</td>\n      <td>49.0</td>\n      <td>38.0</td>\n      <td>0.0</td>\n      <td>50.0</td>\n      <td>43.0</td>\n      <td>2.0</td>\n      <td>50.0</td>\n      <td>49.0</td>\n      <td>3.0</td>\n      <td>48.0</td>\n      <td>50.0</td>\n      <td>3.0</td>\n      <td>O</td>\n      <td>W</td>\n    </tr>\n  </tbody>\n</table>\n<p>1400 rows × 128 columns</p>\n</div>"
     },
     "execution_count": 6,
     "metadata": {},
     "output_type": "execute_result"
    }
   ],
   "source": [
    "pd.options.display.max_columns = 2 * time_interval + 2\n",
    "\n",
    "columns = [f'{c}_{d}' for d in range(0, 2 * time_interval) for c in ['hosp', 'diag', 'dead']]\n",
    "data = pd.DataFrame(data, columns=columns + ['init_zone', 'actuated_zone'])\n",
    "data.to_csv('../res/dataset.csv', index=False)\n",
    "data"
   ]
  }
 ],
 "metadata": {
  "celltoolbar": "Slideshow",
  "kernelspec": {
   "display_name": "Python 3",
   "language": "python",
   "name": "python3"
  },
  "language_info": {
   "codemirror_mode": {
    "name": "ipython",
    "version": 3
   },
   "file_extension": ".py",
   "mimetype": "text/x-python",
   "name": "python",
   "nbconvert_exporter": "python",
   "pygments_lexer": "ipython3",
   "version": "3.7.9"
  }
 },
 "nbformat": 4,
 "nbformat_minor": 1
}