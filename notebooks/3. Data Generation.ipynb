{
 "cells": [
  {
   "cell_type": "markdown",
   "metadata": {},
   "source": [
    "# Generate the Dataset"
   ]
  },
  {
   "cell_type": "markdown",
   "metadata": {
    "pycharm": {
     "name": "#%% md\n"
    }
   },
   "source": [
    "We want to predict possible future evolutions of the pandemic knowing the parameters of the simulator which more or less have been able to describe the trend of the real data for the past year.\n",
    "These parameters have been computed in the previous notebook."
   ]
  },
  {
   "cell_type": "code",
   "execution_count": null,
   "metadata": {
    "pycharm": {
     "name": "#%%\n"
    }
   },
   "outputs": [],
   "source": [
    "import json\n",
    "import pandas as pd\n",
    "import covasim as cv\n",
    "import seaborn as sns\n",
    "from pyDOE import lhs\n",
    "from src.data import get_regional_data\n",
    "from src.interventions import get_sampling_interventions\n",
    "\n",
    "with open('../res/parameters.json', 'r') as json_file:\n",
    "  j = json.load(json_file)\n",
    "\n",
    "initial_params = j['initial_params']\n",
    "intervention_params = j['intervention_params']\n",
    "df = get_regional_data(4.46e6 / (initial_params['pop_size'] * initial_params['pop_scale']))"
   ]
  },
  {
   "cell_type": "markdown",
   "metadata": {
    "pycharm": {
     "name": "#%% md\n"
    }
   },
   "source": [
    "## Latin-Hypercube Sampling\n",
    "\n",
    "* beta\n",
    "* pop_infected\n",
    "* init_zone\n",
    "* actuated_zone\n",
    "* num_tests\n",
    "\n",
    "TODO: Description"
   ]
  },
  {
   "cell_type": "code",
   "execution_count": null,
   "metadata": {
    "pycharm": {
     "name": "#%%\n"
    }
   },
   "outputs": [],
   "source": [
    "samples = lhs(n=11, samples=5)\n",
    "samples = pd.DataFrame(samples)\n",
    "for i in range(11):\n",
    "    samples[i] = samples[i].map(lambda v: int(4 * v)).map({0: 'W', 1: 'Y', 2: 'O', 3: 'R'})\n",
    "samples"
   ]
  },
  {
   "cell_type": "markdown",
   "metadata": {},
   "source": [
    "We will consider a shorter time interval, in particular, around a month centered in today."
   ]
  },
  {
   "cell_type": "code",
   "execution_count": null,
   "metadata": {
    "pycharm": {
     "name": "#%%\n"
    }
   },
   "outputs": [],
   "source": [
    "time_interval = 14 # days\n",
    "result_cols = ['n_severe', 'n_critical', 'cum_diagnoses', 'cum_deaths']\n",
    "sim_days = range(1, time_interval * 2 + 1)\n",
    "data_cols = [col + str(day) for day in sim_days for col in result_cols]"
   ]
  },
  {
   "cell_type": "code",
   "execution_count": null,
   "metadata": {
    "pycharm": {
     "name": "#%%\n"
    }
   },
   "outputs": [],
   "source": [
    "# 251 = (2020-11-01) - (2020-02-24)\n",
    "initial_params['n_days'] = 251 + samples.shape[1] * time_interval\n",
    "\n",
    "data = []\n",
    "for idx, s in samples.iterrows():\n",
    "    intervs = get_sampling_interventions(s, intervention_params , time_interval)\n",
    "    sim = cv.Sim(pars={**initial_params, 'rand_seed': idx}, interventions=intervs, datafile=df)\n",
    "    sim.run()\n",
    "    # raw = [result.values for result in sim.results[result_cols]]\n",
    "    # raw = [item for daily in zip(*raw) for item in daily]\n",
    "    # row = pd.Series(raw[-30:])\n",
    "    # data.append(row)\n",
    "    print(sim)"
   ]
  },
  {
   "cell_type": "code",
   "execution_count": null,
   "metadata": {
    "pycharm": {
     "name": "#%%\n"
    }
   },
   "outputs": [],
   "source": [
    "pd.options.display.max_columns = 120\n",
    "\n",
    "df = pd.concat(data, axis=1).transpose()\n",
    "df.columns = data_cols\n",
    "df"
   ]
  },
  {
   "cell_type": "markdown",
   "metadata": {},
   "source": [
    "Finally, we can collect the results in a dataframe."
   ]
  },
  {
   "cell_type": "code",
   "execution_count": null,
   "metadata": {
    "pycharm": {
     "name": "#%%\n"
    }
   },
   "outputs": [],
   "source": [
    "#dataset = pd.???\n",
    "#dataset.to_csv('res/dataset.csv')\n",
    "#dataset\n"
   ]
  }
 ],
 "metadata": {
  "kernelspec": {
   "display_name": "Python 3",
   "language": "python",
   "name": "python3"
  },
  "language_info": {
   "codemirror_mode": {
    "name": "ipython",
    "version": 3
   },
   "file_extension": ".py",
   "mimetype": "text/x-python",
   "name": "python",
   "nbconvert_exporter": "python",
   "pygments_lexer": "ipython3",
   "version": "3.7.6"
  }
 },
 "nbformat": 4,
 "nbformat_minor": 1
}