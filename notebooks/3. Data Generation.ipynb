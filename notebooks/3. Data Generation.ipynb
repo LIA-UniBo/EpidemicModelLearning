{
 "cells": [
  {
   "cell_type": "markdown",
   "source": [
    "# Generate the Dataset"
   ],
   "metadata": {
    "collapsed": false
   }
  },
  {
   "cell_type": "markdown",
   "source": [
    "We want to predict possible future evolutions of the pandemic knowing the parameters of the simulator which more or less have been able to describe the trend of the real data for the past year.\n",
    "These parameters have been computed in the previous notebook."
   ],
   "metadata": {
    "collapsed": false,
    "pycharm": {
     "name": "#%% md\n"
    }
   }
  },
  {
   "cell_type": "code",
   "execution_count": 1,
   "outputs": [],
   "source": [
    "import json\n",
    "import pandas as pd\n",
    "\n",
    "with open('res/parameters.json', 'r') as json_file:\n",
    "  j = json.load(json_file)\n",
    "\n",
    "initial_params = j['initial_params']\n",
    "intervention_params = j['intervention_params']"
   ],
   "metadata": {
    "collapsed": false,
    "pycharm": {
     "name": "#%%\n"
    }
   }
  },
  {
   "cell_type": "markdown",
   "source": [
    "## Latin-Hypercube Sampling\n",
    "\n",
    "* beta\n",
    "* pop_infected\n",
    "* init_zone\n",
    "* actuated_zone\n",
    "* num_tests\n",
    "\n",
    "TODO: Description"
   ],
   "metadata": {
    "collapsed": false,
    "pycharm": {
     "name": "#%% md\n"
    }
   }
  },
  {
   "cell_type": "code",
   "execution_count": 2,
   "outputs": [
    {
     "data": {
      "text/plain": "            beta  pop_infected  initial_zone  actuated_zone  tests_percentage\ncount  10.000000     10.000000     10.000000      10.000000         10.000000\nmean    0.015924   2030.499911      1.400000       1.600000          0.004978\nstd     0.004973    712.724457      1.173788       1.173788          0.003041\nmin     0.007563    772.945729      0.000000       0.000000          0.000998\n25%     0.012804   1628.859986      0.250000       1.000000          0.002806\n50%     0.015975   2040.859429      1.500000       1.500000          0.004619\n75%     0.018583   2413.578165      2.000000       2.750000          0.007461\nmax     0.023677   3380.718409      3.000000       3.000000          0.009466",
      "text/html": "<div>\n<style scoped>\n    .dataframe tbody tr th:only-of-type {\n        vertical-align: middle;\n    }\n\n    .dataframe tbody tr th {\n        vertical-align: top;\n    }\n\n    .dataframe thead th {\n        text-align: right;\n    }\n</style>\n<table border=\"1\" class=\"dataframe\">\n  <thead>\n    <tr style=\"text-align: right;\">\n      <th></th>\n      <th>beta</th>\n      <th>pop_infected</th>\n      <th>initial_zone</th>\n      <th>actuated_zone</th>\n      <th>tests_percentage</th>\n    </tr>\n  </thead>\n  <tbody>\n    <tr>\n      <th>count</th>\n      <td>10.000000</td>\n      <td>10.000000</td>\n      <td>10.000000</td>\n      <td>10.000000</td>\n      <td>10.000000</td>\n    </tr>\n    <tr>\n      <th>mean</th>\n      <td>0.015924</td>\n      <td>2030.499911</td>\n      <td>1.400000</td>\n      <td>1.600000</td>\n      <td>0.004978</td>\n    </tr>\n    <tr>\n      <th>std</th>\n      <td>0.004973</td>\n      <td>712.724457</td>\n      <td>1.173788</td>\n      <td>1.173788</td>\n      <td>0.003041</td>\n    </tr>\n    <tr>\n      <th>min</th>\n      <td>0.007563</td>\n      <td>772.945729</td>\n      <td>0.000000</td>\n      <td>0.000000</td>\n      <td>0.000998</td>\n    </tr>\n    <tr>\n      <th>25%</th>\n      <td>0.012804</td>\n      <td>1628.859986</td>\n      <td>0.250000</td>\n      <td>1.000000</td>\n      <td>0.002806</td>\n    </tr>\n    <tr>\n      <th>50%</th>\n      <td>0.015975</td>\n      <td>2040.859429</td>\n      <td>1.500000</td>\n      <td>1.500000</td>\n      <td>0.004619</td>\n    </tr>\n    <tr>\n      <th>75%</th>\n      <td>0.018583</td>\n      <td>2413.578165</td>\n      <td>2.000000</td>\n      <td>2.750000</td>\n      <td>0.007461</td>\n    </tr>\n    <tr>\n      <th>max</th>\n      <td>0.023677</td>\n      <td>3380.718409</td>\n      <td>3.000000</td>\n      <td>3.000000</td>\n      <td>0.009466</td>\n    </tr>\n  </tbody>\n</table>\n</div>"
     },
     "execution_count": 2,
     "metadata": {},
     "output_type": "execute_result"
    }
   ],
   "source": [
    "from pyDOE import lhs\n",
    "import seaborn as sns\n",
    "from scipy.stats.distributions import norm\n",
    "\n",
    "cols = ['beta', 'pop_infected', 'initial_zone', 'actuated_zone', 'tests_percentage']\n",
    "\n",
    "samples = lhs(n=len(cols), samples=10)\n",
    "samples = pd.DataFrame(samples, columns=cols)\n",
    "\n",
    "# Transformations\n",
    "samples['beta'] = norm(0.016, 0.005).ppf(samples['beta']).clip(1e-4)\n",
    "samples['pop_infected'] = norm(5e-3, 1.5e-3).ppf(samples['pop_infected']).clip(1e-4) * 400e3\n",
    "samples['initial_zone'] = [ int(4 * v) for v in samples['initial_zone'] ]\n",
    "samples['actuated_zone'] = [ int(4 * v) for v in samples['actuated_zone'] ]\n",
    "samples['tests_percentage'] = samples['tests_percentage'] * 0.01\n",
    "\n",
    "# TODO: Visualization\n",
    "# sns.histplot(samples['pop_infected']);\n",
    "samples.describe()"
   ],
   "metadata": {
    "collapsed": false,
    "pycharm": {
     "name": "#%%\n"
    }
   }
  },
  {
   "cell_type": "markdown",
   "source": [
    "We will consider a shorter time interval, in particular, around a month centered in today."
   ],
   "metadata": {
    "collapsed": false
   }
  },
  {
   "cell_type": "code",
   "execution_count": 3,
   "outputs": [
    {
     "name": "stdout",
     "output_type": "stream",
     "text": [
      "Covasim 2.0.3 (2021-03-11) — © 2021 by IDM\n"
     ]
    }
   ],
   "source": [
    "from util import data\n",
    "import covasim as cv\n",
    "\n",
    "pop_size = 400e3\n",
    "pop_scale = 10\n",
    "df = data.get_regional_data(scaling_factor=4.46e6/pop_size)"
   ],
   "metadata": {
    "collapsed": false,
    "pycharm": {
     "name": "#%%\n"
    }
   }
  },
  {
   "cell_type": "code",
   "execution_count": 22,
   "outputs": [
    {
     "data": {
      "text/plain": "Empty DataFrame\nColumns: [n_severe0, n_critical0, cum_diagnoses0, cum_deaths0, n_severe1, n_critical1, cum_diagnoses1, cum_deaths1, n_severe2, n_critical2, cum_diagnoses2, cum_deaths2, n_severe3, n_critical3, cum_diagnoses3, cum_deaths3, n_severe4, n_critical4, cum_diagnoses4, cum_deaths4, n_severe5, n_critical5, cum_diagnoses5, cum_deaths5, n_severe6, n_critical6, cum_diagnoses6, cum_deaths6, n_severe7, n_critical7, cum_diagnoses7, cum_deaths7, n_severe8, n_critical8, cum_diagnoses8, cum_deaths8, n_severe9, n_critical9, cum_diagnoses9, cum_deaths9, n_severe10, n_critical10, cum_diagnoses10, cum_deaths10, n_severe11, n_critical11, cum_diagnoses11, cum_deaths11, n_severe12, n_critical12, cum_diagnoses12, cum_deaths12, n_severe13, n_critical13, cum_diagnoses13, cum_deaths13, n_severe14, n_critical14, cum_diagnoses14, cum_deaths14, n_severe15, n_critical15, cum_diagnoses15, cum_deaths15, n_severe16, n_critical16, cum_diagnoses16, cum_deaths16, n_severe17, n_critical17, cum_diagnoses17, cum_deaths17, n_severe18, n_critical18, cum_diagnoses18, cum_deaths18, n_severe19, n_critical19, cum_diagnoses19, cum_deaths19, n_severe20, n_critical20, cum_diagnoses20, cum_deaths20, n_severe21, n_critical21, cum_diagnoses21, cum_deaths21, n_severe22, n_critical22, cum_diagnoses22, cum_deaths22, n_severe23, n_critical23, cum_diagnoses23, cum_deaths23, n_severe24, n_critical24, cum_diagnoses24, cum_deaths24, ...]\nIndex: []\n\n[0 rows x 124 columns]",
      "text/html": "<div>\n<style scoped>\n    .dataframe tbody tr th:only-of-type {\n        vertical-align: middle;\n    }\n\n    .dataframe tbody tr th {\n        vertical-align: top;\n    }\n\n    .dataframe thead th {\n        text-align: right;\n    }\n</style>\n<table border=\"1\" class=\"dataframe\">\n  <thead>\n    <tr style=\"text-align: right;\">\n      <th></th>\n      <th>n_severe0</th>\n      <th>n_critical0</th>\n      <th>cum_diagnoses0</th>\n      <th>cum_deaths0</th>\n      <th>n_severe1</th>\n      <th>n_critical1</th>\n      <th>cum_diagnoses1</th>\n      <th>cum_deaths1</th>\n      <th>n_severe2</th>\n      <th>n_critical2</th>\n      <th>...</th>\n      <th>cum_diagnoses28</th>\n      <th>cum_deaths28</th>\n      <th>n_severe29</th>\n      <th>n_critical29</th>\n      <th>cum_diagnoses29</th>\n      <th>cum_deaths29</th>\n      <th>n_severe30</th>\n      <th>n_critical30</th>\n      <th>cum_diagnoses30</th>\n      <th>cum_deaths30</th>\n    </tr>\n  </thead>\n  <tbody>\n  </tbody>\n</table>\n<p>0 rows × 124 columns</p>\n</div>"
     },
     "execution_count": 22,
     "metadata": {},
     "output_type": "execute_result"
    }
   ],
   "source": [
    "time_interval = 15 # days\n",
    "result_cols = ['n_severe', 'n_critical', 'cum_diagnoses', 'cum_deaths']\n",
    "sim_days = range(0, time_interval * 2 + 1)\n",
    "data_cols = [col + str(day) for day in sim_days for col in result_cols]"
   ],
   "metadata": {
    "collapsed": false,
    "pycharm": {
     "name": "#%%\n"
    }
   }
  },
  {
   "cell_type": "code",
   "execution_count": 30,
   "outputs": [
    {
     "data": {
      "text/plain": "[0        0.000000\n 1        0.000000\n 2        0.000000\n 3        0.000000\n 4        0.000000\n           ...    \n 119     94.184075\n 120    432.988128\n 121    112.256181\n 122      0.000000\n 123    102.202373\n Length: 124, dtype: float64,\n 0        0.000000\n 1        0.000000\n 2        0.000000\n 3        0.000000\n 4        0.000000\n           ...    \n 119     34.261402\n 120    171.992678\n 121     42.998170\n 122      0.000000\n 123     34.261402\n Length: 124, dtype: float64,\n 0         0.0\n 1         0.0\n 2         0.0\n 3         0.0\n 4         0.0\n         ...  \n 119      80.0\n 120    3480.0\n 121     710.0\n 122       0.0\n 123     110.0\n Length: 124, dtype: float64,\n 0        0.000000\n 1        0.000000\n 2        0.000000\n 3        0.000000\n 4        0.000000\n           ...    \n 119     41.511811\n 120    740.000000\n 121    100.000000\n 122      0.000000\n 123     61.511811\n Length: 124, dtype: float64,\n 0        0.000000\n 1        0.000000\n 2        0.000000\n 3        0.000000\n 4        0.000000\n           ...    \n 119     18.637318\n 120    400.000000\n 121    100.000000\n 122      0.000000\n 123     28.637318\n Length: 124, dtype: float64,\n 0        0.000000\n 1        0.000000\n 2        0.000000\n 3        0.000000\n 4        0.000000\n           ...    \n 119     64.753568\n 120    620.000000\n 121    180.000000\n 122      0.000000\n 123     64.753568\n Length: 124, dtype: float64,\n 0         0.0\n 1         0.0\n 2         0.0\n 3         0.0\n 4         0.0\n         ...  \n 119      40.0\n 120    1350.0\n 121     280.0\n 122       0.0\n 123      60.0\n Length: 124, dtype: float64,\n 0         0.000000\n 1         0.000000\n 2         0.000000\n 3         0.000000\n 4         0.000000\n           ...     \n 119     106.204636\n 120    1220.000000\n 121     320.000000\n 122       0.000000\n 123     106.204636\n Length: 124, dtype: float64,\n 0        0.000000\n 1        0.000000\n 2        0.000000\n 3        0.000000\n 4        0.000000\n           ...    \n 119     26.191736\n 120    670.000000\n 121    180.000000\n 122      0.000000\n 123     26.191736\n Length: 124, dtype: float64,\n 0        0.000000\n 1        0.000000\n 2        0.000000\n 3        0.000000\n 4        0.000000\n           ...    \n 119     38.732751\n 120    347.727917\n 121     53.496603\n 122      0.000000\n 123     38.732751\n Length: 124, dtype: float64]"
     },
     "execution_count": 30,
     "metadata": {},
     "output_type": "execute_result"
    }
   ],
   "source": [
    "from util import interventions\n",
    "\n",
    "initial_params['start_day'] = df['date'].iloc[-1] - pd.Timedelta(time_interval, unit='D')\n",
    "initial_params['end_day'] = df['date'].iloc[-1] + pd.Timedelta(time_interval, unit='D')\n",
    "\n",
    "data = []\n",
    "for _, s in samples.iterrows():\n",
    "    initial_params['pop_infected'] = s['pop_infected']\n",
    "    initial_params['beta'] = s['beta']\n",
    "    intervs = interventions.SamplingInterventions.get_all(\n",
    "        init_zone=s['initial_zone'],\n",
    "        actuated_zone=s['actuated_zone'],\n",
    "        num_tests=samples['tests_percentage']*pop_size,\n",
    "        actuation_day=time_interval\n",
    "    )\n",
    "    sim = cv.Sim(pars=initial_params, interventions=intervs)\n",
    "    sim.run()\n",
    "    raw = [result.values for result in sim.results[result_cols]]\n",
    "    raw = [item for daily in zip(*raw) for item in daily]\n",
    "    row = pd.Series(raw)\n",
    "    data.append(row)\n",
    "data\n"
   ],
   "metadata": {
    "collapsed": false,
    "pycharm": {
     "name": "#%%\n"
    }
   }
  },
  {
   "cell_type": "markdown",
   "source": [
    "Finally, we can collect the results in a dataframe."
   ],
   "metadata": {
    "collapsed": false
   }
  },
  {
   "cell_type": "code",
   "execution_count": 14,
   "outputs": [
    {
     "data": {
      "text/plain": "Empty DataFrame\nColumns: [n_severe0, n_critical0, cum_diagnoses0, cum_deaths0, n_severe1, n_critical1, cum_diagnoses1, cum_deaths1, n_severe2, n_critical2, cum_diagnoses2, cum_deaths2, n_severe3, n_critical3, cum_diagnoses3, cum_deaths3, n_severe4, n_critical4, cum_diagnoses4, cum_deaths4, n_severe5, n_critical5, cum_diagnoses5, cum_deaths5, n_severe6, n_critical6, cum_diagnoses6, cum_deaths6, n_severe7, n_critical7, cum_diagnoses7, cum_deaths7, n_severe8, n_critical8, cum_diagnoses8, cum_deaths8, n_severe9, n_critical9, cum_diagnoses9, cum_deaths9, n_severe10, n_critical10, cum_diagnoses10, cum_deaths10, n_severe11, n_critical11, cum_diagnoses11, cum_deaths11, n_severe12, n_critical12, cum_diagnoses12, cum_deaths12, n_severe13, n_critical13, cum_diagnoses13, cum_deaths13, n_severe14, n_critical14, cum_diagnoses14, cum_deaths14, n_severe15, n_critical15, cum_diagnoses15, cum_deaths15, n_severe16, n_critical16, cum_diagnoses16, cum_deaths16, n_severe17, n_critical17, cum_diagnoses17, cum_deaths17, n_severe18, n_critical18, cum_diagnoses18, cum_deaths18, n_severe19, n_critical19, cum_diagnoses19, cum_deaths19, n_severe20, n_critical20, cum_diagnoses20, cum_deaths20, n_severe21, n_critical21, cum_diagnoses21, cum_deaths21, n_severe22, n_critical22, cum_diagnoses22, cum_deaths22, n_severe23, n_critical23, cum_diagnoses23, cum_deaths23, n_severe24, n_critical24, cum_diagnoses24, cum_deaths24, ...]\nIndex: []\n\n[0 rows x 124 columns]",
      "text/html": "<div>\n<style scoped>\n    .dataframe tbody tr th:only-of-type {\n        vertical-align: middle;\n    }\n\n    .dataframe tbody tr th {\n        vertical-align: top;\n    }\n\n    .dataframe thead th {\n        text-align: right;\n    }\n</style>\n<table border=\"1\" class=\"dataframe\">\n  <thead>\n    <tr style=\"text-align: right;\">\n      <th></th>\n      <th>n_severe0</th>\n      <th>n_critical0</th>\n      <th>cum_diagnoses0</th>\n      <th>cum_deaths0</th>\n      <th>n_severe1</th>\n      <th>n_critical1</th>\n      <th>cum_diagnoses1</th>\n      <th>cum_deaths1</th>\n      <th>n_severe2</th>\n      <th>n_critical2</th>\n      <th>...</th>\n      <th>cum_diagnoses28</th>\n      <th>cum_deaths28</th>\n      <th>n_severe29</th>\n      <th>n_critical29</th>\n      <th>cum_diagnoses29</th>\n      <th>cum_deaths29</th>\n      <th>n_severe30</th>\n      <th>n_critical30</th>\n      <th>cum_diagnoses30</th>\n      <th>cum_deaths30</th>\n    </tr>\n  </thead>\n  <tbody>\n  </tbody>\n</table>\n<p>0 rows × 124 columns</p>\n</div>"
     },
     "execution_count": 14,
     "metadata": {},
     "output_type": "execute_result"
    }
   ],
   "source": [
    "#dataset = pd.???\n",
    "#dataset.to_csv('res/dataset.csv')\n",
    "#dataset\n"
   ],
   "metadata": {
    "collapsed": false,
    "pycharm": {
     "name": "#%%\n"
    }
   }
  }
 ],
 "metadata": {
  "kernelspec": {
   "display_name": "Python 3",
   "language": "python",
   "name": "python3"
  },
  "language_info": {
   "codemirror_mode": {
    "name": "ipython",
    "version": 2
   },
   "file_extension": ".py",
   "mimetype": "text/x-python",
   "name": "python",
   "nbconvert_exporter": "python",
   "pygments_lexer": "ipython2",
   "version": "2.7.6"
  }
 },
 "nbformat": 4,
 "nbformat_minor": 0
}