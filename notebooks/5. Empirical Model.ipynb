{
 "cells": [
  {
   "cell_type": "code",
   "execution_count": 1,
   "metadata": {
    "slideshow": {
     "slide_type": "skip"
    }
   },
   "outputs": [
    {
     "name": "stdout",
     "output_type": "stream",
     "text": [
      "Covasim 2.0.3 (2021-03-11) — © 2021 by IDM\n"
     ]
    }
   ],
   "source": [
    "import numpy as np\n",
    "import pandas as pd\n",
    "import docplex.mp.model as cpx\n",
    "from tensorflow import keras\n",
    "\n",
    "from data import get_real_samples\n",
    "from dataset import process_dataset, one_hot_zones\n",
    "from eml.backend import cplex_backend\n",
    "from eml.net import embed\n",
    "from eml.net.reader import keras_reader\n",
    "from eml.net.process import ibr_bounds\n",
    "\n",
    "zones_dictionary = {\n",
    "    (1, 0, 0, 0): 'W',\n",
    "    (0, 1, 0, 0): 'Y',\n",
    "    (0, 0, 1, 0): 'O',\n",
    "    (0, 0, 0, 1): 'R',\n",
    "}\n",
    "\n",
    "df = pd.read_csv('../res/dataset.csv')\n",
    "net = keras.models.load_model('../res/model')\n",
    "(xtr, _), (x_scaler, y_scaler) = process_dataset(df, val_split=None, scale_data=True)\n",
    "x_min, x_max = xtr.min(axis=0), xtr.max(axis=0)\n",
    "\n",
    "pct_beds_hosp = 370.4 / 100e3\n",
    "pct_beds_icu = 14.46 / 100e3\n",
    "pop_size = 400e3\n",
    "hospital_capacity = pop_size * (pct_beds_hosp + pct_beds_icu)"
   ]
  },
  {
   "cell_type": "code",
   "execution_count": 2,
   "outputs": [
    {
     "data": {
      "text/plain": "       hosp_0      diag_0    dead_0      hosp_1      diag_1    dead_1  \\\n0   45.381166   47.174888  0.538117   49.417040   49.417040  0.269058   \n1   75.784753  106.905830  0.358744   81.524664  102.511211  0.269058   \n2  245.112108  193.721973  4.484305  249.147982  226.905830  4.215247   \n3  269.417040  183.049327  3.497758  266.905830  131.659193  4.663677   \n4  267.174888  173.991031  5.919283  266.098655  140.179372  4.573991   \n5  207.892377  114.260090  1.973094  214.170404   94.260090  3.049327   \n6  195.964126  114.080717  2.869955  193.094170   86.008969  4.035874   \n\n       hosp_2      diag_2    dead_2      hosp_3  ...     diag_39   dead_39  \\\n0   54.618834   45.470852  0.448430   61.165919  ...  193.273543  4.932735   \n1   93.004484  126.278027  1.345291  100.269058  ...  157.847534  7.623318   \n2  254.260090  243.946188  4.215247  261.434978  ...   67.264574  2.780269   \n3  263.587444  140.717489  6.188341  261.255605  ...  181.524664  7.174888   \n4  260.807175  105.650224  5.919283  254.977578  ...  162.511211  4.125561   \n5  212.914798   78.295964  6.367713  207.713004  ...  253.004484  4.035874   \n6  190.134529   82.600897  3.318386  186.636771  ...  283.587444  3.766816   \n\n      hosp_40     diag_40   dead_40     hosp_41     diag_41   dead_41  \\\n0  262.152466  194.080717  5.919283  261.704036  194.170404  6.278027   \n1  265.919283  191.838565  5.650224  264.573991  176.143498  4.663677   \n2  252.825112   80.000000  8.071749  257.488789  127.982063  6.188341   \n3  261.793722  160.358744  6.188341  263.856502  196.502242  5.201794   \n4  186.098655  153.183857  2.062780  190.403587  165.919283  3.677130   \n5  318.116592  308.789238  3.139013  323.587444  262.242152  2.780269   \n6  351.569507  227.623318  4.215247  355.336323  218.923767  3.049327   \n\n   init_zone  actuated_zone  \n0          W              Y  \n1          Y              O  \n2          O              Y  \n3          Y              O  \n4          O              Y  \n5          Y              O  \n6          O              R  \n\n[7 rows x 128 columns]",
      "text/html": "<div>\n<style scoped>\n    .dataframe tbody tr th:only-of-type {\n        vertical-align: middle;\n    }\n\n    .dataframe tbody tr th {\n        vertical-align: top;\n    }\n\n    .dataframe thead th {\n        text-align: right;\n    }\n</style>\n<table border=\"1\" class=\"dataframe\">\n  <thead>\n    <tr style=\"text-align: right;\">\n      <th></th>\n      <th>hosp_0</th>\n      <th>diag_0</th>\n      <th>dead_0</th>\n      <th>hosp_1</th>\n      <th>diag_1</th>\n      <th>dead_1</th>\n      <th>hosp_2</th>\n      <th>diag_2</th>\n      <th>dead_2</th>\n      <th>hosp_3</th>\n      <th>...</th>\n      <th>diag_39</th>\n      <th>dead_39</th>\n      <th>hosp_40</th>\n      <th>diag_40</th>\n      <th>dead_40</th>\n      <th>hosp_41</th>\n      <th>diag_41</th>\n      <th>dead_41</th>\n      <th>init_zone</th>\n      <th>actuated_zone</th>\n    </tr>\n  </thead>\n  <tbody>\n    <tr>\n      <th>0</th>\n      <td>45.381166</td>\n      <td>47.174888</td>\n      <td>0.538117</td>\n      <td>49.417040</td>\n      <td>49.417040</td>\n      <td>0.269058</td>\n      <td>54.618834</td>\n      <td>45.470852</td>\n      <td>0.448430</td>\n      <td>61.165919</td>\n      <td>...</td>\n      <td>193.273543</td>\n      <td>4.932735</td>\n      <td>262.152466</td>\n      <td>194.080717</td>\n      <td>5.919283</td>\n      <td>261.704036</td>\n      <td>194.170404</td>\n      <td>6.278027</td>\n      <td>W</td>\n      <td>Y</td>\n    </tr>\n    <tr>\n      <th>1</th>\n      <td>75.784753</td>\n      <td>106.905830</td>\n      <td>0.358744</td>\n      <td>81.524664</td>\n      <td>102.511211</td>\n      <td>0.269058</td>\n      <td>93.004484</td>\n      <td>126.278027</td>\n      <td>1.345291</td>\n      <td>100.269058</td>\n      <td>...</td>\n      <td>157.847534</td>\n      <td>7.623318</td>\n      <td>265.919283</td>\n      <td>191.838565</td>\n      <td>5.650224</td>\n      <td>264.573991</td>\n      <td>176.143498</td>\n      <td>4.663677</td>\n      <td>Y</td>\n      <td>O</td>\n    </tr>\n    <tr>\n      <th>2</th>\n      <td>245.112108</td>\n      <td>193.721973</td>\n      <td>4.484305</td>\n      <td>249.147982</td>\n      <td>226.905830</td>\n      <td>4.215247</td>\n      <td>254.260090</td>\n      <td>243.946188</td>\n      <td>4.215247</td>\n      <td>261.434978</td>\n      <td>...</td>\n      <td>67.264574</td>\n      <td>2.780269</td>\n      <td>252.825112</td>\n      <td>80.000000</td>\n      <td>8.071749</td>\n      <td>257.488789</td>\n      <td>127.982063</td>\n      <td>6.188341</td>\n      <td>O</td>\n      <td>Y</td>\n    </tr>\n    <tr>\n      <th>3</th>\n      <td>269.417040</td>\n      <td>183.049327</td>\n      <td>3.497758</td>\n      <td>266.905830</td>\n      <td>131.659193</td>\n      <td>4.663677</td>\n      <td>263.587444</td>\n      <td>140.717489</td>\n      <td>6.188341</td>\n      <td>261.255605</td>\n      <td>...</td>\n      <td>181.524664</td>\n      <td>7.174888</td>\n      <td>261.793722</td>\n      <td>160.358744</td>\n      <td>6.188341</td>\n      <td>263.856502</td>\n      <td>196.502242</td>\n      <td>5.201794</td>\n      <td>Y</td>\n      <td>O</td>\n    </tr>\n    <tr>\n      <th>4</th>\n      <td>267.174888</td>\n      <td>173.991031</td>\n      <td>5.919283</td>\n      <td>266.098655</td>\n      <td>140.179372</td>\n      <td>4.573991</td>\n      <td>260.807175</td>\n      <td>105.650224</td>\n      <td>5.919283</td>\n      <td>254.977578</td>\n      <td>...</td>\n      <td>162.511211</td>\n      <td>4.125561</td>\n      <td>186.098655</td>\n      <td>153.183857</td>\n      <td>2.062780</td>\n      <td>190.403587</td>\n      <td>165.919283</td>\n      <td>3.677130</td>\n      <td>O</td>\n      <td>Y</td>\n    </tr>\n    <tr>\n      <th>5</th>\n      <td>207.892377</td>\n      <td>114.260090</td>\n      <td>1.973094</td>\n      <td>214.170404</td>\n      <td>94.260090</td>\n      <td>3.049327</td>\n      <td>212.914798</td>\n      <td>78.295964</td>\n      <td>6.367713</td>\n      <td>207.713004</td>\n      <td>...</td>\n      <td>253.004484</td>\n      <td>4.035874</td>\n      <td>318.116592</td>\n      <td>308.789238</td>\n      <td>3.139013</td>\n      <td>323.587444</td>\n      <td>262.242152</td>\n      <td>2.780269</td>\n      <td>Y</td>\n      <td>O</td>\n    </tr>\n    <tr>\n      <th>6</th>\n      <td>195.964126</td>\n      <td>114.080717</td>\n      <td>2.869955</td>\n      <td>193.094170</td>\n      <td>86.008969</td>\n      <td>4.035874</td>\n      <td>190.134529</td>\n      <td>82.600897</td>\n      <td>3.318386</td>\n      <td>186.636771</td>\n      <td>...</td>\n      <td>283.587444</td>\n      <td>3.766816</td>\n      <td>351.569507</td>\n      <td>227.623318</td>\n      <td>4.215247</td>\n      <td>355.336323</td>\n      <td>218.923767</td>\n      <td>3.049327</td>\n      <td>O</td>\n      <td>R</td>\n    </tr>\n  </tbody>\n</table>\n<p>7 rows × 128 columns</p>\n</div>"
     },
     "execution_count": 2,
     "metadata": {},
     "output_type": "execute_result"
    }
   ],
   "source": [
    "region = 'Emilia-Romagna'\n",
    "zones = {\n",
    "    '2020-05-18': 'W',\n",
    "    '2020-11-08': 'Y',\n",
    "    '2020-11-15': 'O',\n",
    "    '2020-12-10': 'Y',\n",
    "    '2020-12-21': 'O',\n",
    "    '2021-02-01': 'Y',\n",
    "    '2021-02-21': 'O',\n",
    "    '2021-03-01': 'R',\n",
    "    '2021-04-12': 'O',\n",
    "    '2021-04-26': 'Y'\n",
    "}\n",
    "real_df = get_real_samples(region=region, zones=zones, scaling_factor=4.46e6 / pop_size)\n",
    "real_df"
   ],
   "metadata": {
    "collapsed": false,
    "pycharm": {
     "name": "#%%\n"
    }
   }
  },
  {
   "cell_type": "code",
   "execution_count": 3,
   "outputs": [],
   "source": [
    "def build_cplex_model(neural_model, input_data, rolling_days=7):\n",
    "    # PREPROCESS INPUT DATA\n",
    "    init_zone = one_hot_zones[input_data['init_zone']]\n",
    "    input_data = pd.DataFrame(input_data.values[:-2].reshape(-1, 3).astype('float'), columns=['hosp', 'diag', 'dead'])\n",
    "    input_data = input_data.head(len(input_data) // 2).copy()\n",
    "    input_features = input_data.rolling(rolling_days).mean().iloc[rolling_days - 1:].values.transpose().flatten()\n",
    "    # add trailing zeros to match scaler expected size, then remove them\n",
    "    input_features = list(x_scaler.transform(list(input_features) + init_zone + [0] * 4)[:-4])\n",
    "\n",
    "    # BUILD SURROGATE MODEL\n",
    "    surrogate_model = keras_reader.read_keras_sequential(neural_model)\n",
    "    # input features have a fixed values, then we have 4 more values for the decision variables (0/1, being binary)\n",
    "    surrogate_model.layer(0).update_lb(np.array(input_features + [0] * 4))\n",
    "    surrogate_model.layer(0).update_ub(np.array(input_features + [1] * 4))\n",
    "    ibr_bounds(surrogate_model)\n",
    "\n",
    "    # BUILD INPUT/OUTPUT CPLEX VARIABLES WITH RESPECTIVE CONSTRAINED VALUES\n",
    "    backend = cplex_backend.CplexBackend()\n",
    "    cplex_model = cpx.Model()\n",
    "    x_variables, y_variables, decision_variables = [], [], []\n",
    "    # input features\n",
    "    for idx, val in enumerate(input_features):\n",
    "        var = cplex_model.continuous_var(lb=val, ub=val, name=f'feature_{idx}')\n",
    "        x_variables.append(var)\n",
    "    # output values\n",
    "    for name in ['peak_hosp', 'cum_diag', 'cum_dead']:\n",
    "        y_variables.append(cplex_model.continuous_var(name=name))\n",
    "    # binary decision variables (constrained so that is just one of them)\n",
    "    decision_variables = cplex_model.binary_var_list(keys=4, name=f'zones')\n",
    "    cplex_model.add_constraint(sum(decision_variables) == 1)\n",
    "    # process cplex model using eml\n",
    "    embed.encode(backend, surrogate_model, cplex_model, x_variables + decision_variables, y_variables, 'model')\n",
    "\n",
    "    # ADD CONSTRAINTS AND OBJECTIVE\n",
    "    y_variables = np.array(y_variables).reshape(1, -1)\n",
    "    y_variables = y_scaler.inverse_transform(y_variables).flatten()\n",
    "    # constraint the output values so that the peak of hospitalized does not exceed 30% of the hospital capacity\n",
    "    # and the total number of cases and deaths do not exceed the 85% of those same values related to the previous weeks\n",
    "    bounds = [0.3 * hospital_capacity, 0.85 * input_data['diag'].sum(), 0.85 * input_data['dead'].sum()]\n",
    "    cplex_model.add_constraints([yv <= bound for yv, bound in zip(y_variables, bounds)])\n",
    "    # minimize in order to choose the most permissive zone that satisfies all the constraints\n",
    "    cplex_model.minimize(sum([idx * d for idx, d in enumerate(decision_variables)]))\n",
    "    return cplex_model, decision_variables"
   ],
   "metadata": {
    "collapsed": false,
    "pycharm": {
     "name": "#%%\n"
    }
   }
  },
  {
   "cell_type": "code",
   "execution_count": 4,
   "outputs": [
    {
     "data": {
      "text/plain": "  real predicted\n0    Y      None\n1    O      None\n2    Y         R\n3    O         Y\n4    Y         Y\n5    O      None\n6    R      None",
      "text/html": "<div>\n<style scoped>\n    .dataframe tbody tr th:only-of-type {\n        vertical-align: middle;\n    }\n\n    .dataframe tbody tr th {\n        vertical-align: top;\n    }\n\n    .dataframe thead th {\n        text-align: right;\n    }\n</style>\n<table border=\"1\" class=\"dataframe\">\n  <thead>\n    <tr style=\"text-align: right;\">\n      <th></th>\n      <th>real</th>\n      <th>predicted</th>\n    </tr>\n  </thead>\n  <tbody>\n    <tr>\n      <th>0</th>\n      <td>Y</td>\n      <td>None</td>\n    </tr>\n    <tr>\n      <th>1</th>\n      <td>O</td>\n      <td>None</td>\n    </tr>\n    <tr>\n      <th>2</th>\n      <td>Y</td>\n      <td>R</td>\n    </tr>\n    <tr>\n      <th>3</th>\n      <td>O</td>\n      <td>Y</td>\n    </tr>\n    <tr>\n      <th>4</th>\n      <td>Y</td>\n      <td>Y</td>\n    </tr>\n    <tr>\n      <th>5</th>\n      <td>O</td>\n      <td>None</td>\n    </tr>\n    <tr>\n      <th>6</th>\n      <td>R</td>\n      <td>None</td>\n    </tr>\n  </tbody>\n</table>\n</div>"
     },
     "execution_count": 4,
     "metadata": {},
     "output_type": "execute_result"
    }
   ],
   "source": [
    "solutions = []\n",
    "for _, row in real_df.iterrows():\n",
    "    model, variables = build_cplex_model(neural_model=net, input_data=row)\n",
    "    solution = model.solve()\n",
    "    if solution is not None:\n",
    "        solution = tuple([int(vy.solution_value) for vy in variables])\n",
    "        solution = zones_dictionary[solution]\n",
    "    solutions.append((row.iloc[-1], solution))\n",
    "solutions = pd.DataFrame(solutions, columns=['real', 'predicted'])\n",
    "solutions\n"
   ],
   "metadata": {
    "collapsed": false,
    "pycharm": {
     "name": "#%%\n"
    }
   }
  }
 ],
 "metadata": {
  "celltoolbar": "Slideshow",
  "kernelspec": {
   "display_name": "Python 3",
   "language": "python",
   "name": "python3"
  },
  "language_info": {
   "codemirror_mode": {
    "name": "ipython",
    "version": 3
   },
   "file_extension": ".py",
   "mimetype": "text/x-python",
   "name": "python",
   "nbconvert_exporter": "python",
   "pygments_lexer": "ipython3",
   "version": "3.7.9"
  }
 },
 "nbformat": 4,
 "nbformat_minor": 1
}