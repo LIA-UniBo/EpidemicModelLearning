{
 "cells": [
  {
   "cell_type": "code",
   "execution_count": null,
   "metadata": {
    "pycharm": {
     "name": "#%%\n"
    }
   },
   "outputs": [],
   "source": [
    "import pandas as pd\n",
    "import seaborn as sns\n",
    "import matplotlib.pyplot as plt\n",
    "import covasim as cv\n",
    "from util import data\n",
    "\n",
    "sns.set_context('notebook')\n",
    "sns.set_style('whitegrid')\n",
    "\n",
    "pop_region = 4.46e6\n",
    "pop_size = 450e3\n",
    "pop_scale = 10\n",
    "\n",
    "cols = ['n_severe', 'n_critical', 'cum_deaths']\n",
    "n_runs = 3\n",
    "n_trials = 1000\n",
    "\n",
    "interv_days = pd.Series({\n",
    "    pd.to_datetime('2020-03-08'): 'red',\n",
    "    pd.to_datetime('2020-05-18'): 'summer',\n",
    "    pd.to_datetime('2020-09-15'): 'fall',\n",
    "    pd.to_datetime('2020-11-08'): 'yellow',\n",
    "    pd.to_datetime('2020-11-15'): 'orange',\n",
    "    pd.to_datetime('2020-12-10'): 'yellow',\n",
    "    pd.to_datetime('2020-12-21'): 'orange',\n",
    "    pd.to_datetime('2021-02-01'): 'yellow',\n",
    "    pd.to_datetime('2021-02-21'): 'orange',\n",
    "    pd.to_datetime('2021-03-01'): 'red'\n",
    "})\n",
    "interv_days.index = [(date - pd.to_datetime('2020-02-24')).days for date in interv_days.index]\n",
    "\n",
    "sample_weight = (df['n_severe'] - df['n_severe'].mean()) / df['n_severe'].std()\n",
    "sample_weight = sample_weight - sample_weight.min() + 1\n",
    "sample_weight = sample_weight.values\n",
    "\n",
    "loss = 'mse' # either 'r2' or 'mse'"
   ]
  },
  {
   "cell_type": "code",
   "execution_count": null,
   "metadata": {},
   "outputs": [],
   "source": [
    "df = data.get_regional_data(scaling_factor=pop_region/pop_size)\n",
    "\n",
    "_, axes = plt.subplots(1, 3, figsize=(18, 4), sharey=False)\n",
    "\n",
    "sns.lineplot(data=df, x='date', y='new_tests', ax=axes[0]).set(title='New Tests', ylabel='')\n",
    "sns.lineplot(data=df, x='date', y='cum_deaths', ax=axes[1]).set(title='Cumulative Deaths', ylabel='')\n",
    "sns.lineplot(data=df, x='date', y='n_severe', label='n_severe', ax=axes[2]).set(title='Active Cases')\n",
    "sns.lineplot(data=df, x='date', y='n_critical', label='n_critical', ax=axes[2]).set(ylabel='')\n",
    "\n",
    "plt.tight_layout()"
   ]
  },
  {
   "cell_type": "code",
   "execution_count": null,
   "metadata": {
    "pycharm": {
     "name": "#%%\n"
    }
   },
   "outputs": [],
   "source": [
    "default_params = dict(\n",
    "    start_day=df['date'].iloc[0],\n",
    "    end_day=df['date'].iloc[-1],\n",
    "    pop_size=pop_size / pop_scale,\n",
    "    pop_scale=pop_scale,\n",
    "    rescale=True,\n",
    "    n_beds_hosp=pop_size * 370.4 / 100e3,\n",
    "    n_beds_icu=pop_size * 14.46 / 100e3,\n",
    "    quar_period=14,\n",
    "    verbose=0\n",
    ")"
   ]
  },
  {
   "cell_type": "code",
   "execution_count": null,
   "metadata": {},
   "outputs": [],
   "source": [
    "def get_interventions(pars):\n",
    "    return [\n",
    "        cv.test_num('new_tests', quar_policy='both', sensitivity=0.8, do_plot=False),\n",
    "        cv.contact_tracing(trace_probs=pars['trace_probs'], trace_time=pars['trace_time'], do_plot=False),\n",
    "        cv.dynamic_pars(\n",
    "            beta=dict(days=interv_days.index, vals=[pars[f'{p}_beta'] for p in interv_days]),\n",
    "            n_imports=dict(days=interv_days.index, vals=[pars[f'{p}_imports'] for p in interv_days])\n",
    "        )\n",
    "    ]\n",
    "\n",
    "if loss.lower() == 'r2':\n",
    "    from sklearn.metrics import r2_score\n",
    "    def custom_estimator(y_true, y_pred):\n",
    "        return 1 - r2_score(y_true, y_pred, sample_weight=sample_weight)\n",
    "elif loss.lower() == 'mse':\n",
    "    def custom_estimator(y_true, y_pred):\n",
    "        norm_diffs = (y_true - y_pred) / y_true.max()\n",
    "        weighted_losses = (norm_diffs ** 2) * sample_weight\n",
    "        return weighted_losses.mean()\n",
    "else:\n",
    "    raise f'{loss} is not a supported loss'"
   ]
  },
  {
   "cell_type": "code",
   "execution_count": null,
   "metadata": {
    "pycharm": {
     "name": "#%%\n"
    }
   },
   "outputs": [],
   "source": [
    "import optuna as op\n",
    "\n",
    "def objective(trial):\n",
    "    # define learnable parameters\n",
    "    initial_params = dict(\n",
    "        pop_infected=trial.suggest_int('init_pop_infected', 10, int(pop_size / 100), step=10),\n",
    "        n_imports=trial.suggest_float('init_n_imports', 0.0, 20.0, step=1e-1),\n",
    "        beta=trial.suggest_float('init_beta', 0.0, 0.1, step=1e-3),\n",
    "        **default_params\n",
    "    )\n",
    "    intervention_params = dict(\n",
    "        trace_probs=trial.suggest_float('interv_trace_probs', 0.0, 1.0, step=1e-2),\n",
    "        trace_time=trial.suggest_float('interv_trace_time', 0.0, 10.0, step=1e-1),\n",
    "        **{f'{p}_beta': trial.suggest_float(f'interv_{p}_beta', 0.0, 0.2, step=1e-3) for p in interv_days},\n",
    "        **{f'{p}_imports': trial.suggest_float(f'interv_{p}_imports', 0.0, 20.0, step=1e-1) for p in interv_days}\n",
    "    )\n",
    "    # define and run simulations\n",
    "    sim = cv.Sim(pars=initial_params, interventions=get_interventions(intervention_params), datafile=df)\n",
    "    msim = cv.MultiSim(sim)\n",
    "    msim.run(n_runs=n_runs)\n",
    "    # compute loss\n",
    "    weights = {c: 1 for c in cols}\n",
    "    mismatches = [s.compute_fit(keys=cols, weights=weights, estimator=custom_estimator).mismatch for s in msim.sims]\n",
    "    return sum(mismatches) / n_runs\n",
    "\n",
    "study = op.create_study()\n",
    "study.optimize(func=objective, n_trials=n_trials)"
   ]
  },
  {
   "cell_type": "code",
   "execution_count": null,
   "metadata": {
    "pycharm": {
     "name": "#%%\n"
    }
   },
   "outputs": [],
   "source": [
    "best_params = study.best_params\n",
    "best_params"
   ]
  },
  {
   "cell_type": "code",
   "execution_count": null,
   "metadata": {},
   "outputs": [],
   "source": [
    "results = pd.DataFrame([dict(objective=t.value, **t.params) for t in study.trials])\n",
    "results = results[results['objective'] <= results['objective'].quantile(.05)]\n",
    "results = results.describe().loc[['count', 'min', 'max']]\n",
    "results = results.append(pd.Series({'objective': study.best_value, **best_params}, name='best'))\n",
    "results = results.transpose().astype({'count': 'int'})\n",
    "results"
   ]
  },
  {
   "cell_type": "code",
   "execution_count": null,
   "metadata": {},
   "outputs": [],
   "source": [
    "initial_params = {k[5:]: v for k, v in best_params.items() if k.startswith('init_')}\n",
    "initial_params.update(default_params)\n",
    "\n",
    "intervention_params = {k[7:]: v for k, v in best_params.items() if k.startswith('interv_')}\n",
    "interventions = get_interventions(intervention_params)\n",
    "\n",
    "sim = cv.Sim(pars=initial_params, interventions=interventions, datafile=df)\n",
    "msim = cv.MultiSim(sim)\n",
    "msim.run(n_runs=30)\n",
    "\n",
    "msim.mean()\n",
    "msim.plot(cols);"
   ]
  },
  {
   "cell_type": "code",
   "execution_count": null,
   "metadata": {},
   "outputs": [],
   "source": [
    "_, axes = plt.subplots(1, 2, figsize=(18, 6), sharey=True, tight_layout=True)\n",
    "\n",
    "for col in cols:\n",
    "    sns.lineplot(data=df, x='date', y=col, label=col, ax=axes[0]).set(title='Real Data', ylabel='')\n",
    "    sns.lineplot(data=msim.results, x='date', y=col, label=col, ax=axes[1]).set(title='Simulated Data', ylabel='')"
   ]
  },
  {
   "cell_type": "code",
   "execution_count": null,
   "metadata": {},
   "outputs": [],
   "source": []
  }
 ],
 "metadata": {
  "celltoolbar": "Slideshow",
  "kernelspec": {
   "display_name": "Python 3",
   "language": "python",
   "name": "python3"
  },
  "language_info": {
   "codemirror_mode": {
    "name": "ipython",
    "version": 3
   },
   "file_extension": ".py",
   "mimetype": "text/x-python",
   "name": "python",
   "nbconvert_exporter": "python",
   "pygments_lexer": "ipython3",
   "version": "3.7.6"
  }
 },
 "nbformat": 4,
 "nbformat_minor": 1
}