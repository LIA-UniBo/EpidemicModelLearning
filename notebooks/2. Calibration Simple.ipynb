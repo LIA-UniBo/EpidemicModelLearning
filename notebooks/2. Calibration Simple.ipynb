{
 "cells": [
  {
   "cell_type": "code",
   "execution_count": null,
   "metadata": {
    "pycharm": {
     "name": "#%%\n"
    }
   },
   "outputs": [],
   "source": [
    "import pandas as pd\n",
    "import seaborn as sns\n",
    "import matplotlib.pyplot as plt\n",
    "import covasim as cv\n",
    "from util import data\n",
    "\n",
    "sns.set_context('notebook')\n",
    "sns.set_style('whitegrid')\n",
    "\n",
    "pop_region = 4.46e6\n",
    "pop_size = 450e3\n",
    "pop_scale = 10\n",
    "\n",
    "cols = ['n_severe', 'n_critical', 'cum_deaths']\n",
    "n_runs = 3\n",
    "n_trials = 1000"
   ]
  },
  {
   "cell_type": "code",
   "execution_count": null,
   "metadata": {},
   "outputs": [],
   "source": [
    "df = data.get_regional_data(scaling_factor=pop_region/pop_size)\n",
    "\n",
    "_, axes = plt.subplots(1, 3, figsize=(18, 4), sharey=False)\n",
    "\n",
    "sns.lineplot(data=df, x='date', y='new_tests', ax=axes[0]).set(title='New Tests', ylabel='')\n",
    "sns.lineplot(data=df, x='date', y='cum_deaths', ax=axes[1]).set(title='Cumulative Deaths', ylabel='')\n",
    "sns.lineplot(data=df, x='date', y='n_severe', label='n_severe', ax=axes[2]).set(title='Active Cases')\n",
    "sns.lineplot(data=df, x='date', y='n_critical', label='n_critical', ax=axes[2]).set(ylabel='')\n",
    "\n",
    "plt.tight_layout()"
   ]
  },
  {
   "cell_type": "code",
   "execution_count": null,
   "metadata": {
    "pycharm": {
     "name": "#%%\n"
    }
   },
   "outputs": [],
   "source": [
    "default_params = dict(\n",
    "    start_day=df['date'].iloc[0],\n",
    "    end_day=df['date'].iloc[-1],\n",
    "    pop_size=pop_size / pop_scale,\n",
    "    pop_scale=pop_scale,\n",
    "    rescale=True,\n",
    "    n_beds_hosp=pop_size * 370.4 / 100e3,\n",
    "    n_beds_icu=pop_size * 14.46 / 100e3,\n",
    "    quar_period=14,\n",
    "    verbose=0\n",
    ")"
   ]
  },
  {
   "cell_type": "code",
   "execution_count": null,
   "metadata": {},
   "outputs": [],
   "source": [
    "from sklearn.metrics import r2_score\n",
    "\n",
    "days = pd.Series({\n",
    "    'lockdown': pd.to_datetime('2020-03-08'),\n",
    "    'summer': pd.to_datetime('2020-05-18'),\n",
    "    'fall': pd.to_datetime('2020-09-15'),\n",
    "    'yellow_1': pd.to_datetime('2020-11-08'),\n",
    "    'orange_1': pd.to_datetime('2020-11-15'),\n",
    "    'yellow_2': pd.to_datetime('2020-12-10'),\n",
    "    'orange_2': pd.to_datetime('2020-12-21'),\n",
    "    'yellow_3': pd.to_datetime('2021-02-01'),\n",
    "    'orange_3': pd.to_datetime('2021-02-21'),\n",
    "    'red': pd.to_datetime('2021-03-01')\n",
    "}).map(lambda date: (date.date() - df['date'].iloc[0]).days)\n",
    "\n",
    "def get_interventions(pars):\n",
    "    return [\n",
    "        cv.test_num('new_tests', quar_policy='both', sensitivity=0.8, do_plot=False),\n",
    "        cv.contact_tracing(trace_probs=pars['trace_probs'], trace_time=pars['trace_time'], do_plot=False),\n",
    "        cv.dynamic_pars(\n",
    "            beta=dict(days=days.values, vals=[pars[f'{p.split(\"_\")[0]}_beta'] for p in days.index]),\n",
    "            n_imports=dict(days=days, vals=[pars[f'{p.split(\"_\")[0]}_imports'] for p in days.index])\n",
    "        )\n",
    "    ]\n",
    "\n",
    "def custom_estimator(y_true, y_pred):\n",
    "    return 1 - r2_score(y_true, y_pred)"
   ]
  },
  {
   "cell_type": "code",
   "execution_count": null,
   "metadata": {
    "pycharm": {
     "name": "#%%\n"
    }
   },
   "outputs": [],
   "source": [
    "import optuna as op\n",
    "\n",
    "def objective(trial):\n",
    "    # define learnable parameters\n",
    "    initial_params = dict(\n",
    "        pop_infected=trial.suggest_int('init_pop_infected', 10, int(pop_size / 100), step=10),\n",
    "        n_imports=trial.suggest_float('init_n_imports', 0.0, 20.0, step=1e-1),\n",
    "        beta=trial.suggest_float('init_beta', 0.0, 0.2, step=1e-3),\n",
    "        **default_params\n",
    "    )\n",
    "    intervention_params = dict(\n",
    "        trace_probs=trial.suggest_float('interv_trace_probs', 0.0, 1.0, step=1e-2),            # CONTACT TRACING\n",
    "        trace_time=trial.suggest_float('interv_trace_time', 0.0, 10.0, step=1e-1),             #\n",
    "        lockdown_beta=trial.suggest_float('interv_lockdown_beta', 0.0, 0.2, step=1e-3),        # BETA\n",
    "        summer_beta=trial.suggest_float('interv_summer_beta', 0.0, 0.2, step=1e-3),            #\n",
    "        fall_beta=trial.suggest_float('interv_fall_beta', 0.0, 0.2, step=1e-3),                #\n",
    "        yellow_beta=trial.suggest_float('interv_yellow_beta', 0.0, 0.2, step=1e-3),            #\n",
    "        orange_beta=trial.suggest_float('interv_orange_beta', 0.0, 0.2, step=1e-3),            #\n",
    "        red_beta=trial.suggest_float('interv_red_beta', 0.0, 0.2, step=1e-3),                  #\n",
    "        lockdown_imports=trial.suggest_float('interv_lockdown_imports', 0.0, 20.0, step=1e-1), # IMPORTS\n",
    "        summer_imports=trial.suggest_float('interv_summer_imports', 0.0, 20.0, step=1e-1),     #\n",
    "        fall_imports=trial.suggest_float('interv_fall_imports', 0.0, 20.0, step=1e-1),         #\n",
    "        yellow_imports=trial.suggest_float('interv_yellow_imports', 0.0, 20.0, step=1e-1),     #\n",
    "        orange_imports=trial.suggest_float('interv_orange_imports', 0.0, 20.0, step=1e-1),     #\n",
    "        red_imports=trial.suggest_float('interv_red_imports', 0.0, 20.0, step=1e-1),           #\n",
    "    )\n",
    "    # define and run simulations\n",
    "    sim = cv.Sim(pars=initial_params, interventions=get_interventions(intervention_params), datafile=df)\n",
    "    msim = cv.MultiSim(sim)\n",
    "    msim.run(n_runs=n_runs)\n",
    "    # compute loss\n",
    "    weights = {c: 1 for c in cols}\n",
    "    mismatches = [s.compute_fit(keys=cols, weights=weights, estimator=custom_estimator).mismatch for s in msim.sims]\n",
    "    return sum(mismatches) / n_runs\n",
    "\n",
    "study = op.create_study()\n",
    "study.optimize(func=objective, n_trials=n_trials)"
   ]
  },
  {
   "cell_type": "code",
   "execution_count": null,
   "metadata": {
    "pycharm": {
     "name": "#%%\n"
    }
   },
   "outputs": [],
   "source": [
    "best_params = study.best_params\n",
    "best_params"
   ]
  },
  {
   "cell_type": "code",
   "execution_count": null,
   "metadata": {},
   "outputs": [],
   "source": [
    "results = pd.DataFrame([dict(objective=t.value, **t.params) for t in study.trials])\n",
    "results = results[results['objective'] <= results['objective'].quantile(.05)]\n",
    "results = results.describe().loc[['count', 'min', 'max']]\n",
    "results = results.append(pd.Series({'objective': study.best_value, **best_params}, name='best'))\n",
    "results = results.transpose().astype({'count': 'int'})\n",
    "results"
   ]
  },
  {
   "cell_type": "code",
   "execution_count": null,
   "metadata": {},
   "outputs": [],
   "source": [
    "initial_params = {k[5:]: v for k, v in best_params.items() if k.startswith('init_')}\n",
    "initial_params.update(default_params)\n",
    "\n",
    "intervention_params = {k[7:]: v for k, v in best_params.items() if k.startswith('interv_')}\n",
    "interventions = get_interventions(intervention_params)\n",
    "\n",
    "sim = cv.Sim(pars=initial_params, interventions=interventions, datafile=df)\n",
    "msim = cv.MultiSim(sim)\n",
    "msim.run(n_runs=30)\n",
    "\n",
    "msim.mean()\n",
    "msim.plot(cols);"
   ]
  },
  {
   "cell_type": "code",
   "execution_count": null,
   "metadata": {},
   "outputs": [],
   "source": [
    "_, axes = plt.subplots(1, 2, figsize=(18, 6), sharey=True, tight_layout=True)\n",
    "\n",
    "for col in cols:\n",
    "    sns.lineplot(data=df, x='date', y=col, label=col, ax=axes[0]).set(title='Real Data', ylabel='')\n",
    "    sns.lineplot(data=msim.results, x='date', y=col, label=col, ax=axes[1]).set(title='Simulated Data', ylabel='')"
   ]
  },
  {
   "cell_type": "code",
   "execution_count": null,
   "metadata": {},
   "outputs": [],
   "source": []
  }
 ],
 "metadata": {
  "celltoolbar": "Slideshow",
  "kernelspec": {
   "display_name": "Python 3",
   "language": "python",
   "name": "python3"
  },
  "language_info": {
   "codemirror_mode": {
    "name": "ipython",
    "version": 3
   },
   "file_extension": ".py",
   "mimetype": "text/x-python",
   "name": "python",
   "nbconvert_exporter": "python",
   "pygments_lexer": "ipython3",
   "version": "3.7.6"
  }
 },
 "nbformat": 4,
 "nbformat_minor": 1
}