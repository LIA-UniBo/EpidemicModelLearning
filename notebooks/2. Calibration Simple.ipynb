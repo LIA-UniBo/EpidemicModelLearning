{
 "cells": [
  {
   "cell_type": "code",
   "execution_count": null,
   "metadata": {},
   "outputs": [],
   "source": [
    "import sys\n",
    "if 'google.colab' in sys.modules:\n",
    "    !pip install covasim optuna\n",
    "    !git clone https://github.com/mazzio97/EpidemicModelLearning.git\n",
    "    sys.path.append('EpidemicModelLearning')\n",
    "    sys.path.append('EpidemicModelLearning/notebooks')\n",
    "    sys.path.append('EpidemicModelLearning/notebooks/util')"
   ]
  },
  {
   "cell_type": "code",
   "execution_count": null,
   "metadata": {
    "pycharm": {
     "name": "#%%\n"
    }
   },
   "outputs": [],
   "source": [
    "import pandas as pd\n",
    "import seaborn as sns\n",
    "import matplotlib.pyplot as plt\n",
    "import covasim as cv\n",
    "from util import data, calibration\n",
    "\n",
    "sns.set_context('notebook')\n",
    "sns.set_style('whitegrid')\n",
    "\n",
    "pop_size = 450e3\n",
    "pop_scale = 10\n",
    "df = data.get_regional_data(scaling_factor=4.46e6/pop_size)\n",
    "\n",
    "cols = ['n_severe', 'n_critical', 'cum_diagnoses', 'cum_deaths']\n",
    "n_runs = 3\n",
    "n_trials = 50\n",
    "\n",
    "sample_weight = calibration.get_sample_weights(df, 'proportional')\n",
    "custom_estimator = calibration.get_custom_estimator('mse', sample_weight)"
   ]
  },
  {
   "cell_type": "code",
   "execution_count": null,
   "metadata": {},
   "outputs": [],
   "source": [
    "_, axes = plt.subplots(2, 2, figsize=(14, 8), sharex=True)\n",
    "\n",
    "sns.lineplot(data=df, x='date', y='new_tests', ax=axes[0, 0]).set(title='New Tests', ylabel='')\n",
    "sns.lineplot(data=df, x='date', y='cum_diagnoses', ax=axes[0, 1]).set(title='Cumulative Cases', ylabel='')\n",
    "sns.lineplot(data=df, x='date', y='cum_deaths', ax=axes[1, 0]).set(title='Cumulative Deaths', ylabel='')\n",
    "sns.lineplot(data=df, x='date', y='n_severe', label='n_severe', ax=axes[1, 1]).set(title='Active Cases')\n",
    "sns.lineplot(data=df, x='date', y='n_critical', label='n_critical', ax=axes[1, 1]).set(ylabel='')\n",
    "\n",
    "plt.tight_layout()"
   ]
  },
  {
   "cell_type": "code",
   "execution_count": null,
   "metadata": {
    "pycharm": {
     "name": "#%%\n"
    }
   },
   "outputs": [],
   "source": [
    "default_params = dict(\n",
    "    start_day=df['date'].iloc[0],\n",
    "    end_day=df['date'].iloc[-1],\n",
    "    pop_size=pop_size / pop_scale,\n",
    "    pop_scale=pop_scale,\n",
    "    rescale=True,\n",
    "    n_beds_hosp=pop_size * 370.4 / 100e3,\n",
    "    n_beds_icu=pop_size * 14.46 / 100e3,\n",
    "    quar_period=14,\n",
    "    verbose=0\n",
    ")"
   ]
  },
  {
   "cell_type": "code",
   "execution_count": null,
   "metadata": {},
   "outputs": [],
   "source": [
    "def get_interventions(pars):\n",
    "    return [\n",
    "        cv.test_num('new_tests', quar_policy='both', sensitivity=0.8, do_plot=False),\n",
    "        cv.contact_tracing(trace_probs=pars['trace_probs'], trace_time=pars['trace_time'], do_plot=False),\n",
    "        cv.change_beta(days=periods.index.values, changes=[pars[f'{p}_beta_change'] for p in periods]),\n",
    "        cv.dynamic_pars(beta=dict(\n",
    "            days=[get_delta('2020-05-01'), get_delta('2020-09-01')],\n",
    "            vals=[pars['summer_beta'], pars['winter_beta']]\n",
    "        )),\n",
    "        cv.dynamic_pars(n_imports=dict(\n",
    "            days=periods.index.values,\n",
    "            vals=[pars[f'{p}_imports'] for p in periods]\n",
    "        ))\n",
    "    ]\n",
    "\n",
    "def get_delta(date):\n",
    "    return (pd.to_datetime(date).date() - df['date'].iloc[0]).days\n",
    "\n",
    "periods = pd.Series({\n",
    "    '2020-03-08': 'red',\n",
    "    '2020-05-18': 'white',\n",
    "    '2020-11-08': 'yellow',\n",
    "    '2020-11-15': 'orange',\n",
    "    '2020-12-10': 'yellow',\n",
    "    '2020-12-21': 'orange',\n",
    "    '2021-02-01': 'yellow',\n",
    "    '2021-02-21': 'orange',\n",
    "    '2021-03-01': 'red'\n",
    "})\n",
    "periods.index = [get_delta(d) for d in periods.index]"
   ]
  },
  {
   "cell_type": "code",
   "execution_count": null,
   "metadata": {
    "pycharm": {
     "name": "#%%\n"
    }
   },
   "outputs": [],
   "source": [
    "import optuna as op\n",
    "\n",
    "def constraint_violation(pars, eps=1e-9):\n",
    "  # eps is used to avoid division by zero runtime error\n",
    "  pars = {k: v + eps for k, v in pars.items() if isinstance(v, float)}\n",
    "  violation = 1.\n",
    "  violation *= max(1, pars['beta'] / pars['winter_beta'])\n",
    "  violation *= max(1, pars['summer_beta'] / pars['beta'])\n",
    "  violation *= max(1, pars['yellow_beta_change'] / pars['white_beta_change'])\n",
    "  violation *= max(1, pars['orange_beta_change'] / pars['yellow_beta_change'])\n",
    "  violation *= max(1, pars['red_beta_change'] / pars['orange_beta_change'])\n",
    "  violation *= max(1, pars['yellow_imports'] / pars['white_imports'])\n",
    "  violation *= max(1, pars['orange_imports'] / pars['yellow_imports'])\n",
    "  violation *= max(1, pars['red_imports'] / pars['orange_imports'])\n",
    "  return violation\n",
    "\n",
    "def objective(trial):\n",
    "    # define learnable parameters\n",
    "    initial_params = dict(\n",
    "        pop_infected=trial.suggest_int('init_pop_infected', pop_size // 1e4, pop_size // 1e2, step=5),\n",
    "        rel_symp_prob=trial.suggest_float('init_rel_symp_prob', 0.4, 4.0, log=True),\n",
    "        rel_severe_prob=trial.suggest_float('init_rel_severe_prob', 0.4, 4.0, log=True),\n",
    "        rel_crit_prob=trial.suggest_float('init_rel_crit_prob', 0.4, 4.0, log=True),\n",
    "        rel_death_prob=trial.suggest_float('init_rel_death_prob', 0.4, 4.0, log=True),\n",
    "        beta=trial.suggest_float('init_beta', 0.0, 0.04, step=None),\n",
    "        n_imports=trial.suggest_float('init_n_imports', 5.0, 20.0, step=1e-1),\n",
    "        **default_params\n",
    "    )\n",
    "    intervention_params = dict(\n",
    "        trace_probs=trial.suggest_float('interv_trace_probs', 0.2, 0.9, step=1e-2),               # CONTACT TRACING\n",
    "        trace_time=trial.suggest_float('interv_trace_time', 1.0, 7.0, step=1e-1),                 #\n",
    "        summer_beta=trial.suggest_float('interv_summer_beta', 0.0, 0.04, step=None),              # VIRAL LOAD RED.\n",
    "        winter_beta=trial.suggest_float('interv_winter_beta', 0.0, 0.04, step=None),              #\n",
    "        white_beta_change=trial.suggest_float('interv_white_beta_change', 0.8, 1.0, step=1e-2),   # BETA CHANGE\n",
    "        yellow_beta_change=trial.suggest_float('interv_yellow_beta_change', 0.6, 0.9, step=1e-2), #\n",
    "        orange_beta_change=trial.suggest_float('interv_orange_beta_change', 0.2, 0.6, step=1e-2), #\n",
    "        red_beta_change=trial.suggest_float('interv_red_beta_change', 0.0, 0.3, step=1e-2),       #\n",
    "        white_imports=trial.suggest_float('interv_white_imports', 5.0, 20.0, step=1e-1),          # N. IMPORTS\n",
    "        yellow_imports=trial.suggest_float('interv_yellow_imports', 3.0, 12.0, step=1e-1),        #\n",
    "        orange_imports=trial.suggest_float('interv_orange_imports', 2.0, 8.0, step=1e-1),         #\n",
    "        red_imports=trial.suggest_float('interv_red_imports', 0.0, 6.0, step=1e-1)                #\n",
    "    )\n",
    "    # define and run simulations\n",
    "    sim = cv.Sim(pars=initial_params, interventions=get_interventions(intervention_params), datafile=df)\n",
    "    msim = cv.MultiSim(sim)\n",
    "    msim.run(n_runs=n_runs)\n",
    "    # compute loss\n",
    "    weights = {c: 1 for c in cols}\n",
    "    mismatches = [s.compute_fit(keys=cols, weights=weights, estimator=custom_estimator).mismatch for s in msim.sims]\n",
    "    violation = constraint_violation({**initial_params, **intervention_params})\n",
    "    return violation * sum(mismatches) / n_runs\n",
    "\n",
    "study = op.create_study()\n",
    "study.optimize(func=objective, n_trials=n_trials)"
   ]
  },
  {
   "cell_type": "code",
   "execution_count": null,
   "metadata": {
    "pycharm": {
     "name": "#%%\n"
    }
   },
   "outputs": [],
   "source": [
    "best_params = study.best_params\n",
    "best_params"
   ]
  },
  {
   "cell_type": "code",
   "execution_count": null,
   "metadata": {},
   "outputs": [],
   "source": [
    "results = pd.DataFrame([dict(objective=t.value, **t.params) for t in study.trials])\n",
    "results = results[results['objective'] <= results['objective'].quantile(.05)]\n",
    "results = results.describe().loc[['count', 'min', 'max']]\n",
    "results = results.append(pd.Series({'objective': study.best_value, **best_params}, name='best'))\n",
    "results = results.transpose().astype({'count': 'int'})\n",
    "results"
   ]
  },
  {
   "cell_type": "code",
   "execution_count": null,
   "metadata": {},
   "outputs": [],
   "source": [
    "initial_params = {k[5:]: v for k, v in best_params.items() if k.startswith('init_')}\n",
    "initial_params.update(default_params)\n",
    "\n",
    "intervention_params = {k[7:]: v for k, v in best_params.items() if k.startswith('interv_')}\n",
    "interventions = get_interventions(intervention_params)\n",
    "\n",
    "sim = cv.Sim(pars=initial_params, interventions=interventions, datafile=df)\n",
    "msim = cv.MultiSim(sim)\n",
    "msim.run(n_runs=30)\n",
    "\n",
    "msim.mean()\n",
    "msim.plot(cols + ['n_infectious', 'n_susceptible']);"
   ]
  },
  {
   "cell_type": "code",
   "execution_count": null,
   "metadata": {},
   "outputs": [],
   "source": [
    "_, axes = plt.subplots(2, 2, figsize=(14, 8), sharey='row', sharex=True, tight_layout=True)\n",
    "\n",
    "for col in cols:\n",
    "    i = 0 if 'cum_' in col else 1\n",
    "    sns.lineplot(data=df, x='date', y=col, label=col, ax=axes[i, 0]).set(title='Real Data', ylabel='')\n",
    "    sns.lineplot(data=msim.results, x='date', y=col, label=col, ax=axes[i, 1]).set(title='Simulated Data', ylabel='')"
   ]
  },
  {
   "cell_type": "code",
   "execution_count": null,
   "metadata": {},
   "outputs": [],
   "source": [
    "results = pd.DataFrame([dict(objective=t.value, **t.params) for t in study.trials]).sort_values('objective')\n",
    "for id, best_params in results.iterrows():\n",
    "  initial_params = {k[5:]: v for k, v in best_params.items() if k.startswith('init_')}\n",
    "  initial_params.update(default_params)\n",
    "  intervention_params = {k[7:]: v for k, v in best_params.items() if k.startswith('interv_')}\n",
    "  interventions = get_interventions(intervention_params)\n",
    "  sim = cv.Sim(pars=initial_params, interventions=interventions, datafile=df)\n",
    "  msim = cv.MultiSim(sim)\n",
    "  msim.run(n_runs=10)\n",
    "  msim.mean()\n",
    "  print('RUN:', id)\n",
    "  msim.plot(cols + ['n_infectious', 'n_susceptible'])\n",
    "  print('\\n')"
   ]
  },
  {
   "cell_type": "code",
   "execution_count": null,
   "metadata": {},
   "outputs": [],
   "source": []
  }
 ],
 "metadata": {
  "celltoolbar": "Slideshow",
  "kernelspec": {
   "display_name": "Python 3",
   "language": "python",
   "name": "python3"
  },
  "language_info": {
   "codemirror_mode": {
    "name": "ipython",
    "version": 3
   },
   "file_extension": ".py",
   "mimetype": "text/x-python",
   "name": "python",
   "nbconvert_exporter": "python",
   "pygments_lexer": "ipython3",
   "version": "3.7.6"
  }
 },
 "nbformat": 4,
 "nbformat_minor": 1
}