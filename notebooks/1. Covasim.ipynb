{
 "cells": [
  {
   "cell_type": "code",
   "execution_count": 1,
   "metadata": {
    "slideshow": {
     "slide_type": "skip"
    }
   },
   "outputs": [],
   "source": [
    "import pandas as pd\n",
    "import covasim as cv\n",
    "\n",
    "from util import comb"
   ]
  },
  {
   "cell_type": "markdown",
   "metadata": {
    "collapsed": true,
    "pycharm": {
     "name": "#%% md\n"
    },
    "slideshow": {
     "slide_type": "slide"
    }
   },
   "source": [
    "# Covasim"
   ]
  },
  {
   "cell_type": "markdown",
   "metadata": {
    "pycharm": {
     "name": "#%% md\n"
    },
    "slideshow": {
     "slide_type": "subslide"
    }
   },
   "source": [
    "## Running a simulation"
   ]
  },
  {
   "cell_type": "code",
   "execution_count": 2,
   "metadata": {
    "slideshow": {
     "slide_type": "-"
    }
   },
   "outputs": [
    {
     "name": "stdout",
     "output_type": "stream",
     "text": [
      "Covasim 2.0.2 (2020-02-01) — © 2021 by IDM\n"
     ]
    }
   ],
   "source": [
    "pars = dict(\n",
    "  pop_type='hybrid',\n",
    "  pop_size=10000\n",
    ")\n",
    "\n",
    "sim = cv.Sim(pars)"
   ]
  },
  {
   "cell_type": "code",
   "execution_count": 3,
   "metadata": {
    "pycharm": {
     "name": "#%%\n"
    },
    "slideshow": {
     "slide_type": "subslide"
    }
   },
   "outputs": [
    {
     "name": "stdout",
     "output_type": "stream",
     "text": [
      "beta          --> 0.016\n",
      "contacts      --> {'h': 2.0, 's': 20, 'w': 16, 'c': 20}\n",
      "dynam_layer   --> {'h': 0, 's': 0, 'w': 0, 'c': 0}\n",
      "beta_layer    --> {'h': 3.0, 's': 0.6, 'w': 0.6, 'c': 0.3}\n",
      "n_imports     --> 0\n",
      "asymp_factor  --> 1.0\n",
      "iso_factor    --> {'h': 0.3, 's': 0.1, 'w': 0.1, 'c': 0.1}\n",
      "quar_factor   --> {'h': 0.6, 's': 0.2, 'w': 0.2, 'c': 0.2}\n",
      "quar_period   --> 14\n",
      "interventions --> []\n"
     ]
    }
   ],
   "source": [
    "intervention_pars = [\n",
    " 'beta',         # beta per symptomatic contact\n",
    " 'contacts',     # the number of contacts per layer\n",
    " 'dynam_layer',  # which layers are dynamic\n",
    " 'beta_layer',   # transmissibility per layer\n",
    " 'n_imports',    # average daily number of imported cases (actual number is drawn from Poisson distribution)\n",
    " 'asymp_factor', # multiply beta by this factor for asymptomatic cases; no statistically significant difference in transmissibility\n",
    " 'iso_factor',   # multiply beta by this factor for diganosed cases to represent isolation\n",
    " 'quar_factor',  # quarantine multiplier on transmissibility and susceptibility\n",
    " 'quar_period',  # number of days to quarantine for\n",
    " 'interventions' # the interventions present in this simulation\n",
    "]\n",
    "\n",
    "for key in intervention_pars:\n",
    "  print(f'{key:13} --> {sim[key]}')"
   ]
  },
  {
   "cell_type": "markdown",
   "metadata": {
    "slideshow": {
     "slide_type": "subslide"
    }
   },
   "source": [
    "The execution of a simulation produces the following results:"
   ]
  },
  {
   "cell_type": "code",
   "execution_count": 4,
   "metadata": {
    "pycharm": {
     "name": "#%%\n"
    },
    "slideshow": {
     "slide_type": "-"
    }
   },
   "outputs": [
    {
     "name": "stdout",
     "output_type": "stream",
     "text": [
      "Initializing sim with 10000 people for 60 days\n",
      "  Running 2020-03-01 ( 0/60) (0.41 s)  ———————————————————— 2%\n",
      "  Running 2020-03-11 (10/60) (0.46 s)  •••————————————————— 18%\n",
      "  Running 2020-03-21 (20/60) (0.52 s)  ••••••—————————————— 34%\n",
      "  Running 2020-03-31 (30/60) (0.58 s)  ••••••••••—————————— 51%\n",
      "  Running 2020-04-10 (40/60) (0.65 s)  •••••••••••••——————— 67%\n",
      "  Running 2020-04-20 (50/60) (0.72 s)  ••••••••••••••••———— 84%\n",
      "  Running 2020-04-30 (60/60) (0.80 s)  •••••••••••••••••••• 100%\n",
      "\n",
      "Simulation summary:\n",
      "    6342 cumulative infections\n",
      "    5377 cumulative infectious\n",
      "       0 cumulative tests\n",
      "       0 cumulative diagnoses\n",
      "    3066 cumulative recoveries\n",
      "    3494 cumulative symptomatic cases\n",
      "     205 cumulative severe cases\n",
      "      49 cumulative critical cases\n",
      "       9 cumulative deaths\n",
      "       0 cumulative quarantined people\n",
      "\n"
     ]
    }
   ],
   "source": [
    "sim.run()"
   ]
  },
  {
   "cell_type": "markdown",
   "metadata": {
    "pycharm": {
     "name": "#%% md\n"
    },
    "slideshow": {
     "slide_type": "slide"
    }
   },
   "source": [
    "## Running multiple simulations"
   ]
  },
  {
   "cell_type": "code",
   "execution_count": 5,
   "metadata": {
    "pycharm": {
     "name": "#%%\n"
    },
    "slideshow": {
     "slide_type": "subslide"
    }
   },
   "outputs": [
    {
     "data": {
      "text/plain": [
       "[('rand_seed', range(0, 3)), ('beta', [0.01, 0.02, 0.03])]"
      ]
     },
     "execution_count": 5,
     "metadata": {},
     "output_type": "execute_result"
    }
   ],
   "source": [
    "multi_pars = [ (k, v) for k, v in dict(\n",
    "  rand_seed = range(3),\n",
    "  beta = [0.01, 0.02, 0.03]\n",
    ").items()]\n",
    "\n",
    "multi_pars"
   ]
  },
  {
   "cell_type": "code",
   "execution_count": 6,
   "metadata": {
    "pycharm": {
     "name": "#%%\n"
    },
    "slideshow": {
     "slide_type": "subslide"
    }
   },
   "outputs": [
    {
     "data": {
      "text/plain": [
       "[{'pop_type': 'hybrid',\n",
       "  'pop_size': 10000,\n",
       "  'verbose': 0,\n",
       "  'rand_seed': 0,\n",
       "  'beta': 0.01},\n",
       " {'pop_type': 'hybrid',\n",
       "  'pop_size': 10000,\n",
       "  'verbose': 0,\n",
       "  'rand_seed': 0,\n",
       "  'beta': 0.02},\n",
       " {'pop_type': 'hybrid',\n",
       "  'pop_size': 10000,\n",
       "  'verbose': 0,\n",
       "  'rand_seed': 0,\n",
       "  'beta': 0.03},\n",
       " {'pop_type': 'hybrid',\n",
       "  'pop_size': 10000,\n",
       "  'verbose': 0,\n",
       "  'rand_seed': 1,\n",
       "  'beta': 0.01},\n",
       " {'pop_type': 'hybrid',\n",
       "  'pop_size': 10000,\n",
       "  'verbose': 0,\n",
       "  'rand_seed': 1,\n",
       "  'beta': 0.02},\n",
       " {'pop_type': 'hybrid',\n",
       "  'pop_size': 10000,\n",
       "  'verbose': 0,\n",
       "  'rand_seed': 1,\n",
       "  'beta': 0.03},\n",
       " {'pop_type': 'hybrid',\n",
       "  'pop_size': 10000,\n",
       "  'verbose': 0,\n",
       "  'rand_seed': 2,\n",
       "  'beta': 0.01},\n",
       " {'pop_type': 'hybrid',\n",
       "  'pop_size': 10000,\n",
       "  'verbose': 0,\n",
       "  'rand_seed': 2,\n",
       "  'beta': 0.02},\n",
       " {'pop_type': 'hybrid',\n",
       "  'pop_size': 10000,\n",
       "  'verbose': 0,\n",
       "  'rand_seed': 2,\n",
       "  'beta': 0.03}]"
      ]
     },
     "execution_count": 6,
     "metadata": {},
     "output_type": "execute_result"
    }
   ],
   "source": [
    "pars['verbose'] = 0\n",
    "pars_list = comb.cartesian_product(multi_pars, pars)\n",
    "pars_list"
   ]
  },
  {
   "cell_type": "code",
   "execution_count": 7,
   "metadata": {
    "pycharm": {
     "name": "#%%\n"
    },
    "slideshow": {
     "slide_type": "subslide"
    }
   },
   "outputs": [
    {
     "name": "stdout",
     "output_type": "stream",
     "text": [
      "MultiSim(n_sims: 9; base: Sim(\"Sim 0\"; 2020-03-01 to 2020-04-30; pop: 10000 hybrid; epi: not run))\n"
     ]
    }
   ],
   "source": [
    "sims = [cv.Sim(pars, label=f'Sim {i}') for i, pars in enumerate(pars_list)]\n",
    "msim = cv.MultiSim(sims)\n",
    "msim.brief()"
   ]
  },
  {
   "cell_type": "code",
   "execution_count": 8,
   "metadata": {
    "pycharm": {
     "name": "#%%\n"
    },
    "slideshow": {
     "slide_type": "-"
    }
   },
   "outputs": [
    {
     "name": "stdout",
     "output_type": "stream",
     "text": [
      "CPU times: user 60 ms, sys: 32 ms, total: 92.1 ms\n",
      "Wall time: 3.79 s\n"
     ]
    }
   ],
   "source": [
    "%%time\n",
    "msim.run()"
   ]
  },
  {
   "cell_type": "code",
   "execution_count": 9,
   "metadata": {
    "pycharm": {
     "name": "#%%\n"
    },
    "slideshow": {
     "slide_type": "subslide"
    }
   },
   "outputs": [
    {
     "data": {
      "text/plain": [
       "[[1653.0, 1358.0, 0.0, 0.0, 917.0, 919.0, 53.0, 12.0, 2.0, 0.0],\n",
       " [8280.0, 7827.0, 0.0, 0.0, 5824.0, 5174.0, 354.0, 79.0, 24.0, 0.0],\n",
       " [9367.0, 9356.0, 0.0, 0.0, 9123.0, 6332.0, 524.0, 141.0, 55.0, 0.0],\n",
       " [1164.0, 945.0, 0.0, 0.0, 569.0, 621.0, 31.0, 9.0, 1.0, 0.0],\n",
       " [8266.0, 7686.0, 0.0, 0.0, 5449.0, 5103.0, 363.0, 89.0, 17.0, 0.0],\n",
       " [9376.0, 9348.0, 0.0, 0.0, 8990.0, 6306.0, 520.0, 146.0, 60.0, 0.0],\n",
       " [2908.0, 2414.0, 0.0, 0.0, 1518.0, 1580.0, 83.0, 20.0, 4.0, 0.0],\n",
       " [8810.0, 8664.0, 0.0, 0.0, 7650.0, 5846.0, 433.0, 108.0, 35.0, 0.0],\n",
       " [9493.0, 9487.0, 0.0, 0.0, 9282.0, 6363.0, 505.0, 149.0, 46.0, 0.0]]"
      ]
     },
     "execution_count": 9,
     "metadata": {},
     "output_type": "execute_result"
    }
   ],
   "source": [
    "keys = [key for key in msim.sims[0].summary.keys() if 'cum' in key]\n",
    "values = []\n",
    "\n",
    "for sim in msim.sims:\n",
    "  values.append(sim.summary[keys])\n",
    "values"
   ]
  },
  {
   "cell_type": "markdown",
   "metadata": {
    "pycharm": {
     "name": "#%% md\n"
    },
    "slideshow": {
     "slide_type": "slide"
    }
   },
   "source": [
    "## Generate the Dataset"
   ]
  },
  {
   "cell_type": "markdown",
   "metadata": {
    "pycharm": {
     "name": "#%% md\n"
    },
    "slideshow": {
     "slide_type": "subslide"
    }
   },
   "source": [
    "Information about hospital capacities has been retrieved from [Wikipedia](https://en.wikipedia.org/wiki/List_of_countries_by_hospital_beds)."
   ]
  },
  {
   "cell_type": "code",
   "execution_count": null,
   "metadata": {
    "pycharm": {
     "name": "#%%\n"
    },
    "slideshow": {
     "slide_type": "fragment"
    }
   },
   "outputs": [],
   "source": [
    "fixed_params = {}\n",
    "fixed_params['pop_type'] = 'hybrid'                                  # hybrid population type (four default contact layers included)\n",
    "fixed_params['location'] = 'italy'                                   # households and age distribution data from italy\n",
    "fixed_params['n_days'] = 180                                         # 6-months simulation\n",
    "fixed_params['pop_size'] = 50e3                                      # 50k agents in total\n",
    "fixed_params['pop_infected'] = fixed_params['pop_size'] / 1e3        # 1 initial infected per 1k agents\n",
    "fixed_params['n_beds_hosp'] = fixed_params['pop_size'] * 3.18 / 1e3  # 3.18 hospital beds per 1k citizens\n",
    "fixed_params['n_beds_icu'] = fixed_params['pop_size'] * 12.5 / 100e3 # 12.5 hospital beds per 100k citizens\n",
    "fixed_params['verbose'] = 0                                          # suppress prints\n",
    "\n",
    "multi_params = [ (k, v) for k, v in dict(\n",
    "  rand_seed = range(3),                                              # 3 simulations per input values\n",
    "  n_imports = [5, 10],                                               # number of imported index cases\n",
    "  quar_period = [7, 14],                                             # length of the quarantine period in days\n",
    ").items() ]"
   ]
  },
  {
   "cell_type": "code",
   "execution_count": null,
   "metadata": {
    "pycharm": {
     "name": "#%%\n"
    },
    "slideshow": {
     "slide_type": "subslide"
    }
   },
   "outputs": [],
   "source": [
    "params_list = comb.cartesian_product(multi_params, fixed_params)\n",
    "simulations = [cv.Sim(params, label=f'Sim {i}') for i, params in enumerate(params_list)]\n",
    "multi_sim = cv.MultiSim(simulations)\n",
    "multi_sim.run()\n",
    "\n",
    "input_keys = [key for key, _ in multi_params]\n",
    "output_keys = [key for key in multi_sim.sims[0].summary.keys() if 'cum' in key]\n",
    "values = []\n",
    "for i, simulation in enumerate(multi_sim.sims):\n",
    "  input_values = [params_list[i][key] for key in input_keys]\n",
    "  output_values = simulation.summary[output_keys]\n",
    "  values.append(input_values + output_values)\n",
    "df = pd.DataFrame(values, columns=input_keys + output_keys)"
   ]
  },
  {
   "cell_type": "code",
   "execution_count": null,
   "metadata": {
    "pycharm": {
     "name": "#%%\n"
    },
    "slideshow": {
     "slide_type": "subslide"
    }
   },
   "outputs": [],
   "source": [
    "df"
   ]
  }
 ],
 "metadata": {
  "celltoolbar": "Slideshow",
  "kernelspec": {
   "display_name": "Python 3",
   "language": "python",
   "name": "python3"
  },
  "language_info": {
   "codemirror_mode": {
    "name": "ipython",
    "version": 3
   },
   "file_extension": ".py",
   "mimetype": "text/x-python",
   "name": "python",
   "nbconvert_exporter": "python",
   "pygments_lexer": "ipython3",
   "version": "3.7.9"
  }
 },
 "nbformat": 4,
 "nbformat_minor": 1
}