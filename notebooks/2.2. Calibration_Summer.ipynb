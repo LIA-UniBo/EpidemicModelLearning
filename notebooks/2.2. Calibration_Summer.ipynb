{
 "cells": [
  {
   "cell_type": "code",
   "execution_count": null,
   "metadata": {
    "pycharm": {
     "name": "#%%\n"
    }
   },
   "outputs": [],
   "source": [
    "import pandas as pd\n",
    "import seaborn as sns\n",
    "import matplotlib.pyplot as plt\n",
    "import covasim as cv\n",
    "from util import data\n",
    "\n",
    "sns.set_context('notebook')\n",
    "sns.set_style('whitegrid')\n",
    "\n",
    "pop_region = 4.46e6\n",
    "pop_size = 450e3\n",
    "pop_scale = 10\n",
    "\n",
    "cols = ['n_severe', 'n_critical', 'cum_deaths']\n",
    "n_runs = 3\n",
    "n_trials = 1000"
   ]
  },
  {
   "cell_type": "code",
   "execution_count": null,
   "metadata": {},
   "outputs": [],
   "source": [
    "df = data.get_regional_data(scaling_factor=pop_region/pop_size)\n",
    "df = df[df['date'] <= pd.to_datetime('2020-09-15')]\n",
    "\n",
    "_, axes = plt.subplots(1, 3, figsize=(18, 4), sharey=False)\n",
    "\n",
    "sns.lineplot(data=df, x='date', y='new_tests', ax=axes[0]).set(title='New Tests', ylabel='')\n",
    "sns.lineplot(data=df, x='date', y='cum_deaths', ax=axes[1]).set(title='Cumulative Deaths', ylabel='')\n",
    "sns.lineplot(data=df, x='date', y='n_severe', label='n_severe', ax=axes[2]).set(title='Active Cases')\n",
    "sns.lineplot(data=df, x='date', y='n_critical', label='n_critical', ax=axes[2]).set(ylabel='')\n",
    "\n",
    "plt.tight_layout()"
   ]
  },
  {
   "cell_type": "code",
   "execution_count": null,
   "metadata": {
    "pycharm": {
     "name": "#%%\n"
    }
   },
   "outputs": [],
   "source": [
    "default_params = dict(\n",
    "    pop_type='hybrid',\n",
    "    location='italy',\n",
    "    start_day=df['date'].iloc[0],\n",
    "    end_day=df['date'].iloc[-1],\n",
    "    pop_size=pop_size / pop_scale,\n",
    "    pop_scale=pop_scale,\n",
    "    rescale=True,\n",
    "    n_beds_hosp=pop_size * 370.4 / 100e3,\n",
    "    n_beds_icu=pop_size * 14.46 / 100e3,\n",
    "    quar_period=14,\n",
    "    verbose=0\n",
    ")"
   ]
  },
  {
   "cell_type": "code",
   "execution_count": null,
   "metadata": {},
   "outputs": [],
   "source": [
    "import optuna as op\n",
    "from util.interventions import get_interventions\n",
    "\n",
    "def unused_param(trial, name, value=0.):\n",
    "    return trial.suggest_float(name, value, value)\n",
    "\n",
    "def objective(trial):\n",
    "    # define learnable parameters\n",
    "    initial_params = dict(\n",
    "        pop_infected=trial.suggest_int('init_pop_infected', 2400, 4500, step=10),\n",
    "        n_imports=trial.suggest_float('init_n_imports', 0.6, 2.6, step=1e-1),\n",
    "        beta=trial.suggest_float('init_beta', 0.018, 0.033, step=1e-3),\n",
    "        rel_symp_prob=trial.suggest_float('init_rel_symp_prob', 1.8, 10.0, log=True),\n",
    "        rel_severe_prob=trial.suggest_float('init_rel_severe_prob', 0.05, 0.2, log=True),\n",
    "        rel_crit_prob=trial.suggest_float('init_rel_crit_prob', 0.7, 1.5, log=True),\n",
    "        rel_death_prob=trial.suggest_float('init_rel_death_prob', 4.0, 10.0, log=True),\n",
    "        **default_params\n",
    "    )\n",
    "    intervention_params = dict(\n",
    "        trace_prob=trial.suggest_float('interv_trace_prob', 0.4, 0.85, step=1e-2),          # CONTACT TRACING\n",
    "        trace_time=trial.suggest_float('interv_trace_time', 2.3, 6.3, step=1e-1),           #\n",
    "        work_contacts=trial.suggest_float('interv_work_contacts', 0.55, 0.75, step=1e-2),   # SMART WORKING\n",
    "        school_contacts=trial.suggest_float('interv_school_contacts', 0.0, 1.0, step=1e-2), # SCHOOLS CLOSED\n",
    "        yellow_contacts=unused_param(trial, 'interv_yellow_contacts'),                      # LOCKDOWN INTERACTIONS\n",
    "        orange_contacts=unused_param(trial, 'interv_orange_contacts'),                      #\n",
    "        summer_imports=trial.suggest_float('interv_summer_imp', 0., 20., step=1e-1),        # IMPORTED CASES\n",
    "        yellow_imports=unused_param(trial, 'interv_yellow_imp'),                            #\n",
    "        orange_imports=unused_param(trial, 'interv_orange_imp'),                            #\n",
    "        summer_beta=trial.suggest_float('interv_summer_beta', 0.0, 0.2, step=1e-3),         # VIRAL LOAD REDUCTION\n",
    "        winter_beta=unused_param(trial, 'interv_winter_beta'),                              #\n",
    "        summer_symp=trial.suggest_float('interv_summer_symp', 0.01, 10.0, log=True),        #\n",
    "        winter_symp=unused_param(trial, 'interv_winter_symp'),                              #\n",
    "        summer_sev=trial.suggest_float('interv_summer_sev', 0.01, 10.0, log=True),          #\n",
    "        winter_sev=unused_param(trial, 'interv_winter_sev'),                                #\n",
    "        summer_crit=trial.suggest_float('interv_summer_crit', 0.01, 10.0, log=True),        #\n",
    "        winter_crit=unused_param(trial, 'interv_winter_crit'),                              #\n",
    "        summer_death=trial.suggest_float('interv_summer_death', 0.01, 10.0, log=True),      #\n",
    "        winter_death=unused_param(trial, 'interv_winter_death')                             #\n",
    "    )\n",
    "    # define and run simulations\n",
    "    sim = cv.Sim(pars=initial_params, interventions=get_interventions(intervention_params), datafile=df)\n",
    "    msim = cv.MultiSim(sim)\n",
    "    msim.run(n_runs=n_runs)\n",
    "    # compute loss\n",
    "    mismatches = [s.compute_fit(keys=cols, weights={c: 1 for c in cols}).mismatch for s in msim.sims]\n",
    "    return sum(mismatches) / n_runs\n",
    "\n",
    "study = op.create_study()\n",
    "study.optimize(func=objective, n_trials=n_trials)"
   ]
  },
  {
   "cell_type": "code",
   "execution_count": null,
   "metadata": {},
   "outputs": [],
   "source": [
    "best_params = study.best_params\n",
    "best_params"
   ]
  },
  {
   "cell_type": "code",
   "execution_count": null,
   "metadata": {
    "pycharm": {
     "is_executing": true
    }
   },
   "outputs": [],
   "source": [
    "results = pd.DataFrame([dict(objective=t.value, **t.params) for t in study.trials])\n",
    "results = results[results['objective'] <= results['objective'].quantile(0.01)]\n",
    "results = results.drop('objective', axis=1)\n",
    "results = results.describe().loc[['count', 'min', 'max']]\n",
    "results = results.append(pd.Series(best_params, name='best'))\n",
    "results = results.transpose().astype({'count': 'int'})\n",
    "# results.to_csv(f'res/Pop{int(pop_size/1e3)}k_Scale{pop_scale}')\n",
    "results"
   ]
  },
  {
   "cell_type": "code",
   "execution_count": null,
   "metadata": {
    "pycharm": {
     "name": "#%%\n",
     "is_executing": true
    }
   },
   "outputs": [],
   "source": [
    "initial_params = {k[5:]: v for k, v in best_params.items() if k.startswith('init_')}\n",
    "initial_params.update(default_params)\n",
    "\n",
    "intervention_params = {k[7:]: v for k, v in best_params.items() if k.startswith('interv_')}\n",
    "interventions = get_interventions(intervention_params)\n",
    "\n",
    "sim = cv.Sim(pars=initial_params, interventions=interventions, datafile=df)\n",
    "msim = cv.MultiSim(sim)\n",
    "msim.run(n_runs=30)\n",
    "\n",
    "msim.mean()\n",
    "msim.plot(cols);"
   ]
  },
  {
   "cell_type": "code",
   "execution_count": null,
   "metadata": {
    "pycharm": {
     "name": "#%%\n",
     "is_executing": true
    }
   },
   "outputs": [],
   "source": [
    "_, axes = plt.subplots(1, 2, figsize=(18, 6), sharey=True)\n",
    "\n",
    "for col in cols:\n",
    "    sns.lineplot(data=df, x='date', y=col, label=col, ax=axes[0]).set(title='Real Data', ylabel='')\n",
    "    sns.lineplot(data=msim.results, x='date', y=col, label=col, ax=axes[1]).set(title='Simulated Data', ylabel='')\n",
    "\n",
    "plt.tight_layout()"
   ]
  }
 ],
 "metadata": {
  "celltoolbar": "Slideshow",
  "kernelspec": {
   "display_name": "Python 3",
   "language": "python",
   "name": "python3"
  },
  "language_info": {
   "codemirror_mode": {
    "name": "ipython",
    "version": 3
   },
   "file_extension": ".py",
   "mimetype": "text/x-python",
   "name": "python",
   "nbconvert_exporter": "python",
   "pygments_lexer": "ipython3",
   "version": "3.7.6"
  }
 },
 "nbformat": 4,
 "nbformat_minor": 1
}